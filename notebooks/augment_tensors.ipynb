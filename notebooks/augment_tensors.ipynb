{
 "cells": [
  {
   "cell_type": "code",
   "execution_count": null,
   "metadata": {},
   "outputs": [],
   "source": [
    "import tensorflow as tf"
   ]
  },
  {
   "cell_type": "code",
   "execution_count": null,
   "metadata": {},
   "outputs": [],
   "source": [
    "def crop_resize(tensor, crop_size=23):\n",
    "    \"\"\"\n",
    "    Randomly crops the input tensor.\n",
    "    Args:\n",
    "        tensor (tf.Tensor): Input tensor.\n",
    "        crop_size (int): Size of the cropped region (201 is 90% of 224 so crop by 23).\n",
    "    Returns:\n",
    "        tf.Tensor: Cropped tensor with size 224,224.\n",
    "    \"\"\"\n",
    "    height, width, _ = tensor.shape\n",
    "    x = np.random.randint(0, width - crop_size)\n",
    "    y = np.random.randint(0, height - crop_size)\n",
    "    cropped_tensor = tf.image.crop_to_bounding_box(tensor, y, x, crop_size, crop_size)\n",
    "    cropped_resized_tensor = tf.image.resize(cropped_tensor, (224, 224))\n",
    "    return cropped_resized_tensor"
   ]
  },
  {
   "cell_type": "code",
   "execution_count": null,
   "metadata": {},
   "outputs": [],
   "source": [
    "def random_flip(tensor):\n",
    "    \"\"\"\n",
    "    Randomly flips the input tensor horizontally or vertically.\n",
    "    Args:\n",
    "        tensor (tf.Tensor): Input tensor.\n",
    "    Returns:\n",
    "        tf.Tensor: Flipped tensor.\n",
    "    \"\"\"\n",
    "    if np.random.rand() < 0.5:\n",
    "        flipped_tensor = tf.image.flip_left_right(tensor)  # Horizontal flip\n",
    "    else:\n",
    "        flipped_tensor = tf.image.flip_up_down(tensor)  # Vertical flip\n",
    "    return flipped_tensor"
   ]
  },
  {
   "cell_type": "code",
   "execution_count": null,
   "metadata": {},
   "outputs": [],
   "source": [
    "def rotate_90(tensor):\n",
    "    rotated_tensor = tf.image.rot90(tensor, k=1)\n",
    "    return rotated_tensor"
   ]
  },
  {
   "cell_type": "code",
   "execution_count": null,
   "metadata": {},
   "outputs": [],
   "source": [
    "def rotate_180(tensor):\n",
    "    rotated_tensor = tf.image.rot90(tensor, k=2)\n",
    "    return rotated_tensor"
   ]
  },
  {
   "cell_type": "code",
   "execution_count": null,
   "metadata": {},
   "outputs": [],
   "source": [
    "def rotate_270(tensor):\n",
    "    rotated_tensor = tf.image.rot90(tensor, k=3)\n",
    "    return rotated_tensor"
   ]
  },
  {
   "cell_type": "code",
   "execution_count": null,
   "metadata": {},
   "outputs": [],
   "source": [
    "def augment_images(input_dir, output_dir, num_augmentations=5)\n",
    "    \"\"\"\n",
    "    Augments images in the input directory and saves them in the output directory.\n",
    "    Args:\n",
    "        input_dir (str): Path to the directory containing the input images.\n",
    "        output_dir (str): Path to the directory where the augmented images will be saved.\n",
    "        num_augmentations (int): Number of augmented images to generate for each input image.\n",
    "    \"\"\"\n",
    "    augmented_images = {}\n",
    "    for image_path in os.listdir(input_dir):\n",
    "        image = tf.io.read_file(image_path)\n",
    "        image = tf.image.decode_image(image)\n",
    "        image = tf.cast(image, tf.float32) / 255.0\n",
    "        for i in range(num_augmentations):\n",
    "            augmented_image = crop_resize(image)\n",
    "            augmented_image = random_flip(augmented_image)\n",
    "            augmented_image = rotate_90(augmented_image)\n",
    "            augmented_image = rotate_180(augmented_image)\n",
    "            augmented_image = rotate_270(augmented_image)\n",
    "            augmented_image = tf.image.convert_image_dtype(augmented_image, tf.uint8)\n",
    "            output_path = os.path.join(output_dir, f\"augmented_tensor_{key}_{i}.png\")\n",
    "            cv2.imwrite(output_path, (flipped_array * 255).astype(np.uint8))\n",
    "            print(f\"Augmented tensor {key} version {i} saved at {output_path}\")\n",
    "            augmented_images[key].append(output_path)"
   ]
  },
  {
   "cell_type": "code",
   "execution_count": null,
   "metadata": {},
   "outputs": [],
   "source": [
    "input_tensors =  #img_list\n",
    "output_directory = 'Prediction-Economic-Activity-Satelite-Imagery/_augmented_tensors'\n",
    "augment_images(input_tensors, output_directory)"
   ]
  }
 ],
 "metadata": {
  "language_info": {
   "name": "python"
  }
 },
 "nbformat": 4,
 "nbformat_minor": 2
}
