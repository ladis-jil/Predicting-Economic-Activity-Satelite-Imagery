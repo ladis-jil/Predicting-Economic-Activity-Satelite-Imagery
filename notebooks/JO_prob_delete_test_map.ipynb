{
 "cells": [
  {
   "cell_type": "code",
   "execution_count": 8,
   "metadata": {},
   "outputs": [],
   "source": [
    "import math\n",
    "import requests\n",
    "from PIL import Image\n",
    "from io import BytesIO"
   ]
  },
  {
   "cell_type": "code",
   "execution_count": 51,
   "metadata": {},
   "outputs": [],
   "source": [
    "def calculate_box(lat_center, lon_center, distance_km):\n",
    "    # Convert distance to degrees\n",
    "    delta_lat = distance_km / 111  # 1 degree of latitude is approximately 111 km\n",
    "    delta_lon = distance_km / (111 * math.cos(math.radians(lat_center)))\n",
    "\n",
    "    # Calculate corner points\n",
    "    top_left = (lat_center + delta_lat, lon_center - delta_lon)\n",
    "    top_right = (lat_center + delta_lat, lon_center + delta_lon)\n",
    "    bottom_left = (lat_center - delta_lat, lon_center - delta_lon)\n",
    "    bottom_right = (lat_center - delta_lat, lon_center + delta_lon)\n",
    "\n",
    "    return top_left, top_right, bottom_left, bottom_right\n",
    "\n",
    "# Example usage:\n",
    "lat_center, lon_center = 9.052935, 38.735117  # Addis Ababa\n",
    "distance_km = 5  # Half of the side length to get 10 km by 10 km box"
   ]
  },
  {
   "cell_type": "code",
   "execution_count": 55,
   "metadata": {},
   "outputs": [],
   "source": [
    "coords = calculate_box(lat_center, lon_center, distance_km)"
   ]
  },
  {
   "cell_type": "code",
   "execution_count": 64,
   "metadata": {},
   "outputs": [
    {
     "name": "stdout",
     "output_type": "stream",
     "text": [
      "Image saved as 'static_map.png'\n"
     ]
    }
   ],
   "source": [
    "import requests\n",
    "from PIL import Image\n",
    "from io import BytesIO\n",
    "\n",
    "def get_static_map_image(top_left, top_right, bottom_left, bottom_right, api_key):\n",
    "    # Google Static Maps API endpoint\n",
    "    endpoint = \"https://maps.googleapis.com/maps/api/staticmap\"\n",
    "    \n",
    "    # Calculate center point\n",
    "    lat_center = (top_left[0] + bottom_right[0]) / 2\n",
    "    lon_center = (top_left[1] + bottom_right[1]) / 2\n",
    "    center = f\"{lat_center},{lon_center}\"\n",
    "\n",
    "    # Calculate the size of the map (note: max size is 640x640 for free tier)\n",
    "    width_km = haversine(top_left[0], top_left[1], top_right[0], top_right[1])\n",
    "    height_km = haversine(top_left[0], top_left[1], bottom_left[0], bottom_left[1])\n",
    "    \n",
    "    # Assuming 100 pixels per km for simplicity, adjust as needed\n",
    "    width_px = int(width_km * 100)\n",
    "    height_px = int(height_km * 100)\n",
    "    size = f\"{min(width_px, 640)}x{min(height_px, 640)}\"\n",
    "    maptype = 'satellite'\n",
    "    \n",
    "    # Construct the URL for the API request\n",
    "    url = f\"{endpoint}?center={center}&maptype={maptype}&zoom=16&size={size}&key={api_key}\"\n",
    "\n",
    "    # Send the request to the API\n",
    "    response = requests.get(url)\n",
    "    \n",
    "    if response.status_code == 200:\n",
    "        # Open the image from the response content\n",
    "        image = Image.open(BytesIO(response.content))\n",
    "        image.show()  # Display the image\n",
    "        image.save(\"static_map.png\")  # Save the image locally\n",
    "        print(\"Image saved as 'static_map.png'\")\n",
    "    else:\n",
    "        print(\"Failed to retrieve the map image:\", response.status_code)\n",
    "\n",
    "def haversine(lat1, lon1, lat2, lon2):\n",
    "    # Haversine formula to calculate the distance between two points on the Earth\n",
    "    R = 6371  # Earth radius in kilometers\n",
    "    dlat = math.radians(lat2 - lat1)\n",
    "    dlon = math.radians(lon2 - lon1)\n",
    "    a = math.sin(dlat / 2) ** 2 + math.cos(math.radians(lat1)) * math.cos(math.radians(lat2)) * math.sin(dlon / 2) ** 2\n",
    "    c = 2 * math.atan2(math.sqrt(a), math.sqrt(1 - a))\n",
    "    return R * c\n",
    "\n",
    "# Example usage:\n",
    "top_left = coords[0]\n",
    "top_right = coords[1]\n",
    "bottom_left = coords[2]\n",
    "bottom_right = coords[3]\n",
    "api_key = \n",
    "\n",
    "get_static_map_image(top_left, top_right, bottom_left, bottom_right, api_key)\n"
   ]
  },
  {
   "cell_type": "code",
   "execution_count": null,
   "metadata": {},
   "outputs": [],
   "source": [
    "center = lat,lon\n",
    "circum_earth_km = 40_075\n",
    "size=size # pixels squared e.g. 256x256 pixels\n",
    "scale = scale #if we apply scale 2 rather than default = 1, hq image \n",
    "#               and size is multiplied by 2 in either direction\n",
    "#               e.g. if size = 256 and scale = 2, size(pixels) = 512x512\n",
    "\n",
    "# At zoom 0, every pixel = 156.25km (based on size of 256x256px)\n",
    "\n",
    "# To find distance of 1px:\n",
    "# len_px = 40,075(=circum_earth_km)/size * 2**n(= zoom) \n",
    "# - every zoom level increases zoom by order of magnitude 2\n",
    "\n",
    "# For 640x640 images, with 'scale' 2, 'size' = 1280\n",
    "# 'zoom' = n\n",
    "# we want: 1280len_px=10km\n",
    "# so: len_px = 1/128\n",
    "# hence find n = 'zoom':\n",
    "# 1/128 = 40,075 / (1280 * 2**n)\n",
    "# 1280 / (128 * 40,075) = 2**n\n",
    "# use logs to solve for n:\n",
    "# n = ln(10/40,075)/ln(2)"
   ]
  },
  {
   "cell_type": "code",
   "execution_count": 60,
   "metadata": {},
   "outputs": [
    {
     "data": {
      "text/plain": [
       "-11.96848680504191"
      ]
     },
     "execution_count": 60,
     "metadata": {},
     "output_type": "execute_result"
    }
   ],
   "source": [
    "math.log(10/40075)/math.log(2)"
   ]
  },
  {
   "cell_type": "code",
   "execution_count": 62,
   "metadata": {},
   "outputs": [
    {
     "name": "stdout",
     "output_type": "stream",
     "text": [
      "The required zoom level is approximately: 14.29\n"
     ]
    }
   ],
   "source": [
    "import math\n",
    "\n",
    "def calculate_zoom_level(area_km, image_pixels, scale):\n",
    "    # Earth's circumference at the equator in kilometers\n",
    "    earth_circumference = 40075.0\n",
    "\n",
    "    # Effective image resolution in pixels (considering scale factor)\n",
    "    effective_pixels = image_pixels * scale\n",
    "\n",
    "    # Ground resolution in kilometers per pixel\n",
    "    ground_resolution = area_km / effective_pixels\n",
    "\n",
    "    # Calculate the zoom level\n",
    "    zoom_level = math.log2(earth_circumference / (256 * ground_resolution))\n",
    "    \n",
    "    return zoom_level\n",
    "\n",
    "# Given parameters\n",
    "center_lat = 9.052935\n",
    "center_lon = 38.735117\n",
    "area_km = 10  # width and height of the area in kilometers\n",
    "image_pixels = 640  # width and height of the image in pixels\n",
    "scale = 2  # scale factor\n",
    "\n",
    "zoom_level = calculate_zoom_level(area_km, image_pixels, scale)\n",
    "print(f\"The required zoom level is approximately: {zoom_level:.2f}\")"
   ]
  },
  {
   "cell_type": "code",
   "execution_count": null,
   "metadata": {},
   "outputs": [],
   "source": []
  }
 ],
 "metadata": {
  "kernelspec": {
   "display_name": "Predicting-Economic-Activity-Satelite-Imagery",
   "language": "python",
   "name": "python3"
  },
  "language_info": {
   "codemirror_mode": {
    "name": "ipython",
    "version": 3
   },
   "file_extension": ".py",
   "mimetype": "text/x-python",
   "name": "python",
   "nbconvert_exporter": "python",
   "pygments_lexer": "ipython3",
   "version": "3.10.6"
  }
 },
 "nbformat": 4,
 "nbformat_minor": 2
}
