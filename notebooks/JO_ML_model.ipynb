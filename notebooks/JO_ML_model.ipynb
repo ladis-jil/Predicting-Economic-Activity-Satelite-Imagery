{
 "cells": [
  {
   "cell_type": "markdown",
   "id": "b4470356",
   "metadata": {},
   "source": [
    "## Imports"
   ]
  },
  {
   "cell_type": "code",
   "execution_count": 445,
   "id": "90cb73de",
   "metadata": {},
   "outputs": [],
   "source": [
    "import pandas as pd\n",
    "import numpy as np\n",
    "import os\n",
    "import seaborn as sns\n",
    "import matplotlib.pyplot as plt\n",
    "from sklearn.preprocessing import MinMaxScaler\n",
    "from sklearn.linear_model import LinearRegression\n",
    "from sklearn.model_selection import KFold, cross_val_score\n",
    "from sklearn.model_selection import train_test_split\n",
    "from sklearn.model_selection import cross_validate\n",
    "from sklearn.metrics import make_scorer, mean_squared_error, r2_score\n"
   ]
  },
  {
   "cell_type": "markdown",
   "id": "3eb0d05c",
   "metadata": {},
   "source": [
    "# Preliminary Analysis and Baseline Modelling\n",
    "\n",
    "## Data Download and Cleaning"
   ]
  },
  {
   "cell_type": "code",
   "execution_count": 184,
   "id": "75959d57",
   "metadata": {},
   "outputs": [],
   "source": [
    "# load a csv called data.csv with the separation character ','\n",
    "\n",
    "geo_data = pd.read_csv('raw_data/geo_eth.csv', sep=',')\n",
    "cons_data = pd.read_csv('raw_data/cons_eth.csv', sep=',')"
   ]
  },
  {
   "cell_type": "code",
   "execution_count": 251,
   "id": "f7815302",
   "metadata": {},
   "outputs": [
    {
     "data": {
      "text/plain": [
       "237"
      ]
     },
     "execution_count": 251,
     "metadata": {},
     "output_type": "execute_result"
    }
   ],
   "source": [
    "# search for null values in consumption per capita column\n",
    "cons_data['total_cons_ann'].isna().sum()"
   ]
  },
  {
   "cell_type": "code",
   "execution_count": 325,
   "id": "a4eb713d",
   "metadata": {},
   "outputs": [
    {
     "data": {
      "text/plain": [
       "0    42\n",
       "Name: count, dtype: int64"
      ]
     },
     "execution_count": 325,
     "metadata": {},
     "output_type": "execute_result"
    }
   ],
   "source": [
    "# search for null values in our geo-data column\n",
    "geo_data.isna().sum().value_counts()"
   ]
  },
  {
   "cell_type": "code",
   "execution_count": 323,
   "id": "00d30265",
   "metadata": {},
   "outputs": [],
   "source": [
    "cons_corr = cons_data.drop(columns=['household_id','household_id2','ea_id','ea_id2']).corr()"
   ]
  },
  {
   "cell_type": "code",
   "execution_count": 326,
   "id": "a55c9ddc",
   "metadata": {},
   "outputs": [
    {
     "data": {
      "text/html": [
       "<div>\n",
       "<style scoped>\n",
       "    .dataframe tbody tr th:only-of-type {\n",
       "        vertical-align: middle;\n",
       "    }\n",
       "\n",
       "    .dataframe tbody tr th {\n",
       "        vertical-align: top;\n",
       "    }\n",
       "\n",
       "    .dataframe thead th {\n",
       "        text-align: right;\n",
       "    }\n",
       "</style>\n",
       "<table border=\"1\" class=\"dataframe\">\n",
       "  <thead>\n",
       "    <tr style=\"text-align: right;\">\n",
       "      <th></th>\n",
       "      <th>saq01</th>\n",
       "      <th>rural</th>\n",
       "      <th>pw_w3</th>\n",
       "      <th>adulteq</th>\n",
       "      <th>hh_size</th>\n",
       "      <th>no_conv</th>\n",
       "      <th>no_cons</th>\n",
       "      <th>food_cons_ann</th>\n",
       "      <th>nonfood_cons_ann</th>\n",
       "      <th>educ_cons_ann</th>\n",
       "      <th>total_cons_ann</th>\n",
       "      <th>price_index_hce</th>\n",
       "      <th>nom_totcons_aeq</th>\n",
       "      <th>cons_quint</th>\n",
       "    </tr>\n",
       "  </thead>\n",
       "  <tbody>\n",
       "    <tr>\n",
       "      <th>saq01</th>\n",
       "      <td>1.000000</td>\n",
       "      <td>NaN</td>\n",
       "      <td>NaN</td>\n",
       "      <td>NaN</td>\n",
       "      <td>NaN</td>\n",
       "      <td>NaN</td>\n",
       "      <td>NaN</td>\n",
       "      <td>NaN</td>\n",
       "      <td>NaN</td>\n",
       "      <td>NaN</td>\n",
       "      <td>NaN</td>\n",
       "      <td>0.627601</td>\n",
       "      <td>NaN</td>\n",
       "      <td>NaN</td>\n",
       "    </tr>\n",
       "    <tr>\n",
       "      <th>rural</th>\n",
       "      <td>NaN</td>\n",
       "      <td>1.000000</td>\n",
       "      <td>NaN</td>\n",
       "      <td>NaN</td>\n",
       "      <td>NaN</td>\n",
       "      <td>NaN</td>\n",
       "      <td>NaN</td>\n",
       "      <td>NaN</td>\n",
       "      <td>0.336731</td>\n",
       "      <td>0.299424</td>\n",
       "      <td>NaN</td>\n",
       "      <td>0.340181</td>\n",
       "      <td>0.347208</td>\n",
       "      <td>0.426672</td>\n",
       "    </tr>\n",
       "    <tr>\n",
       "      <th>pw_w3</th>\n",
       "      <td>NaN</td>\n",
       "      <td>NaN</td>\n",
       "      <td>1.0</td>\n",
       "      <td>NaN</td>\n",
       "      <td>NaN</td>\n",
       "      <td>NaN</td>\n",
       "      <td>NaN</td>\n",
       "      <td>NaN</td>\n",
       "      <td>NaN</td>\n",
       "      <td>NaN</td>\n",
       "      <td>NaN</td>\n",
       "      <td>NaN</td>\n",
       "      <td>NaN</td>\n",
       "      <td>NaN</td>\n",
       "    </tr>\n",
       "    <tr>\n",
       "      <th>adulteq</th>\n",
       "      <td>NaN</td>\n",
       "      <td>NaN</td>\n",
       "      <td>NaN</td>\n",
       "      <td>1.000000</td>\n",
       "      <td>0.978487</td>\n",
       "      <td>NaN</td>\n",
       "      <td>NaN</td>\n",
       "      <td>NaN</td>\n",
       "      <td>NaN</td>\n",
       "      <td>NaN</td>\n",
       "      <td>0.251578</td>\n",
       "      <td>NaN</td>\n",
       "      <td>NaN</td>\n",
       "      <td>NaN</td>\n",
       "    </tr>\n",
       "    <tr>\n",
       "      <th>hh_size</th>\n",
       "      <td>NaN</td>\n",
       "      <td>NaN</td>\n",
       "      <td>NaN</td>\n",
       "      <td>0.978487</td>\n",
       "      <td>1.000000</td>\n",
       "      <td>NaN</td>\n",
       "      <td>NaN</td>\n",
       "      <td>NaN</td>\n",
       "      <td>NaN</td>\n",
       "      <td>NaN</td>\n",
       "      <td>NaN</td>\n",
       "      <td>NaN</td>\n",
       "      <td>NaN</td>\n",
       "      <td>NaN</td>\n",
       "    </tr>\n",
       "    <tr>\n",
       "      <th>no_conv</th>\n",
       "      <td>NaN</td>\n",
       "      <td>NaN</td>\n",
       "      <td>NaN</td>\n",
       "      <td>NaN</td>\n",
       "      <td>NaN</td>\n",
       "      <td>1.0</td>\n",
       "      <td>NaN</td>\n",
       "      <td>NaN</td>\n",
       "      <td>NaN</td>\n",
       "      <td>NaN</td>\n",
       "      <td>NaN</td>\n",
       "      <td>NaN</td>\n",
       "      <td>NaN</td>\n",
       "      <td>NaN</td>\n",
       "    </tr>\n",
       "    <tr>\n",
       "      <th>no_cons</th>\n",
       "      <td>NaN</td>\n",
       "      <td>NaN</td>\n",
       "      <td>NaN</td>\n",
       "      <td>NaN</td>\n",
       "      <td>NaN</td>\n",
       "      <td>NaN</td>\n",
       "      <td>1.0</td>\n",
       "      <td>NaN</td>\n",
       "      <td>NaN</td>\n",
       "      <td>NaN</td>\n",
       "      <td>NaN</td>\n",
       "      <td>NaN</td>\n",
       "      <td>NaN</td>\n",
       "      <td>NaN</td>\n",
       "    </tr>\n",
       "    <tr>\n",
       "      <th>food_cons_ann</th>\n",
       "      <td>NaN</td>\n",
       "      <td>NaN</td>\n",
       "      <td>NaN</td>\n",
       "      <td>NaN</td>\n",
       "      <td>NaN</td>\n",
       "      <td>NaN</td>\n",
       "      <td>NaN</td>\n",
       "      <td>1.000000</td>\n",
       "      <td>0.282397</td>\n",
       "      <td>NaN</td>\n",
       "      <td>0.947533</td>\n",
       "      <td>NaN</td>\n",
       "      <td>0.750266</td>\n",
       "      <td>0.340953</td>\n",
       "    </tr>\n",
       "    <tr>\n",
       "      <th>nonfood_cons_ann</th>\n",
       "      <td>NaN</td>\n",
       "      <td>0.336731</td>\n",
       "      <td>NaN</td>\n",
       "      <td>NaN</td>\n",
       "      <td>NaN</td>\n",
       "      <td>NaN</td>\n",
       "      <td>NaN</td>\n",
       "      <td>0.282397</td>\n",
       "      <td>1.000000</td>\n",
       "      <td>0.360595</td>\n",
       "      <td>0.559812</td>\n",
       "      <td>NaN</td>\n",
       "      <td>0.441820</td>\n",
       "      <td>0.368158</td>\n",
       "    </tr>\n",
       "    <tr>\n",
       "      <th>educ_cons_ann</th>\n",
       "      <td>NaN</td>\n",
       "      <td>0.299424</td>\n",
       "      <td>NaN</td>\n",
       "      <td>NaN</td>\n",
       "      <td>NaN</td>\n",
       "      <td>NaN</td>\n",
       "      <td>NaN</td>\n",
       "      <td>NaN</td>\n",
       "      <td>0.360595</td>\n",
       "      <td>1.000000</td>\n",
       "      <td>0.359884</td>\n",
       "      <td>NaN</td>\n",
       "      <td>0.254274</td>\n",
       "      <td>NaN</td>\n",
       "    </tr>\n",
       "    <tr>\n",
       "      <th>total_cons_ann</th>\n",
       "      <td>NaN</td>\n",
       "      <td>NaN</td>\n",
       "      <td>NaN</td>\n",
       "      <td>0.251578</td>\n",
       "      <td>NaN</td>\n",
       "      <td>NaN</td>\n",
       "      <td>NaN</td>\n",
       "      <td>0.947533</td>\n",
       "      <td>0.559812</td>\n",
       "      <td>0.359884</td>\n",
       "      <td>1.000000</td>\n",
       "      <td>NaN</td>\n",
       "      <td>0.788203</td>\n",
       "      <td>0.414654</td>\n",
       "    </tr>\n",
       "    <tr>\n",
       "      <th>price_index_hce</th>\n",
       "      <td>0.627601</td>\n",
       "      <td>0.340181</td>\n",
       "      <td>NaN</td>\n",
       "      <td>NaN</td>\n",
       "      <td>NaN</td>\n",
       "      <td>NaN</td>\n",
       "      <td>NaN</td>\n",
       "      <td>NaN</td>\n",
       "      <td>NaN</td>\n",
       "      <td>NaN</td>\n",
       "      <td>NaN</td>\n",
       "      <td>1.000000</td>\n",
       "      <td>NaN</td>\n",
       "      <td>0.262650</td>\n",
       "    </tr>\n",
       "    <tr>\n",
       "      <th>nom_totcons_aeq</th>\n",
       "      <td>NaN</td>\n",
       "      <td>0.347208</td>\n",
       "      <td>NaN</td>\n",
       "      <td>NaN</td>\n",
       "      <td>NaN</td>\n",
       "      <td>NaN</td>\n",
       "      <td>NaN</td>\n",
       "      <td>0.750266</td>\n",
       "      <td>0.441820</td>\n",
       "      <td>0.254274</td>\n",
       "      <td>0.788203</td>\n",
       "      <td>NaN</td>\n",
       "      <td>1.000000</td>\n",
       "      <td>0.557150</td>\n",
       "    </tr>\n",
       "    <tr>\n",
       "      <th>cons_quint</th>\n",
       "      <td>NaN</td>\n",
       "      <td>0.426672</td>\n",
       "      <td>NaN</td>\n",
       "      <td>NaN</td>\n",
       "      <td>NaN</td>\n",
       "      <td>NaN</td>\n",
       "      <td>NaN</td>\n",
       "      <td>0.340953</td>\n",
       "      <td>0.368158</td>\n",
       "      <td>NaN</td>\n",
       "      <td>0.414654</td>\n",
       "      <td>0.262650</td>\n",
       "      <td>0.557150</td>\n",
       "      <td>1.000000</td>\n",
       "    </tr>\n",
       "  </tbody>\n",
       "</table>\n",
       "</div>"
      ],
      "text/plain": [
       "                     saq01     rural  pw_w3   adulteq   hh_size  no_conv  \\\n",
       "saq01             1.000000       NaN    NaN       NaN       NaN      NaN   \n",
       "rural                  NaN  1.000000    NaN       NaN       NaN      NaN   \n",
       "pw_w3                  NaN       NaN    1.0       NaN       NaN      NaN   \n",
       "adulteq                NaN       NaN    NaN  1.000000  0.978487      NaN   \n",
       "hh_size                NaN       NaN    NaN  0.978487  1.000000      NaN   \n",
       "no_conv                NaN       NaN    NaN       NaN       NaN      1.0   \n",
       "no_cons                NaN       NaN    NaN       NaN       NaN      NaN   \n",
       "food_cons_ann          NaN       NaN    NaN       NaN       NaN      NaN   \n",
       "nonfood_cons_ann       NaN  0.336731    NaN       NaN       NaN      NaN   \n",
       "educ_cons_ann          NaN  0.299424    NaN       NaN       NaN      NaN   \n",
       "total_cons_ann         NaN       NaN    NaN  0.251578       NaN      NaN   \n",
       "price_index_hce   0.627601  0.340181    NaN       NaN       NaN      NaN   \n",
       "nom_totcons_aeq        NaN  0.347208    NaN       NaN       NaN      NaN   \n",
       "cons_quint             NaN  0.426672    NaN       NaN       NaN      NaN   \n",
       "\n",
       "                  no_cons  food_cons_ann  nonfood_cons_ann  educ_cons_ann  \\\n",
       "saq01                 NaN            NaN               NaN            NaN   \n",
       "rural                 NaN            NaN          0.336731       0.299424   \n",
       "pw_w3                 NaN            NaN               NaN            NaN   \n",
       "adulteq               NaN            NaN               NaN            NaN   \n",
       "hh_size               NaN            NaN               NaN            NaN   \n",
       "no_conv               NaN            NaN               NaN            NaN   \n",
       "no_cons               1.0            NaN               NaN            NaN   \n",
       "food_cons_ann         NaN       1.000000          0.282397            NaN   \n",
       "nonfood_cons_ann      NaN       0.282397          1.000000       0.360595   \n",
       "educ_cons_ann         NaN            NaN          0.360595       1.000000   \n",
       "total_cons_ann        NaN       0.947533          0.559812       0.359884   \n",
       "price_index_hce       NaN            NaN               NaN            NaN   \n",
       "nom_totcons_aeq       NaN       0.750266          0.441820       0.254274   \n",
       "cons_quint            NaN       0.340953          0.368158            NaN   \n",
       "\n",
       "                  total_cons_ann  price_index_hce  nom_totcons_aeq  cons_quint  \n",
       "saq01                        NaN         0.627601              NaN         NaN  \n",
       "rural                        NaN         0.340181         0.347208    0.426672  \n",
       "pw_w3                        NaN              NaN              NaN         NaN  \n",
       "adulteq                 0.251578              NaN              NaN         NaN  \n",
       "hh_size                      NaN              NaN              NaN         NaN  \n",
       "no_conv                      NaN              NaN              NaN         NaN  \n",
       "no_cons                      NaN              NaN              NaN         NaN  \n",
       "food_cons_ann           0.947533              NaN         0.750266    0.340953  \n",
       "nonfood_cons_ann        0.559812              NaN         0.441820    0.368158  \n",
       "educ_cons_ann           0.359884              NaN         0.254274         NaN  \n",
       "total_cons_ann          1.000000              NaN         0.788203    0.414654  \n",
       "price_index_hce              NaN         1.000000              NaN    0.262650  \n",
       "nom_totcons_aeq         0.788203              NaN         1.000000    0.557150  \n",
       "cons_quint              0.414654         0.262650         0.557150    1.000000  "
      ]
     },
     "execution_count": 326,
     "metadata": {},
     "output_type": "execute_result"
    }
   ],
   "source": [
    "# Search for correlation over 0.25 in consumption dataframe in order to ascertain if there are any relationships worth investigating.\n",
    "cons_corr[cons_corr>0.25]"
   ]
  },
  {
   "cell_type": "code",
   "execution_count": 29,
   "id": "4beaf474",
   "metadata": {},
   "outputs": [],
   "source": [
    "\n",
    "# COUNTRIES_DIR = os.path.join(\"..\", 'data', 'countries')"
   ]
  },
  {
   "cell_type": "code",
   "execution_count": 30,
   "id": "ad9d4353",
   "metadata": {},
   "outputs": [],
   "source": [
    "# def process_ethiopia():\n",
    "\n",
    "#     consumption_pc_col = 'total_cons_ann' # per capita\n",
    "#     hhsize_col = 'hh_size' # people in household\n",
    "\n",
    "#     lat_col = 'lat_dd_mod'\n",
    "#     lon_col = 'lon_dd_mod'\n",
    "\n",
    "#     # purchasing power parity for ethiopia in 2015 (https://data.worldbank.org/indicator/PA.NUS.PRVT.PP?locations=ET)\n",
    "#     ppp = 7.882\n",
    "    \n",
    "#     # for file in [consumption_file, geovariables_file]:\n",
    "#     #     assert os.path.isfile(os.path.join(lsms_dir, file)), print(f'Could not find {file}')\n",
    "    \n",
    "#     df = cons_data\n",
    "#     df['cons_ph'] = df[consumption_pc_col] * df[hhsize_col]\n",
    "#     df['pph'] = df[hhsize_col]\n",
    "#     df['cons_ph'] = df['cons_ph'] / ppp / 365\n",
    "#     df = df[['household_id2', 'cons_ph', 'pph']]\n",
    "\n",
    "#     df_geo = geo_data\n",
    "#     df_cords = df_geo[['household_id2', lat_col, lon_col]]\n",
    "#     df_cords.rename(columns={lat_col: 'cluster_lat', lon_col: 'cluster_lon'}, inplace=True)\n",
    "#     df_combined = pd.merge(df, df_cords, on='household_id2')\n",
    "#     df_combined.drop(['household_id2'], axis=1, inplace=True)\n",
    "#     df_combined.dropna(inplace=True) # can't use na values\n",
    "  \n",
    "#     df_clusters = df_combined.groupby(['cluster_lat', 'cluster_lon']).sum().reset_index()\n",
    "#     df_clusters['cons_pc'] = df_clusters['cons_ph'] / df_clusters['pph'] # divides total cluster income by people\n",
    "#     df_clusters['country'] = 'eth'\n",
    "#     return df_clusters[['country', 'cluster_lat', 'cluster_lon', 'cons_pc']]"
   ]
  },
  {
   "cell_type": "code",
   "execution_count": 205,
   "id": "2485befc",
   "metadata": {},
   "outputs": [
    {
     "data": {
      "text/plain": [
       "Index(['household_id', 'household_id2', 'ea_id', 'ea_id2_x', 'saq01', 'rural',\n",
       "       'pw_w3', 'adulteq', 'hh_size', 'no_conv', 'no_cons', 'food_cons_ann',\n",
       "       'nonfood_cons_ann', 'educ_cons_ann', 'total_cons_ann',\n",
       "       'price_index_hce', 'nom_totcons_aeq', 'cons_quint', 'ea_id2_y',\n",
       "       'dist_road', 'dist_popcenter', 'dist_market', 'dist_borderpost',\n",
       "       'dist_admctr', 'pop_density', 'af_bio_1', 'af_bio_8', 'af_bio_12',\n",
       "       'af_bio_13', 'af_bio_16', 'fsrad3_agpct', 'fsrad3_lcmaj', 'ssa_aez09',\n",
       "       'srtm', 'twi', 'srtm_5_15', 'sq1', 'sq2', 'sq3', 'sq4', 'sq5', 'sq6',\n",
       "       'sq7', 'anntot_avg', 'wetQ_avg', 'wetQ_avgstart', 'h2015_tot',\n",
       "       'h2015_wetQ', 'h2015_wetQstart', 'eviarea_avg', 'evimax_avg', 'grn_avg',\n",
       "       'sen_avg', 'h2015_eviarea', 'h2015_evimax', 'h2015_grn', 'h2015_sen',\n",
       "       'lat_dd_mod', 'lon_dd_mod'],\n",
       "      dtype='object')"
      ]
     },
     "execution_count": 205,
     "metadata": {},
     "output_type": "execute_result"
    }
   ],
   "source": [
    "# merge consumption ('cons-eth.csv') and geo-data ('geo-eth.csv') dataframes on 'household_id2'\n",
    "merged_df = cons_data.merge(geo_data,how='inner',on='household_id2')\n",
    "merged_df.columns"
   ]
  },
  {
   "cell_type": "code",
   "execution_count": 221,
   "id": "eed57568",
   "metadata": {},
   "outputs": [],
   "source": [
    "#create a stripped out dataframe with just consumption_pc and cluster latitude and longitude as columns\n",
    "m_df = merged_df[['total_cons_ann','lat_dd_mod', 'lon_dd_mod']]"
   ]
  },
  {
   "cell_type": "code",
   "execution_count": 254,
   "id": "34ab3c0f",
   "metadata": {},
   "outputs": [
    {
     "name": "stderr",
     "output_type": "stream",
     "text": [
      "/var/folders/78/kf_z610d5vvb7ch9l49_lghh0000gn/T/ipykernel_32096/3168661069.py:1: SettingWithCopyWarning: \n",
      "A value is trying to be set on a copy of a slice from a DataFrame\n",
      "\n",
      "See the caveats in the documentation: https://pandas.pydata.org/pandas-docs/stable/user_guide/indexing.html#returning-a-view-versus-a-copy\n",
      "  m_df.dropna(inplace=True)\n"
     ]
    }
   ],
   "source": [
    "#remove null values\n",
    "m_df.dropna(inplace=True)"
   ]
  },
  {
   "cell_type": "code",
   "execution_count": 327,
   "id": "4e2c2573",
   "metadata": {},
   "outputs": [],
   "source": [
    "import math\n",
    "def create_space(lat, lon, s=10):\n",
    "    \"\"\"Creates a s km x s km square centered on (lat, lon)\"\"\"\n",
    "    v = (180/math.pi)*(500/6378137)*s # roughly 0.045 for s=10\n",
    "    return lat - v, lon - v, lat + v, lon + v"
   ]
  },
  {
   "cell_type": "code",
   "execution_count": 328,
   "id": "bcf5837b",
   "metadata": {},
   "outputs": [
    {
     "name": "stdout",
     "output_type": "stream",
     "text": [
      "(18000, 28800)\n"
     ]
    }
   ],
   "source": [
    "# format the tif image \n",
    "import rasterio\n",
    "\n",
    "url_image = \"raw_data/picture.tif\"\n",
    "with rasterio.open(url_image) as src: # open .tif image and access the image data and metadata\n",
    "    image_data = src.read(1)  # read the first band of image data (grey-scale so only one band required to be read)\n",
    "    transform = src.transform # retrieve affine transformation matrix. Matrix used to convert pixel co-ords to spatial co-ords.\n",
    "    tif_array = np.squeeze(image_data) # remove 1D entries from array. Likely no effect on image_data's shape\n",
    "\n",
    "    print(tif_array.shape)"
   ]
  },
  {
   "cell_type": "code",
   "execution_count": 336,
   "id": "ddc33a35",
   "metadata": {},
   "outputs": [],
   "source": [
    "def custom_rasterio_open(min_lon, min_lat):\n",
    "    # apply inverse transformation to spatial co-ords (min_lat, min_lon) to convert into pixel co-ords.\n",
    "    xminPixel, ymaxPixel = ~transform * (min_lon, min_lat)\n",
    "    # Convert to integers\n",
    "    xminPixel, ymaxPixel = int(xminPixel), int(ymaxPixel)\n",
    "    \n",
    "    return xminPixel, ymaxPixel"
   ]
  },
  {
   "cell_type": "code",
   "execution_count": 335,
   "id": "57e74402",
   "metadata": {},
   "outputs": [
    {
     "name": "stderr",
     "output_type": "stream",
     "text": [
      "/var/folders/78/kf_z610d5vvb7ch9l49_lghh0000gn/T/ipykernel_32096/3710704193.py:2: SettingWithCopyWarning: \n",
      "A value is trying to be set on a copy of a slice from a DataFrame\n",
      "\n",
      "See the caveats in the documentation: https://pandas.pydata.org/pandas-docs/stable/user_guide/indexing.html#returning-a-view-versus-a-copy\n",
      "  m_df.rename(columns={'total_cons_ann':'cons_pc','lat_dd_mod':'cluster_lat','lon_dd_mod':'cluster_lon'},inplace=True)\n"
     ]
    }
   ],
   "source": [
    "# rename columns for ease of reference and in order to add nightlight luminousity data below to the dataframe\n",
    "m_df.rename(columns={'total_cons_ann':'cons_pc','lat_dd_mod':'cluster_lat','lon_dd_mod':'cluster_lon'},inplace=True)"
   ]
  },
  {
   "cell_type": "code",
   "execution_count": 331,
   "id": "44ec3164",
   "metadata": {},
   "outputs": [],
   "source": [
    "def add_nightlights(df, tif_array):\n",
    "    ''' \n",
    "    This takes a dataframe with columns cluster_lat, cluster_lon and finds the average \n",
    "    nightlights in 2015 using a 10kmx10km box around the point\n",
    "    \n",
    "    Try all the nighlights tifs until a match is found, or none are left upon which an error is raised\n",
    "    '''\n",
    "    cluster_nightlights = []\n",
    "    # for each row in desired dataframe that includes cluster lat and lon\n",
    "    for i,r in df.iterrows():\n",
    "        # create the 10x10 km box around cluster lat and lon\n",
    "        min_lat, min_lon, max_lat, max_lon = create_space(r.cluster_lat, r.cluster_lon)\n",
    "        # Use custom_rasterio_open to add pixel co-ords\n",
    "        xminPixel, ymaxPixel = custom_rasterio_open(min_lon, min_lat)\n",
    "        xmaxPixel, yminPixel = custom_rasterio_open(max_lon, max_lat)\n",
    "        # Sense-check\n",
    "        assert xminPixel < xmaxPixel, print(r.cluster_lat, r.cluster_lon)\n",
    "        assert yminPixel < ymaxPixel, print(r.cluster_lat, r.cluster_lon)\n",
    "        if xminPixel < 0 or xmaxPixel >= tif_array.shape[1]:\n",
    "            print(f\"no match for {r.cluster_lat}, {r.cluster_lon}\")\n",
    "            raise ValueError()\n",
    "        elif yminPixel < 0 or ymaxPixel >= tif_array.shape[0]:\n",
    "            print(f\"no match for {r.cluster_lat}, {r.cluster_lon}\")\n",
    "            raise ValueError()\n",
    "        # Ensure pixel co-ords are integers\n",
    "        xminPixel, yminPixel, xmaxPixel, ymaxPixel = int(xminPixel), int(yminPixel), int(xmaxPixel), int(ymaxPixel)\n",
    "        # append the average luminousity for each data frame row to a list\n",
    "        cluster_nightlights.append(tif_array[yminPixel:ymaxPixel,xminPixel:xmaxPixel].mean())\n",
    "    # covert the list to a dataframe column    \n",
    "    df['nightlights'] = cluster_nightlights\n",
    "    # Ensure it is presented in float64\n",
    "    df['nightlights'] = df['nightlights'].astype('float64')\n",
    "    "
   ]
  },
  {
   "cell_type": "code",
   "execution_count": 332,
   "id": "0ee000c4",
   "metadata": {},
   "outputs": [
    {
     "name": "stderr",
     "output_type": "stream",
     "text": [
      "/var/folders/78/kf_z610d5vvb7ch9l49_lghh0000gn/T/ipykernel_32096/3042635974.py:25: SettingWithCopyWarning: \n",
      "A value is trying to be set on a copy of a slice from a DataFrame.\n",
      "Try using .loc[row_indexer,col_indexer] = value instead\n",
      "\n",
      "See the caveats in the documentation: https://pandas.pydata.org/pandas-docs/stable/user_guide/indexing.html#returning-a-view-versus-a-copy\n",
      "  df['nightlights'] = cluster_nightlights\n",
      "/var/folders/78/kf_z610d5vvb7ch9l49_lghh0000gn/T/ipykernel_32096/3042635974.py:26: SettingWithCopyWarning: \n",
      "A value is trying to be set on a copy of a slice from a DataFrame.\n",
      "Try using .loc[row_indexer,col_indexer] = value instead\n",
      "\n",
      "See the caveats in the documentation: https://pandas.pydata.org/pandas-docs/stable/user_guide/indexing.html#returning-a-view-versus-a-copy\n",
      "  df['nightlights'] = df['nightlights'].astype('float64')\n"
     ]
    }
   ],
   "source": [
    "# Finally add the column to our dataframe\n",
    "add_nightlights(m_df,tif_array)"
   ]
  },
  {
   "cell_type": "code",
   "execution_count": 341,
   "id": "c021da03",
   "metadata": {},
   "outputs": [],
   "source": [
    "# define a function that finds the indices of z-score outliers. Set 3sd as the threshold for outliers\n",
    "def z_score_outliers(data, threshold=3):\n",
    "    mean = np.mean(data)\n",
    "    std_dev = np.std(data)\n",
    "    z_scores = [(x - mean) / std_dev for x in data]\n",
    "    return np.where(np.abs(z_scores) > threshold)[0]"
   ]
  },
  {
   "cell_type": "code",
   "execution_count": 342,
   "id": "c2744d3c",
   "metadata": {},
   "outputs": [
    {
     "data": {
      "text/plain": [
       "array([ 280,  454,  456,  495,  499,  502,  504,  536, 1118, 1165, 1581,\n",
       "       1587, 1751, 1815, 1948, 2242, 2374, 2420, 2443, 2454, 2541, 2683,\n",
       "       3288, 3929, 3933, 3949, 3954, 3975, 3977, 3981, 3986, 4194, 4220,\n",
       "       4231, 4291, 4309, 4344, 4394, 4515, 4519, 4565, 4579, 4691, 4696])"
      ]
     },
     "execution_count": 342,
     "metadata": {},
     "output_type": "execute_result"
    }
   ],
   "source": [
    "# apply the function to cons_pc column\n",
    "z_score_outliers(m_df['cons_pc'])"
   ]
  },
  {
   "cell_type": "code",
   "execution_count": 320,
   "id": "a74e083b",
   "metadata": {},
   "outputs": [
    {
     "data": {
      "image/png": "[encoded data removed]",
      "text/plain": [
       "<Figure size 640x480 with 1 Axes>"
      ]
     },
     "metadata": {},
     "output_type": "display_data"
    }
   ],
   "source": [
    "# create a boxplot of outliers to visualise the distribution\n",
    "plt.boxplot(m_df['cons_pc'])\n",
    "plt.ylabel('cons_pc (m)');"
   ]
  },
  {
   "cell_type": "code",
   "execution_count": 299,
   "id": "740315c8",
   "metadata": {},
   "outputs": [
    {
     "name": "stderr",
     "output_type": "stream",
     "text": [
      "/var/folders/78/kf_z610d5vvb7ch9l49_lghh0000gn/T/ipykernel_32096/2880129187.py:1: SettingWithCopyWarning: \n",
      "A value is trying to be set on a copy of a slice from a DataFrame.\n",
      "Try using .loc[row_indexer,col_indexer] = value instead\n",
      "\n",
      "See the caveats in the documentation: https://pandas.pydata.org/pandas-docs/stable/user_guide/indexing.html#returning-a-view-versus-a-copy\n",
      "  m_df['cons_pc_log']=m_df['cons_pc'].apply(np.log)\n"
     ]
    }
   ],
   "source": [
    "# take logs of our consumption column in order to dampen the effects of outliers\n",
    "m_df['cons_pc_log']=m_df['cons_pc'].apply(np.log)"
   ]
  },
  {
   "cell_type": "code",
   "execution_count": 304,
   "id": "c6a3ec86",
   "metadata": {},
   "outputs": [
    {
     "name": "stderr",
     "output_type": "stream",
     "text": [
      "/var/folders/78/kf_z610d5vvb7ch9l49_lghh0000gn/T/ipykernel_32096/4055436973.py:1: SettingWithCopyWarning: \n",
      "A value is trying to be set on a copy of a slice from a DataFrame.\n",
      "Try using .loc[row_indexer,col_indexer] = value instead\n",
      "\n",
      "See the caveats in the documentation: https://pandas.pydata.org/pandas-docs/stable/user_guide/indexing.html#returning-a-view-versus-a-copy\n",
      "  m_df['rural'] = merged_df['rural']\n"
     ]
    }
   ],
   "source": [
    "m_df['rural'] = merged_df['rural']"
   ]
  },
  {
   "cell_type": "code",
   "execution_count": 306,
   "id": "d29ba3d7",
   "metadata": {},
   "outputs": [],
   "source": [
    "m_df.reset_index(inplace=True)"
   ]
  },
  {
   "cell_type": "code",
   "execution_count": 308,
   "id": "2a1072d9",
   "metadata": {},
   "outputs": [
    {
     "name": "stderr",
     "output_type": "stream",
     "text": [
      "/var/folders/78/kf_z610d5vvb7ch9l49_lghh0000gn/T/ipykernel_32096/3993068285.py:1: SettingWithCopyWarning: \n",
      "A value is trying to be set on a copy of a slice from a DataFrame\n",
      "\n",
      "See the caveats in the documentation: https://pandas.pydata.org/pandas-docs/stable/user_guide/indexing.html#returning-a-view-versus-a-copy\n",
      "  m_df.drop(columns='index',inplace=True)\n"
     ]
    },
    {
     "data": {
      "text/html": [
       "<div>\n",
       "<style scoped>\n",
       "    .dataframe tbody tr th:only-of-type {\n",
       "        vertical-align: middle;\n",
       "    }\n",
       "\n",
       "    .dataframe tbody tr th {\n",
       "        vertical-align: top;\n",
       "    }\n",
       "\n",
       "    .dataframe thead th {\n",
       "        text-align: right;\n",
       "    }\n",
       "</style>\n",
       "<table border=\"1\" class=\"dataframe\">\n",
       "  <thead>\n",
       "    <tr style=\"text-align: right;\">\n",
       "      <th></th>\n",
       "      <th>cons_pc</th>\n",
       "      <th>cluster_lat</th>\n",
       "      <th>cluster_lon</th>\n",
       "      <th>nightlights</th>\n",
       "      <th>cons_pc_log</th>\n",
       "      <th>rural</th>\n",
       "    </tr>\n",
       "  </thead>\n",
       "  <tbody>\n",
       "    <tr>\n",
       "      <th>0</th>\n",
       "      <td>2983.800049</td>\n",
       "      <td>14.353816</td>\n",
       "      <td>37.890876</td>\n",
       "      <td>0.000000</td>\n",
       "      <td>8.000953</td>\n",
       "      <td>1</td>\n",
       "    </tr>\n",
       "    <tr>\n",
       "      <th>1</th>\n",
       "      <td>13578.200195</td>\n",
       "      <td>14.353816</td>\n",
       "      <td>37.890876</td>\n",
       "      <td>0.000000</td>\n",
       "      <td>9.516221</td>\n",
       "      <td>1</td>\n",
       "    </tr>\n",
       "    <tr>\n",
       "      <th>2</th>\n",
       "      <td>9280.444336</td>\n",
       "      <td>14.353816</td>\n",
       "      <td>37.890876</td>\n",
       "      <td>0.000000</td>\n",
       "      <td>9.135665</td>\n",
       "      <td>1</td>\n",
       "    </tr>\n",
       "    <tr>\n",
       "      <th>3</th>\n",
       "      <td>11704.000000</td>\n",
       "      <td>14.353816</td>\n",
       "      <td>37.890876</td>\n",
       "      <td>0.000000</td>\n",
       "      <td>9.367686</td>\n",
       "      <td>1</td>\n",
       "    </tr>\n",
       "    <tr>\n",
       "      <th>4</th>\n",
       "      <td>14974.888672</td>\n",
       "      <td>14.353816</td>\n",
       "      <td>37.890876</td>\n",
       "      <td>0.000000</td>\n",
       "      <td>9.614130</td>\n",
       "      <td>1</td>\n",
       "    </tr>\n",
       "    <tr>\n",
       "      <th>...</th>\n",
       "      <td>...</td>\n",
       "      <td>...</td>\n",
       "      <td>...</td>\n",
       "      <td>...</td>\n",
       "      <td>...</td>\n",
       "      <td>...</td>\n",
       "    </tr>\n",
       "    <tr>\n",
       "      <th>4712</th>\n",
       "      <td>34352.882812</td>\n",
       "      <td>9.746772</td>\n",
       "      <td>42.308967</td>\n",
       "      <td>0.000000</td>\n",
       "      <td>10.444441</td>\n",
       "      <td>1</td>\n",
       "    </tr>\n",
       "    <tr>\n",
       "      <th>4713</th>\n",
       "      <td>66544.000000</td>\n",
       "      <td>9.599389</td>\n",
       "      <td>41.832341</td>\n",
       "      <td>3.519901</td>\n",
       "      <td>11.105619</td>\n",
       "      <td>1</td>\n",
       "    </tr>\n",
       "    <tr>\n",
       "      <th>4714</th>\n",
       "      <td>61628.769531</td>\n",
       "      <td>9.746772</td>\n",
       "      <td>42.308967</td>\n",
       "      <td>0.000000</td>\n",
       "      <td>11.028884</td>\n",
       "      <td>1</td>\n",
       "    </tr>\n",
       "    <tr>\n",
       "      <th>4715</th>\n",
       "      <td>18916.132812</td>\n",
       "      <td>9.746772</td>\n",
       "      <td>42.308967</td>\n",
       "      <td>0.000000</td>\n",
       "      <td>9.847770</td>\n",
       "      <td>1</td>\n",
       "    </tr>\n",
       "    <tr>\n",
       "      <th>4716</th>\n",
       "      <td>22179.785156</td>\n",
       "      <td>9.746772</td>\n",
       "      <td>42.308967</td>\n",
       "      <td>0.000000</td>\n",
       "      <td>10.006937</td>\n",
       "      <td>1</td>\n",
       "    </tr>\n",
       "  </tbody>\n",
       "</table>\n",
       "<p>4717 rows × 6 columns</p>\n",
       "</div>"
      ],
      "text/plain": [
       "           cons_pc  cluster_lat  cluster_lon  nightlights  cons_pc_log  rural\n",
       "0      2983.800049    14.353816    37.890876     0.000000     8.000953      1\n",
       "1     13578.200195    14.353816    37.890876     0.000000     9.516221      1\n",
       "2      9280.444336    14.353816    37.890876     0.000000     9.135665      1\n",
       "3     11704.000000    14.353816    37.890876     0.000000     9.367686      1\n",
       "4     14974.888672    14.353816    37.890876     0.000000     9.614130      1\n",
       "...            ...          ...          ...          ...          ...    ...\n",
       "4712  34352.882812     9.746772    42.308967     0.000000    10.444441      1\n",
       "4713  66544.000000     9.599389    41.832341     3.519901    11.105619      1\n",
       "4714  61628.769531     9.746772    42.308967     0.000000    11.028884      1\n",
       "4715  18916.132812     9.746772    42.308967     0.000000     9.847770      1\n",
       "4716  22179.785156     9.746772    42.308967     0.000000    10.006937      1\n",
       "\n",
       "[4717 rows x 6 columns]"
      ]
     },
     "execution_count": 308,
     "metadata": {},
     "output_type": "execute_result"
    }
   ],
   "source": [
    "m_df.drop(columns='index',inplace=True)\n",
    "m_df"
   ]
  },
  {
   "cell_type": "code",
   "execution_count": 353,
   "id": "84930674",
   "metadata": {},
   "outputs": [
    {
     "data": {
      "text/html": [
       "<div>\n",
       "<style scoped>\n",
       "    .dataframe tbody tr th:only-of-type {\n",
       "        vertical-align: middle;\n",
       "    }\n",
       "\n",
       "    .dataframe tbody tr th {\n",
       "        vertical-align: top;\n",
       "    }\n",
       "\n",
       "    .dataframe thead th {\n",
       "        text-align: right;\n",
       "    }\n",
       "</style>\n",
       "<table border=\"1\" class=\"dataframe\">\n",
       "  <thead>\n",
       "    <tr style=\"text-align: right;\">\n",
       "      <th></th>\n",
       "      <th>cons_pc</th>\n",
       "      <th>nightlights</th>\n",
       "      <th>cons_pc_log</th>\n",
       "      <th>rural</th>\n",
       "    </tr>\n",
       "  </thead>\n",
       "  <tbody>\n",
       "    <tr>\n",
       "      <th>cons_pc</th>\n",
       "      <td>1.000000</td>\n",
       "      <td>0.177851</td>\n",
       "      <td>0.693711</td>\n",
       "      <td>0.220842</td>\n",
       "    </tr>\n",
       "    <tr>\n",
       "      <th>nightlights</th>\n",
       "      <td>0.177851</td>\n",
       "      <td>1.000000</td>\n",
       "      <td>0.205810</td>\n",
       "      <td>0.489399</td>\n",
       "    </tr>\n",
       "    <tr>\n",
       "      <th>cons_pc_log</th>\n",
       "      <td>0.693711</td>\n",
       "      <td>0.205810</td>\n",
       "      <td>1.000000</td>\n",
       "      <td>0.262293</td>\n",
       "    </tr>\n",
       "    <tr>\n",
       "      <th>rural</th>\n",
       "      <td>0.220842</td>\n",
       "      <td>0.489399</td>\n",
       "      <td>0.262293</td>\n",
       "      <td>1.000000</td>\n",
       "    </tr>\n",
       "  </tbody>\n",
       "</table>\n",
       "</div>"
      ],
      "text/plain": [
       "              cons_pc  nightlights  cons_pc_log     rural\n",
       "cons_pc      1.000000     0.177851     0.693711  0.220842\n",
       "nightlights  0.177851     1.000000     0.205810  0.489399\n",
       "cons_pc_log  0.693711     0.205810     1.000000  0.262293\n",
       "rural        0.220842     0.489399     0.262293  1.000000"
      ]
     },
     "execution_count": 353,
     "metadata": {},
     "output_type": "execute_result"
    }
   ],
   "source": [
    "# View correlation of consumption, nightlight luminousity, log consumption and rural classification\n",
    "m_df[['cons_pc','nightlights','cons_pc_log','rural']].corr()"
   ]
  },
  {
   "cell_type": "code",
   "execution_count": 382,
   "id": "08944c23",
   "metadata": {},
   "outputs": [
    {
     "data": {
      "image/png": "[encoded data removed]",
      "text/plain": [
       "<Figure size 800x600 with 2 Axes>"
      ]
     },
     "metadata": {},
     "output_type": "display_data"
    }
   ],
   "source": [
    "# Compute the correlation matrix\n",
    "corr_matrix = m_df[['cons_pc', 'cons_pc_log', 'nightlights', 'rural']].corr()\n",
    "\n",
    "# Set up the matplotlib figure\n",
    "plt.figure(figsize=(8, 6))\n",
    "\n",
    "# Draw the heatmap\n",
    "sns.heatmap(corr_matrix, annot=True, cmap='RdYlBu', center=0)\n",
    "\n",
    "# Add title\n",
    "plt.title('Correlation Heatmap of Selected Features')\n",
    "\n",
    "# Show the plot\n",
    "plt.show()"
   ]
  },
  {
   "cell_type": "code",
   "execution_count": 383,
   "id": "857e1ca4",
   "metadata": {},
   "outputs": [
    {
     "data": {
      "text/plain": [
       "(0.0, 600000.0)"
      ]
     },
     "execution_count": 383,
     "metadata": {},
     "output_type": "execute_result"
    },
    {
     "data": {
      "image/png": "[encoded data removed]",
      "text/plain": [
       "<Figure size 640x480 with 1 Axes>"
      ]
     },
     "metadata": {},
     "output_type": "display_data"
    }
   ],
   "source": [
    "# plot regression of nighttime luminousity and consumption\n",
    "sns.regplot(m_df,x=X,y=y,scatter_kws={\"color\": \"black\"}, line_kws={\"color\": \"red\"})\n",
    "plt.ylim(0,600000)"
   ]
  },
  {
   "cell_type": "code",
   "execution_count": 355,
   "id": "c5743e82",
   "metadata": {},
   "outputs": [
    {
     "data": {
      "image/png": "[encoded data removed]",
      "text/plain": [
       "<Figure size 640x480 with 1 Axes>"
      ]
     },
     "metadata": {},
     "output_type": "display_data"
    }
   ],
   "source": [
    "# plot regression of nighttime luminousity and log consumption\n",
    "sns.regplot(m_df,x=X,y=m_df['cons_pc_log'],scatter_kws={\"color\": \"black\"}, line_kws={\"color\": \"red\"});"
   ]
  },
  {
   "cell_type": "code",
   "execution_count": 349,
   "id": "4760e3c0",
   "metadata": {},
   "outputs": [],
   "source": [
    "# take nightlight luminousity as our feature (apply normalisation) and take consumption as our target\n",
    "scaler_m = MinMaxScaler()\n",
    "X = pd.DataFrame(scaler_m.fit_transform(m_df[['nightlights']]))\n",
    "y = m_df['cons_pc']"
   ]
  },
  {
   "cell_type": "code",
   "execution_count": 350,
   "id": "fc79b4ff",
   "metadata": {},
   "outputs": [],
   "source": [
    "X.rename(columns={0:'nightlights'},inplace=True)"
   ]
  },
  {
   "cell_type": "code",
   "execution_count": 291,
   "id": "fcfe6f45",
   "metadata": {},
   "outputs": [],
   "source": [
    "#Instantiate a KFold regression model \n",
    "model_w_0s = LinearRegression()\n",
    "\n",
    "# Define cross-validation strategy\n",
    "kf = KFold(n_splits=10, shuffle=True)\n",
    "\n",
    "# Perform cross-validation\n",
    "scores = cross_val_score(model_w_0s, X, y, cv=kf, scoring=make_scorer(r2_score))"
   ]
  },
  {
   "cell_type": "code",
   "execution_count": 292,
   "id": "870c66d3",
   "metadata": {},
   "outputs": [
    {
     "data": {
      "text/plain": [
       "0.06639521714725012"
      ]
     },
     "execution_count": 292,
     "metadata": {},
     "output_type": "execute_result"
    }
   ],
   "source": [
    "# run a rough CV score on entire dataset\n",
    "scores.mean()"
   ]
  },
  {
   "cell_type": "code",
   "execution_count": 356,
   "id": "702500dc",
   "metadata": {},
   "outputs": [
    {
     "data": {
      "text/plain": [
       "nightlights\n",
       "0.000000    1672\n",
       "1.126938      25\n",
       "0.068200      18\n",
       "0.613294      15\n",
       "0.051831      15\n",
       "            ... \n",
       "0.518612       1\n",
       "0.032562       1\n",
       "0.302004       1\n",
       "0.007229       1\n",
       "2.010110       1\n",
       "Name: count, Length: 323, dtype: int64"
      ]
     },
     "execution_count": 356,
     "metadata": {},
     "output_type": "execute_result"
    }
   ],
   "source": [
    "# view how many households are in a 0 nightlight luminousity cluster\n",
    "m_df.nightlights.value_counts()"
   ]
  },
  {
   "cell_type": "code",
   "execution_count": 235,
   "id": "507534f7",
   "metadata": {},
   "outputs": [],
   "source": [
    "def drop_0s(df):\n",
    "    \"\"\"\n",
    "    Elimina el 90% de las filas donde la columna 'nightlights' es igual a 0 de forma aleatoria.\n",
    "\n",
    "    Args:\n",
    "    df (pandas.DataFrame): DataFrame de entrada que contiene una columna 'nightlights'.\n",
    "\n",
    "    Returns:\n",
    "    pandas.DataFrame: DataFrame con el 90% de las filas con 'nightlights' igual a 0 eliminadas.\n",
    "    \"\"\"\n",
    "    # Filtrar filas donde 'nightlights' es igual a 0\n",
    "    zero_nightlights = df[df['nightlights'] == 0]\n",
    "    \n",
    "    # Calcular el número de filas a mantener (10% de las filas con 'nightlights' igual a 0)\n",
    "    n_keep = int(0.1 * len(zero_nightlights))\n",
    "    \n",
    "    # Seleccionar aleatoriamente el 10% de las filas para mantener\n",
    "    rows_to_keep = zero_nightlights.sample(n=n_keep, random_state=42)\n",
    "    \n",
    "    # Filtrar filas donde 'nightlights' no es igual a 0\n",
    "    non_zero_nightlights = df[df['nightlights'] != 0]\n",
    "    \n",
    "    # Concatenar las filas no cero con las 10% de filas cero seleccionadas para mantener\n",
    "    new_df = pd.concat([non_zero_nightlights, rows_to_keep])\n",
    "    \n",
    "    # Opcional: Reordenar el DataFrame final\n",
    "    new_df = new_df.sample(frac=1).reset_index(drop=True)\n",
    "    \n",
    "    return new_df"
   ]
  },
  {
   "cell_type": "code",
   "execution_count": 357,
   "id": "846345fc",
   "metadata": {},
   "outputs": [],
   "source": [
    "# drop 90% of 0s on a random basis\n",
    "m_df_less_0s = drop_0s(m_df)"
   ]
  },
  {
   "cell_type": "code",
   "execution_count": 359,
   "id": "c94b33a6",
   "metadata": {},
   "outputs": [
    {
     "data": {
      "text/plain": [
       "3212"
      ]
     },
     "execution_count": 359,
     "metadata": {},
     "output_type": "execute_result"
    }
   ],
   "source": [
    "len(m_df_less_0s)"
   ]
  },
  {
   "cell_type": "code",
   "execution_count": 365,
   "id": "0dbd7c3c",
   "metadata": {},
   "outputs": [
    {
     "data": {
      "text/plain": [
       "array([ 211,  441,  454,  633,  792,  834,  891,  993, 1148, 1236, 1428,\n",
       "       1514, 1597, 1793, 1839, 1844, 1999, 2164, 2219, 2245, 2617, 2646,\n",
       "       2771, 2906, 2961, 3063, 3185])"
      ]
     },
     "execution_count": 365,
     "metadata": {},
     "output_type": "execute_result"
    }
   ],
   "source": [
    "# extract z-score outlier indices after 0s have been dropped\n",
    "z_score_outliers(m_df_less_0s['cons_pc'])"
   ]
  },
  {
   "cell_type": "code",
   "execution_count": 358,
   "id": "9c43d654",
   "metadata": {},
   "outputs": [
    {
     "data": {
      "image/png": "[encoded data removed]",
      "text/plain": [
       "<Figure size 640x480 with 1 Axes>"
      ]
     },
     "metadata": {},
     "output_type": "display_data"
    }
   ],
   "source": [
    "# visualise outliers\n",
    "plt.boxplot(m_df_less_0s['cons_pc'])\n",
    "plt.ylabel('cons_pc');"
   ]
  },
  {
   "cell_type": "code",
   "execution_count": 282,
   "id": "421a8917",
   "metadata": {},
   "outputs": [],
   "source": [
    "# Redefine our feature and target having stripped out 90% of zeros on random basis\n",
    "X_0s = pd.DataFrame(scaler_m.transform(m_df_less_0s[['nightlights']]))\n",
    "y_0s = m_df_less_0s['cons_pc']"
   ]
  },
  {
   "cell_type": "code",
   "execution_count": 285,
   "id": "6c98f6a1",
   "metadata": {},
   "outputs": [],
   "source": [
    "X_0s.rename(columns={0:'nightlights'},inplace=True)"
   ]
  },
  {
   "cell_type": "code",
   "execution_count": 384,
   "id": "f7de4256",
   "metadata": {},
   "outputs": [
    {
     "data": {
      "text/html": [
       "<div>\n",
       "<style scoped>\n",
       "    .dataframe tbody tr th:only-of-type {\n",
       "        vertical-align: middle;\n",
       "    }\n",
       "\n",
       "    .dataframe tbody tr th {\n",
       "        vertical-align: top;\n",
       "    }\n",
       "\n",
       "    .dataframe thead th {\n",
       "        text-align: right;\n",
       "    }\n",
       "</style>\n",
       "<table border=\"1\" class=\"dataframe\">\n",
       "  <thead>\n",
       "    <tr style=\"text-align: right;\">\n",
       "      <th></th>\n",
       "      <th>cons_pc</th>\n",
       "      <th>cons_pc_log</th>\n",
       "      <th>nightlights</th>\n",
       "      <th>rural</th>\n",
       "    </tr>\n",
       "  </thead>\n",
       "  <tbody>\n",
       "    <tr>\n",
       "      <th>cons_pc</th>\n",
       "      <td>1.000000</td>\n",
       "      <td>0.673264</td>\n",
       "      <td>0.170358</td>\n",
       "      <td>0.206709</td>\n",
       "    </tr>\n",
       "    <tr>\n",
       "      <th>cons_pc_log</th>\n",
       "      <td>0.673264</td>\n",
       "      <td>1.000000</td>\n",
       "      <td>0.220174</td>\n",
       "      <td>0.271845</td>\n",
       "    </tr>\n",
       "    <tr>\n",
       "      <th>nightlights</th>\n",
       "      <td>0.170358</td>\n",
       "      <td>0.220174</td>\n",
       "      <td>1.000000</td>\n",
       "      <td>0.459532</td>\n",
       "    </tr>\n",
       "    <tr>\n",
       "      <th>rural</th>\n",
       "      <td>0.206709</td>\n",
       "      <td>0.271845</td>\n",
       "      <td>0.459532</td>\n",
       "      <td>1.000000</td>\n",
       "    </tr>\n",
       "  </tbody>\n",
       "</table>\n",
       "</div>"
      ],
      "text/plain": [
       "              cons_pc  cons_pc_log  nightlights     rural\n",
       "cons_pc      1.000000     0.673264     0.170358  0.206709\n",
       "cons_pc_log  0.673264     1.000000     0.220174  0.271845\n",
       "nightlights  0.170358     0.220174     1.000000  0.459532\n",
       "rural        0.206709     0.271845     0.459532  1.000000"
      ]
     },
     "execution_count": 384,
     "metadata": {},
     "output_type": "execute_result"
    }
   ],
   "source": [
    "# view correlation matrix with zeros removed\n",
    "m_df_less_0s[['cons_pc','cons_pc_log','nightlights','rural']].corr()"
   ]
  },
  {
   "cell_type": "code",
   "execution_count": 386,
   "id": "652fed42",
   "metadata": {},
   "outputs": [
    {
     "data": {
      "image/png": "[encoded data removed]",
      "text/plain": [
       "<Figure size 800x600 with 2 Axes>"
      ]
     },
     "metadata": {},
     "output_type": "display_data"
    }
   ],
   "source": [
    "# Compute the correlation matrix\n",
    "corr_matrix_0s = m_df_less_0s[['cons_pc', 'cons_pc_log', 'nightlights', 'rural']].corr()\n",
    "\n",
    "# Set up the matplotlib figure\n",
    "plt.figure(figsize=(8, 6))\n",
    "\n",
    "# Draw the heatmap\n",
    "sns.heatmap(corr_matrix_0s, annot=True, cmap='RdYlBu', center=0)\n",
    "\n",
    "# Add title\n",
    "plt.title('Correlation Heatmap of Selected Features')\n",
    "\n",
    "# Show the plot\n",
    "plt.show()"
   ]
  },
  {
   "cell_type": "code",
   "execution_count": 366,
   "id": "7afc102a",
   "metadata": {},
   "outputs": [
    {
     "data": {
      "text/plain": [
       "(0.0, 600000.0)"
      ]
     },
     "execution_count": 366,
     "metadata": {},
     "output_type": "execute_result"
    },
    {
     "data": {
      "image/png": "[encoded data removed]",
      "text/plain": [
       "<Figure size 640x480 with 1 Axes>"
      ]
     },
     "metadata": {},
     "output_type": "display_data"
    }
   ],
   "source": [
    "# visualise the regression after the zeros have been dropped\n",
    "sns.regplot(m_df_less_0s,x=X_0s,y=y_0s,scatter_kws={\"color\": \"black\"}, line_kws={\"color\": \"red\"})\n",
    "plt.ylim(0,600000)"
   ]
  },
  {
   "cell_type": "code",
   "execution_count": 367,
   "id": "e010ac85",
   "metadata": {},
   "outputs": [],
   "source": [
    "# Re-run a rough cross validation\n",
    "model_less_0s = LinearRegression()\n",
    "\n",
    "# Define cross-validation strategy\n",
    "kf = KFold(n_splits=10, shuffle=True)\n",
    "\n",
    "# Perform cross-validation\n",
    "scores = cross_val_score(model_less_0s, X_0s, y_0s, cv=kf, scoring=make_scorer(r2_score))"
   ]
  },
  {
   "cell_type": "code",
   "execution_count": 368,
   "id": "c02b06f0",
   "metadata": {},
   "outputs": [
    {
     "data": {
      "text/plain": [
       "0.06425557349872722"
      ]
     },
     "execution_count": 368,
     "metadata": {},
     "output_type": "execute_result"
    }
   ],
   "source": [
    "scores.mean()"
   ]
  },
  {
   "cell_type": "code",
   "execution_count": 390,
   "id": "c00cd5e9",
   "metadata": {},
   "outputs": [],
   "source": [
    "#K-fold CV without data leakage\n",
    "def k_fold_cv(df):\n",
    "    #isolate nightlights and cons_pc columns\n",
    "    df = df[['nightlights','cons_pc']]\n",
    "    \n",
    "    #train test split\n",
    "    train_data, test_data = train_test_split(df, test_size=0.3)\n",
    "\n",
    "    #define scaler\n",
    "    scaler = MinMaxScaler()\n",
    "    \n",
    "    # Ready X's and y's\n",
    "    X_train = pd.DataFrame(scaler.fit_transform(train_data[['nightlights']]))\n",
    "    y_train = train_data['cons_pc']\n",
    "\n",
    "    X_test = pd.DataFrame(scaler.fit_transform(test_data[['nightlights']]))\n",
    "    y_test = test_data['cons_pc']\n",
    "    n_split = 10\n",
    "    len_split = int(df.shape[0]/n_split)\n",
    "\n",
    "    # Initialize the 1st fold\n",
    "    scores = []\n",
    "    start = 0\n",
    "    stop = len_split\n",
    "\n",
    "    # Start the n-split fold CV\n",
    "    for k in range(n_split): # k in [0,1,2,3,4]\n",
    "        data_val = df.iloc[start:stop, :]\n",
    "        data_train = df.drop(index=data_val.index)\n",
    "        y_train = data_train['cons_pc']\n",
    "        X_train = data_train.drop(columns=['cons_pc'])\n",
    "        y_val = data_val['cons_pc']\n",
    "        X_val = data_val.drop(columns=['cons_pc'])\n",
    "        \n",
    "        #fit model\n",
    "        model_k = LinearRegression()\n",
    "        model_k.fit(X_train, y_train)\n",
    "        \n",
    "        #append score to scores list\n",
    "        scores.append(model_k.score(X_val, y_val))\n",
    "        \n",
    "        # Setup next fold\n",
    "        start = stop\n",
    "        stop += len_split\n",
    "\n",
    "    # Display the mean score and the scores standard deviation\n",
    "    print(np.array(scores).mean())\n",
    "    print(np.array(scores).std())"
   ]
  },
  {
   "cell_type": "code",
   "execution_count": 391,
   "id": "997393ad",
   "metadata": {},
   "outputs": [
    {
     "name": "stdout",
     "output_type": "stream",
     "text": [
      "-0.504749723158484\n",
      "1.418049859599829\n"
     ]
    }
   ],
   "source": [
    "k_fold_cv(m_df)"
   ]
  },
  {
   "cell_type": "code",
   "execution_count": 392,
   "id": "16937c77",
   "metadata": {},
   "outputs": [
    {
     "name": "stdout",
     "output_type": "stream",
     "text": [
      "0.04369909393695544\n",
      "0.028224420431930863\n"
     ]
    }
   ],
   "source": [
    "k_fold_cv(m_df_less_0s)"
   ]
  },
  {
   "cell_type": "markdown",
   "id": "97ada72f",
   "metadata": {},
   "source": [
    "## Analysis and Modelling with Mean Consumption per Nightlight Cluster"
   ]
  },
  {
   "cell_type": "code",
   "execution_count": 402,
   "id": "bba821a1",
   "metadata": {},
   "outputs": [],
   "source": [
    "data = pd.read_csv('raw_data/ethiopia_10_by_10_ready.csv', sep=',')"
   ]
  },
  {
   "cell_type": "code",
   "execution_count": 403,
   "id": "bbb7599f",
   "metadata": {},
   "outputs": [
    {
     "data": {
      "text/plain": [
       "country         object\n",
       "cluster_lat    float64\n",
       "cluster_lon    float64\n",
       "cons_pc        float64\n",
       "nightlights    float64\n",
       "dtype: object"
      ]
     },
     "execution_count": 403,
     "metadata": {},
     "output_type": "execute_result"
    }
   ],
   "source": [
    "data.dtypes"
   ]
  },
  {
   "cell_type": "code",
   "execution_count": 404,
   "id": "998654de",
   "metadata": {},
   "outputs": [
    {
     "data": {
      "text/plain": [
       "nightlights\n",
       "0.000000    197\n",
       "0.020875      2\n",
       "0.107431      2\n",
       "0.008249      2\n",
       "0.070480      2\n",
       "           ... \n",
       "0.032912      1\n",
       "0.002156      1\n",
       "0.001243      1\n",
       "0.031277      1\n",
       "0.000624      1\n",
       "Name: count, Length: 322, dtype: int64"
      ]
     },
     "execution_count": 404,
     "metadata": {},
     "output_type": "execute_result"
    }
   ],
   "source": [
    "data['nightlights'].astype('float64').value_counts()"
   ]
  },
  {
   "cell_type": "code",
   "execution_count": 405,
   "id": "c05c940c",
   "metadata": {},
   "outputs": [
    {
     "data": {
      "text/html": [
       "<div>\n",
       "<style scoped>\n",
       "    .dataframe tbody tr th:only-of-type {\n",
       "        vertical-align: middle;\n",
       "    }\n",
       "\n",
       "    .dataframe tbody tr th {\n",
       "        vertical-align: top;\n",
       "    }\n",
       "\n",
       "    .dataframe thead th {\n",
       "        text-align: right;\n",
       "    }\n",
       "</style>\n",
       "<table border=\"1\" class=\"dataframe\">\n",
       "  <thead>\n",
       "    <tr style=\"text-align: right;\">\n",
       "      <th></th>\n",
       "      <th>country</th>\n",
       "      <th>cluster_lat</th>\n",
       "      <th>cluster_lon</th>\n",
       "      <th>cons_pc</th>\n",
       "      <th>nightlights</th>\n",
       "    </tr>\n",
       "  </thead>\n",
       "  <tbody>\n",
       "    <tr>\n",
       "      <th>0</th>\n",
       "      <td>eth</td>\n",
       "      <td>11.143601</td>\n",
       "      <td>39.632585</td>\n",
       "      <td>21.654894</td>\n",
       "      <td>0.642540</td>\n",
       "    </tr>\n",
       "    <tr>\n",
       "      <th>1</th>\n",
       "      <td>eth</td>\n",
       "      <td>7.190572</td>\n",
       "      <td>35.422831</td>\n",
       "      <td>5.432886</td>\n",
       "      <td>0.130728</td>\n",
       "    </tr>\n",
       "    <tr>\n",
       "      <th>2</th>\n",
       "      <td>eth</td>\n",
       "      <td>7.063881</td>\n",
       "      <td>37.719302</td>\n",
       "      <td>15.957732</td>\n",
       "      <td>0.054990</td>\n",
       "    </tr>\n",
       "  </tbody>\n",
       "</table>\n",
       "</div>"
      ],
      "text/plain": [
       "  country  cluster_lat  cluster_lon    cons_pc  nightlights\n",
       "0     eth    11.143601    39.632585  21.654894     0.642540\n",
       "1     eth     7.190572    35.422831   5.432886     0.130728\n",
       "2     eth     7.063881    37.719302  15.957732     0.054990"
      ]
     },
     "execution_count": 405,
     "metadata": {},
     "output_type": "execute_result"
    }
   ],
   "source": [
    "data_0s = drop_0s(data)\n",
    "data_0s.head(3)"
   ]
  },
  {
   "cell_type": "code",
   "execution_count": 406,
   "id": "744fc774",
   "metadata": {},
   "outputs": [
    {
     "data": {
      "text/plain": [
       "nightlights\n",
       "0.000000     19\n",
       "0.642540      2\n",
       "0.107431      2\n",
       "0.070480      2\n",
       "0.020875      2\n",
       "             ..\n",
       "0.041769      1\n",
       "12.277067     1\n",
       "0.308062      1\n",
       "0.242306      1\n",
       "0.023331      1\n",
       "Name: count, Length: 322, dtype: int64"
      ]
     },
     "execution_count": 406,
     "metadata": {},
     "output_type": "execute_result"
    }
   ],
   "source": [
    "data_0s['nightlights'].value_counts()"
   ]
  },
  {
   "cell_type": "code",
   "execution_count": 408,
   "id": "a5cc573b",
   "metadata": {},
   "outputs": [],
   "source": [
    "# Initiate the scaler\n",
    "scaler = MinMaxScaler()"
   ]
  },
  {
   "cell_type": "code",
   "execution_count": 412,
   "id": "7ade32aa",
   "metadata": {},
   "outputs": [],
   "source": [
    "# Initiate X (apply scaler) and y\n",
    "X = pd.DataFrame(scaler.fit_transform(data_0s[['nightlights']]))\n",
    "y = data_0s['cons_pc']"
   ]
  },
  {
   "cell_type": "code",
   "execution_count": 413,
   "id": "f07feaf8",
   "metadata": {},
   "outputs": [
    {
     "data": {
      "text/plain": [
       "345"
      ]
     },
     "execution_count": 413,
     "metadata": {},
     "output_type": "execute_result"
    }
   ],
   "source": [
    "# Reinstantiate column name on X\n",
    "X.rename(columns={0:'nightlights'},inplace=True)\n",
    "len(X)"
   ]
  },
  {
   "cell_type": "code",
   "execution_count": 414,
   "id": "072765c6",
   "metadata": {},
   "outputs": [
    {
     "data": {
      "image/png": "[encoded data removed]",
      "text/plain": [
       "<Figure size 640x480 with 1 Axes>"
      ]
     },
     "metadata": {},
     "output_type": "display_data"
    }
   ],
   "source": [
    "sns.regplot(x=X,y=y);"
   ]
  },
  {
   "cell_type": "code",
   "execution_count": 417,
   "id": "3d1ee047",
   "metadata": {},
   "outputs": [
    {
     "data": {
      "text/plain": [
       "0.020740601918862445"
      ]
     },
     "execution_count": 417,
     "metadata": {},
     "output_type": "execute_result"
    }
   ],
   "source": [
    "model = LinearRegression()\n",
    "k_folds = KFold(n_splits=10)\n",
    "scores = cross_val_score(model, X, y, cv = k_folds)\n",
    "scores.mean()"
   ]
  },
  {
   "cell_type": "code",
   "execution_count": 418,
   "id": "cc80d58e",
   "metadata": {},
   "outputs": [
    {
     "data": {
      "text/plain": [
       "array([ 0.07323808,  0.17626738,  0.08066292,  0.04298103,  0.28507829,\n",
       "        0.18813309,  0.02241653,  0.06157511, -0.0415061 , -0.68144032])"
      ]
     },
     "execution_count": 418,
     "metadata": {},
     "output_type": "execute_result"
    }
   ],
   "source": [
    "scores"
   ]
  },
  {
   "cell_type": "code",
   "execution_count": 420,
   "id": "31be375f",
   "metadata": {},
   "outputs": [],
   "source": [
    "data_Xy = data_0s[['nightlights','cons_pc']]"
   ]
  },
  {
   "cell_type": "code",
   "execution_count": 421,
   "id": "248992bf",
   "metadata": {},
   "outputs": [
    {
     "data": {
      "text/html": [
       "<div>\n",
       "<style scoped>\n",
       "    .dataframe tbody tr th:only-of-type {\n",
       "        vertical-align: middle;\n",
       "    }\n",
       "\n",
       "    .dataframe tbody tr th {\n",
       "        vertical-align: top;\n",
       "    }\n",
       "\n",
       "    .dataframe thead th {\n",
       "        text-align: right;\n",
       "    }\n",
       "</style>\n",
       "<table border=\"1\" class=\"dataframe\">\n",
       "  <thead>\n",
       "    <tr style=\"text-align: right;\">\n",
       "      <th></th>\n",
       "      <th>nightlights</th>\n",
       "      <th>cons_pc</th>\n",
       "    </tr>\n",
       "  </thead>\n",
       "  <tbody>\n",
       "    <tr>\n",
       "      <th>0</th>\n",
       "      <td>0.642540</td>\n",
       "      <td>21.654894</td>\n",
       "    </tr>\n",
       "    <tr>\n",
       "      <th>1</th>\n",
       "      <td>0.130728</td>\n",
       "      <td>5.432886</td>\n",
       "    </tr>\n",
       "    <tr>\n",
       "      <th>2</th>\n",
       "      <td>0.054990</td>\n",
       "      <td>15.957732</td>\n",
       "    </tr>\n",
       "    <tr>\n",
       "      <th>3</th>\n",
       "      <td>0.962473</td>\n",
       "      <td>1.598231</td>\n",
       "    </tr>\n",
       "    <tr>\n",
       "      <th>4</th>\n",
       "      <td>0.561938</td>\n",
       "      <td>12.994352</td>\n",
       "    </tr>\n",
       "  </tbody>\n",
       "</table>\n",
       "</div>"
      ],
      "text/plain": [
       "   nightlights    cons_pc\n",
       "0     0.642540  21.654894\n",
       "1     0.130728   5.432886\n",
       "2     0.054990  15.957732\n",
       "3     0.962473   1.598231\n",
       "4     0.561938  12.994352"
      ]
     },
     "execution_count": 421,
     "metadata": {},
     "output_type": "execute_result"
    }
   ],
   "source": [
    "data_Xy.head()"
   ]
  },
  {
   "cell_type": "code",
   "execution_count": 422,
   "id": "d58857e3",
   "metadata": {},
   "outputs": [
    {
     "data": {
      "text/html": [
       "<div>\n",
       "<style scoped>\n",
       "    .dataframe tbody tr th:only-of-type {\n",
       "        vertical-align: middle;\n",
       "    }\n",
       "\n",
       "    .dataframe tbody tr th {\n",
       "        vertical-align: top;\n",
       "    }\n",
       "\n",
       "    .dataframe thead th {\n",
       "        text-align: right;\n",
       "    }\n",
       "</style>\n",
       "<table border=\"1\" class=\"dataframe\">\n",
       "  <thead>\n",
       "    <tr style=\"text-align: right;\">\n",
       "      <th></th>\n",
       "      <th>nightlights</th>\n",
       "      <th>cons_pc</th>\n",
       "    </tr>\n",
       "  </thead>\n",
       "  <tbody>\n",
       "    <tr>\n",
       "      <th>nightlights</th>\n",
       "      <td>1.000000</td>\n",
       "      <td>0.348377</td>\n",
       "    </tr>\n",
       "    <tr>\n",
       "      <th>cons_pc</th>\n",
       "      <td>0.348377</td>\n",
       "      <td>1.000000</td>\n",
       "    </tr>\n",
       "  </tbody>\n",
       "</table>\n",
       "</div>"
      ],
      "text/plain": [
       "             nightlights   cons_pc\n",
       "nightlights     1.000000  0.348377\n",
       "cons_pc         0.348377  1.000000"
      ]
     },
     "execution_count": 422,
     "metadata": {},
     "output_type": "execute_result"
    }
   ],
   "source": [
    "data_Xy.corr()"
   ]
  },
  {
   "cell_type": "code",
   "execution_count": 425,
   "id": "dc13ef8f",
   "metadata": {},
   "outputs": [
    {
     "data": {
      "image/png": "[encoded data removed]",
      "text/plain": [
       "<Figure size 800x600 with 2 Axes>"
      ]
     },
     "metadata": {},
     "output_type": "display_data"
    }
   ],
   "source": [
    "# Compute the correlation matrix\n",
    "corr_matrix_clus_0s = data_Xy[['cons_pc', 'nightlights']].corr()\n",
    "\n",
    "# Set up the matplotlib figure\n",
    "plt.figure(figsize=(8, 6))\n",
    "\n",
    "# Draw the heatmap\n",
    "sns.heatmap(corr_matrix_clus_0s, annot=True, cmap='RdYlBu', center=0)\n",
    "\n",
    "# Add title\n",
    "plt.title('Correlation Heatmap of Selected Features (Consumption Clustered)')\n",
    "\n",
    "# Show the plot\n",
    "plt.show()"
   ]
  },
  {
   "cell_type": "code",
   "execution_count": 427,
   "id": "49744ef9",
   "metadata": {},
   "outputs": [
    {
     "name": "stdout",
     "output_type": "stream",
     "text": [
      "-0.006092053189244306\n",
      "0.3003237794973373\n"
     ]
    }
   ],
   "source": [
    "k_fold_cv(data_Xy)"
   ]
  },
  {
   "cell_type": "code",
   "execution_count": 428,
   "id": "527e4526",
   "metadata": {},
   "outputs": [],
   "source": [
    "data['nightlights'] = scaler.transform(data[['nightlights']])"
   ]
  },
  {
   "cell_type": "code",
   "execution_count": 429,
   "id": "928082fa",
   "metadata": {},
   "outputs": [
    {
     "data": {
      "text/html": [
       "<div>\n",
       "<style scoped>\n",
       "    .dataframe tbody tr th:only-of-type {\n",
       "        vertical-align: middle;\n",
       "    }\n",
       "\n",
       "    .dataframe tbody tr th {\n",
       "        vertical-align: top;\n",
       "    }\n",
       "\n",
       "    .dataframe thead th {\n",
       "        text-align: right;\n",
       "    }\n",
       "</style>\n",
       "<table border=\"1\" class=\"dataframe\">\n",
       "  <thead>\n",
       "    <tr style=\"text-align: right;\">\n",
       "      <th></th>\n",
       "      <th>country</th>\n",
       "      <th>cluster_lat</th>\n",
       "      <th>cluster_lon</th>\n",
       "      <th>cons_pc</th>\n",
       "      <th>nightlights</th>\n",
       "    </tr>\n",
       "  </thead>\n",
       "  <tbody>\n",
       "    <tr>\n",
       "      <th>0</th>\n",
       "      <td>eth</td>\n",
       "      <td>3.455701</td>\n",
       "      <td>39.515994</td>\n",
       "      <td>14.854634</td>\n",
       "      <td>0.000000</td>\n",
       "    </tr>\n",
       "    <tr>\n",
       "      <th>1</th>\n",
       "      <td>eth</td>\n",
       "      <td>3.549937</td>\n",
       "      <td>39.184234</td>\n",
       "      <td>14.312022</td>\n",
       "      <td>0.000000</td>\n",
       "    </tr>\n",
       "    <tr>\n",
       "      <th>2</th>\n",
       "      <td>eth</td>\n",
       "      <td>3.864243</td>\n",
       "      <td>39.101366</td>\n",
       "      <td>12.470145</td>\n",
       "      <td>0.000000</td>\n",
       "    </tr>\n",
       "    <tr>\n",
       "      <th>3</th>\n",
       "      <td>eth</td>\n",
       "      <td>3.982931</td>\n",
       "      <td>38.491368</td>\n",
       "      <td>8.336539</td>\n",
       "      <td>0.000000</td>\n",
       "    </tr>\n",
       "    <tr>\n",
       "      <th>4</th>\n",
       "      <td>eth</td>\n",
       "      <td>4.048194</td>\n",
       "      <td>41.930928</td>\n",
       "      <td>4.762526</td>\n",
       "      <td>0.000000</td>\n",
       "    </tr>\n",
       "    <tr>\n",
       "      <th>...</th>\n",
       "      <td>...</td>\n",
       "      <td>...</td>\n",
       "      <td>...</td>\n",
       "      <td>...</td>\n",
       "      <td>...</td>\n",
       "    </tr>\n",
       "    <tr>\n",
       "      <th>518</th>\n",
       "      <td>eth</td>\n",
       "      <td>14.288590</td>\n",
       "      <td>38.210252</td>\n",
       "      <td>13.926005</td>\n",
       "      <td>0.001364</td>\n",
       "    </tr>\n",
       "    <tr>\n",
       "      <th>519</th>\n",
       "      <td>eth</td>\n",
       "      <td>14.300796</td>\n",
       "      <td>39.059489</td>\n",
       "      <td>6.882396</td>\n",
       "      <td>0.000159</td>\n",
       "    </tr>\n",
       "    <tr>\n",
       "      <th>520</th>\n",
       "      <td>eth</td>\n",
       "      <td>14.319217</td>\n",
       "      <td>39.271599</td>\n",
       "      <td>5.894326</td>\n",
       "      <td>0.001712</td>\n",
       "    </tr>\n",
       "    <tr>\n",
       "      <th>521</th>\n",
       "      <td>eth</td>\n",
       "      <td>14.353816</td>\n",
       "      <td>37.890876</td>\n",
       "      <td>8.197660</td>\n",
       "      <td>0.000036</td>\n",
       "    </tr>\n",
       "    <tr>\n",
       "      <th>522</th>\n",
       "      <td>eth</td>\n",
       "      <td>14.455962</td>\n",
       "      <td>39.479082</td>\n",
       "      <td>11.191210</td>\n",
       "      <td>0.000000</td>\n",
       "    </tr>\n",
       "  </tbody>\n",
       "</table>\n",
       "<p>523 rows × 5 columns</p>\n",
       "</div>"
      ],
      "text/plain": [
       "    country  cluster_lat  cluster_lon    cons_pc  nightlights\n",
       "0       eth     3.455701    39.515994  14.854634     0.000000\n",
       "1       eth     3.549937    39.184234  14.312022     0.000000\n",
       "2       eth     3.864243    39.101366  12.470145     0.000000\n",
       "3       eth     3.982931    38.491368   8.336539     0.000000\n",
       "4       eth     4.048194    41.930928   4.762526     0.000000\n",
       "..      ...          ...          ...        ...          ...\n",
       "518     eth    14.288590    38.210252  13.926005     0.001364\n",
       "519     eth    14.300796    39.059489   6.882396     0.000159\n",
       "520     eth    14.319217    39.271599   5.894326     0.001712\n",
       "521     eth    14.353816    37.890876   8.197660     0.000036\n",
       "522     eth    14.455962    39.479082  11.191210     0.000000\n",
       "\n",
       "[523 rows x 5 columns]"
      ]
     },
     "execution_count": 429,
     "metadata": {},
     "output_type": "execute_result"
    }
   ],
   "source": [
    "data"
   ]
  },
  {
   "cell_type": "code",
   "execution_count": 430,
   "id": "51072256",
   "metadata": {},
   "outputs": [],
   "source": [
    "addis_ab_df = data[\n",
    "    (data['cluster_lat'] >= 8.9) & (data['cluster_lat'] <= 9.1) &\n",
    "    (data['cluster_lon'] >= 38.7) & (data['cluster_lon'] <= 38.9)\n",
    "]"
   ]
  },
  {
   "cell_type": "code",
   "execution_count": 431,
   "id": "7b58748a",
   "metadata": {},
   "outputs": [
    {
     "data": {
      "text/html": [
       "<div>\n",
       "<style scoped>\n",
       "    .dataframe tbody tr th:only-of-type {\n",
       "        vertical-align: middle;\n",
       "    }\n",
       "\n",
       "    .dataframe tbody tr th {\n",
       "        vertical-align: top;\n",
       "    }\n",
       "\n",
       "    .dataframe thead th {\n",
       "        text-align: right;\n",
       "    }\n",
       "</style>\n",
       "<table border=\"1\" class=\"dataframe\">\n",
       "  <thead>\n",
       "    <tr style=\"text-align: right;\">\n",
       "      <th></th>\n",
       "      <th>country</th>\n",
       "      <th>cluster_lat</th>\n",
       "      <th>cluster_lon</th>\n",
       "      <th>cons_pc</th>\n",
       "      <th>nightlights</th>\n",
       "    </tr>\n",
       "  </thead>\n",
       "  <tbody>\n",
       "    <tr>\n",
       "      <th>210</th>\n",
       "      <td>eth</td>\n",
       "      <td>8.954261</td>\n",
       "      <td>38.776901</td>\n",
       "      <td>30.038594</td>\n",
       "      <td>0.675716</td>\n",
       "    </tr>\n",
       "    <tr>\n",
       "      <th>211</th>\n",
       "      <td>eth</td>\n",
       "      <td>8.957485</td>\n",
       "      <td>38.762128</td>\n",
       "      <td>10.622940</td>\n",
       "      <td>0.755613</td>\n",
       "    </tr>\n",
       "    <tr>\n",
       "      <th>212</th>\n",
       "      <td>eth</td>\n",
       "      <td>8.958031</td>\n",
       "      <td>38.748086</td>\n",
       "      <td>12.825229</td>\n",
       "      <td>0.730208</td>\n",
       "    </tr>\n",
       "    <tr>\n",
       "      <th>213</th>\n",
       "      <td>eth</td>\n",
       "      <td>8.964058</td>\n",
       "      <td>38.721902</td>\n",
       "      <td>20.488550</td>\n",
       "      <td>0.634796</td>\n",
       "    </tr>\n",
       "    <tr>\n",
       "      <th>216</th>\n",
       "      <td>eth</td>\n",
       "      <td>8.989751</td>\n",
       "      <td>38.773653</td>\n",
       "      <td>17.768381</td>\n",
       "      <td>1.000000</td>\n",
       "    </tr>\n",
       "    <tr>\n",
       "      <th>219</th>\n",
       "      <td>eth</td>\n",
       "      <td>9.013835</td>\n",
       "      <td>38.741334</td>\n",
       "      <td>14.816839</td>\n",
       "      <td>0.918602</td>\n",
       "    </tr>\n",
       "    <tr>\n",
       "      <th>220</th>\n",
       "      <td>eth</td>\n",
       "      <td>9.015257</td>\n",
       "      <td>38.813750</td>\n",
       "      <td>20.499866</td>\n",
       "      <td>0.702203</td>\n",
       "    </tr>\n",
       "    <tr>\n",
       "      <th>222</th>\n",
       "      <td>eth</td>\n",
       "      <td>9.018709</td>\n",
       "      <td>38.789997</td>\n",
       "      <td>12.782309</td>\n",
       "      <td>0.880685</td>\n",
       "    </tr>\n",
       "    <tr>\n",
       "      <th>223</th>\n",
       "      <td>eth</td>\n",
       "      <td>9.020116</td>\n",
       "      <td>38.733379</td>\n",
       "      <td>18.206968</td>\n",
       "      <td>0.851894</td>\n",
       "    </tr>\n",
       "    <tr>\n",
       "      <th>224</th>\n",
       "      <td>eth</td>\n",
       "      <td>9.023574</td>\n",
       "      <td>38.784249</td>\n",
       "      <td>11.709447</td>\n",
       "      <td>0.871594</td>\n",
       "    </tr>\n",
       "    <tr>\n",
       "      <th>226</th>\n",
       "      <td>eth</td>\n",
       "      <td>9.034180</td>\n",
       "      <td>38.842568</td>\n",
       "      <td>23.621166</td>\n",
       "      <td>0.381640</td>\n",
       "    </tr>\n",
       "    <tr>\n",
       "      <th>227</th>\n",
       "      <td>eth</td>\n",
       "      <td>9.037509</td>\n",
       "      <td>38.737811</td>\n",
       "      <td>11.936232</td>\n",
       "      <td>0.721796</td>\n",
       "    </tr>\n",
       "    <tr>\n",
       "      <th>229</th>\n",
       "      <td>eth</td>\n",
       "      <td>9.047567</td>\n",
       "      <td>38.718242</td>\n",
       "      <td>14.566923</td>\n",
       "      <td>0.515056</td>\n",
       "    </tr>\n",
       "    <tr>\n",
       "      <th>230</th>\n",
       "      <td>eth</td>\n",
       "      <td>9.052935</td>\n",
       "      <td>38.735117</td>\n",
       "      <td>18.578238</td>\n",
       "      <td>0.542717</td>\n",
       "    </tr>\n",
       "    <tr>\n",
       "      <th>232</th>\n",
       "      <td>eth</td>\n",
       "      <td>9.061072</td>\n",
       "      <td>38.791779</td>\n",
       "      <td>12.539863</td>\n",
       "      <td>0.288456</td>\n",
       "    </tr>\n",
       "    <tr>\n",
       "      <th>237</th>\n",
       "      <td>eth</td>\n",
       "      <td>9.071813</td>\n",
       "      <td>38.729929</td>\n",
       "      <td>13.792394</td>\n",
       "      <td>0.319315</td>\n",
       "    </tr>\n",
       "  </tbody>\n",
       "</table>\n",
       "</div>"
      ],
      "text/plain": [
       "    country  cluster_lat  cluster_lon    cons_pc  nightlights\n",
       "210     eth     8.954261    38.776901  30.038594     0.675716\n",
       "211     eth     8.957485    38.762128  10.622940     0.755613\n",
       "212     eth     8.958031    38.748086  12.825229     0.730208\n",
       "213     eth     8.964058    38.721902  20.488550     0.634796\n",
       "216     eth     8.989751    38.773653  17.768381     1.000000\n",
       "219     eth     9.013835    38.741334  14.816839     0.918602\n",
       "220     eth     9.015257    38.813750  20.499866     0.702203\n",
       "222     eth     9.018709    38.789997  12.782309     0.880685\n",
       "223     eth     9.020116    38.733379  18.206968     0.851894\n",
       "224     eth     9.023574    38.784249  11.709447     0.871594\n",
       "226     eth     9.034180    38.842568  23.621166     0.381640\n",
       "227     eth     9.037509    38.737811  11.936232     0.721796\n",
       "229     eth     9.047567    38.718242  14.566923     0.515056\n",
       "230     eth     9.052935    38.735117  18.578238     0.542717\n",
       "232     eth     9.061072    38.791779  12.539863     0.288456\n",
       "237     eth     9.071813    38.729929  13.792394     0.319315"
      ]
     },
     "execution_count": 431,
     "metadata": {},
     "output_type": "execute_result"
    }
   ],
   "source": [
    "addis_ab_df"
   ]
  },
  {
   "cell_type": "code",
   "execution_count": 432,
   "id": "fe89bb45",
   "metadata": {},
   "outputs": [],
   "source": [
    "#Get co-ords for city boundaries of next 10 most populous cities\n",
    "\n",
    "dire_dawa_df = data[\n",
    "    (data['cluster_lat'] >= 9.57) & (data['cluster_lat'] <= 9.64) &\n",
    "    (data['cluster_lon'] >= 41.8) & (data['cluster_lon'] <= 41.9)\n",
    "]\n",
    "mekelle_df = data[\n",
    "    (data['cluster_lat'] >= 13.45) & (data['cluster_lat'] <= 13.53) &\n",
    "    (data['cluster_lon'] >= 39.4) & (data['cluster_lon'] <= 39.5)\n",
    "]\n",
    "adama_df = data[\n",
    "    (data['cluster_lat'] >= 8.49) & (data['cluster_lat'] <= 8.59) &\n",
    "    (data['cluster_lon'] >= 39.2) & (data['cluster_lon'] <= 39.3)\n",
    "]\n",
    "awassa_df = data[\n",
    "    (data['cluster_lat'] >= 7.0) & (data['cluster_lat'] <= 7.11) &\n",
    "    (data['cluster_lon'] >= 38.46) & (data['cluster_lon'] <= 38.53)\n",
    "]\n",
    "bahir_dar_df = data[\n",
    "    (data['cluster_lat'] >= 11.53) & (data['cluster_lat'] <= 11.63) &\n",
    "    (data['cluster_lon'] >= 37.3) & (data['cluster_lon'] <= 37.47)\n",
    "]\n",
    "gonder_df = data[\n",
    "    (data['cluster_lat'] >= 12.57) & (data['cluster_lat'] <= 12.63) &\n",
    "    (data['cluster_lon'] >= 37.43) & (data['cluster_lon'] <= 37.485)\n",
    "]\n",
    "dessie_df = data[\n",
    "    (data['cluster_lat'] >= 11.09) & (data['cluster_lat'] <= 11.17) &\n",
    "    (data['cluster_lon'] >= 39.61) & (data['cluster_lon'] <= 39.66)\n",
    "]\n",
    "jimma_df = data[\n",
    "    (data['cluster_lat'] >= 7.65) & (data['cluster_lat'] <= 7.703) &\n",
    "    (data['cluster_lon'] >= 36.8) & (data['cluster_lon'] <= 36.87)\n",
    "]\n",
    "jijiga_df = data[\n",
    "    (data['cluster_lat'] >= 9.33) & (data['cluster_lat'] <= 9.374) &\n",
    "    (data['cluster_lon'] >= 42.77) & (data['cluster_lon'] <= 42.823)\n",
    "]\n",
    "shashamane_df = data[\n",
    "    (data['cluster_lat'] >= 7.16) & (data['cluster_lat'] <= 7.233) &\n",
    "    (data['cluster_lon'] >= 38.56) & (data['cluster_lon'] <= 38.65)\n",
    "]"
   ]
  },
  {
   "cell_type": "code",
   "execution_count": 433,
   "id": "238a4095",
   "metadata": {},
   "outputs": [],
   "source": [
    "second_eleventh_city_df = pd.concat([dire_dawa_df,mekelle_df,adama_df,awassa_df,bahir_dar_df,gonder_df,dessie_df,jimma_df,jijiga_df,shashamane_df],axis=0)"
   ]
  },
  {
   "cell_type": "code",
   "execution_count": 434,
   "id": "5838670c",
   "metadata": {},
   "outputs": [],
   "source": [
    "second_eleventh_city_df.reset_index(drop=True,inplace=True)"
   ]
  },
  {
   "cell_type": "code",
   "execution_count": 435,
   "id": "05a9bc06",
   "metadata": {},
   "outputs": [
    {
     "data": {
      "text/html": [
       "<div>\n",
       "<style scoped>\n",
       "    .dataframe tbody tr th:only-of-type {\n",
       "        vertical-align: middle;\n",
       "    }\n",
       "\n",
       "    .dataframe tbody tr th {\n",
       "        vertical-align: top;\n",
       "    }\n",
       "\n",
       "    .dataframe thead th {\n",
       "        text-align: right;\n",
       "    }\n",
       "</style>\n",
       "<table border=\"1\" class=\"dataframe\">\n",
       "  <thead>\n",
       "    <tr style=\"text-align: right;\">\n",
       "      <th></th>\n",
       "      <th>country</th>\n",
       "      <th>cluster_lat</th>\n",
       "      <th>cluster_lon</th>\n",
       "      <th>cons_pc</th>\n",
       "      <th>nightlights</th>\n",
       "    </tr>\n",
       "  </thead>\n",
       "  <tbody>\n",
       "    <tr>\n",
       "      <th>0</th>\n",
       "      <td>eth</td>\n",
       "      <td>9.580849</td>\n",
       "      <td>41.852120</td>\n",
       "      <td>12.376362</td>\n",
       "      <td>0.123268</td>\n",
       "    </tr>\n",
       "    <tr>\n",
       "      <th>1</th>\n",
       "      <td>eth</td>\n",
       "      <td>9.592109</td>\n",
       "      <td>41.874382</td>\n",
       "      <td>22.719716</td>\n",
       "      <td>0.108270</td>\n",
       "    </tr>\n",
       "    <tr>\n",
       "      <th>2</th>\n",
       "      <td>eth</td>\n",
       "      <td>9.592166</td>\n",
       "      <td>41.888189</td>\n",
       "      <td>15.654187</td>\n",
       "      <td>0.097109</td>\n",
       "    </tr>\n",
       "  </tbody>\n",
       "</table>\n",
       "</div>"
      ],
      "text/plain": [
       "  country  cluster_lat  cluster_lon    cons_pc  nightlights\n",
       "0     eth     9.580849    41.852120  12.376362     0.123268\n",
       "1     eth     9.592109    41.874382  22.719716     0.108270\n",
       "2     eth     9.592166    41.888189  15.654187     0.097109"
      ]
     },
     "execution_count": 435,
     "metadata": {},
     "output_type": "execute_result"
    }
   ],
   "source": [
    "second_eleventh_city_df.head(3)"
   ]
  },
  {
   "cell_type": "code",
   "execution_count": 436,
   "id": "828205d6",
   "metadata": {},
   "outputs": [
    {
     "name": "stdout",
     "output_type": "stream",
     "text": [
      "-1.0278544292028662\n",
      "0.9599852953978512\n"
     ]
    }
   ],
   "source": [
    "k_fold_cv(second_eleventh_city_df)"
   ]
  },
  {
   "cell_type": "code",
   "execution_count": 437,
   "id": "1e6e6302",
   "metadata": {},
   "outputs": [
    {
     "data": {
      "image/png": "[encoded data removed]",
      "text/plain": [
       "<Figure size 640x480 with 1 Axes>"
      ]
     },
     "metadata": {},
     "output_type": "display_data"
    }
   ],
   "source": [
    "sns.regplot(x=second_eleventh_city_df[['nightlights']],y=second_eleventh_city_df['cons_pc']);"
   ]
  },
  {
   "cell_type": "code",
   "execution_count": 438,
   "id": "78bbfc96",
   "metadata": {},
   "outputs": [
    {
     "data": {
      "text/html": [
       "<div>\n",
       "<style scoped>\n",
       "    .dataframe tbody tr th:only-of-type {\n",
       "        vertical-align: middle;\n",
       "    }\n",
       "\n",
       "    .dataframe tbody tr th {\n",
       "        vertical-align: top;\n",
       "    }\n",
       "\n",
       "    .dataframe thead th {\n",
       "        text-align: right;\n",
       "    }\n",
       "</style>\n",
       "<table border=\"1\" class=\"dataframe\">\n",
       "  <thead>\n",
       "    <tr style=\"text-align: right;\">\n",
       "      <th></th>\n",
       "      <th>cons_pc</th>\n",
       "      <th>nightlights</th>\n",
       "    </tr>\n",
       "  </thead>\n",
       "  <tbody>\n",
       "    <tr>\n",
       "      <th>cons_pc</th>\n",
       "      <td>1.000000</td>\n",
       "      <td>0.299529</td>\n",
       "    </tr>\n",
       "    <tr>\n",
       "      <th>nightlights</th>\n",
       "      <td>0.299529</td>\n",
       "      <td>1.000000</td>\n",
       "    </tr>\n",
       "  </tbody>\n",
       "</table>\n",
       "</div>"
      ],
      "text/plain": [
       "              cons_pc  nightlights\n",
       "cons_pc      1.000000     0.299529\n",
       "nightlights  0.299529     1.000000"
      ]
     },
     "execution_count": 438,
     "metadata": {},
     "output_type": "execute_result"
    }
   ],
   "source": [
    "second_eleventh_city_df.drop(columns=['country','cluster_lat','cluster_lon']).corr()"
   ]
  },
  {
   "cell_type": "code",
   "execution_count": 439,
   "id": "7474bde4",
   "metadata": {},
   "outputs": [
    {
     "data": {
      "image/png": "[encoded data removed]",
      "text/plain": [
       "<Figure size 640x480 with 1 Axes>"
      ]
     },
     "metadata": {},
     "output_type": "display_data"
    }
   ],
   "source": [
    "sns.regplot(x=addis_ab_df[['nightlights']],y=addis_ab_df['cons_pc']);"
   ]
  },
  {
   "cell_type": "code",
   "execution_count": 440,
   "id": "da2dd015",
   "metadata": {},
   "outputs": [
    {
     "data": {
      "text/html": [
       "<div>\n",
       "<style scoped>\n",
       "    .dataframe tbody tr th:only-of-type {\n",
       "        vertical-align: middle;\n",
       "    }\n",
       "\n",
       "    .dataframe tbody tr th {\n",
       "        vertical-align: top;\n",
       "    }\n",
       "\n",
       "    .dataframe thead th {\n",
       "        text-align: right;\n",
       "    }\n",
       "</style>\n",
       "<table border=\"1\" class=\"dataframe\">\n",
       "  <thead>\n",
       "    <tr style=\"text-align: right;\">\n",
       "      <th></th>\n",
       "      <th>cons_pc</th>\n",
       "      <th>nightlights</th>\n",
       "    </tr>\n",
       "  </thead>\n",
       "  <tbody>\n",
       "    <tr>\n",
       "      <th>cons_pc</th>\n",
       "      <td>1.00000</td>\n",
       "      <td>-0.11215</td>\n",
       "    </tr>\n",
       "    <tr>\n",
       "      <th>nightlights</th>\n",
       "      <td>-0.11215</td>\n",
       "      <td>1.00000</td>\n",
       "    </tr>\n",
       "  </tbody>\n",
       "</table>\n",
       "</div>"
      ],
      "text/plain": [
       "             cons_pc  nightlights\n",
       "cons_pc      1.00000     -0.11215\n",
       "nightlights -0.11215      1.00000"
      ]
     },
     "execution_count": 440,
     "metadata": {},
     "output_type": "execute_result"
    }
   ],
   "source": [
    "addis_ab_df.drop(columns=['country','cluster_lat','cluster_lon']).corr()"
   ]
  },
  {
   "cell_type": "code",
   "execution_count": 441,
   "id": "4e3531ae",
   "metadata": {},
   "outputs": [],
   "source": [
    "all_cities_df = pd.concat([addis_ab_df,second_eleventh_city_df],axis=0)"
   ]
  },
  {
   "cell_type": "code",
   "execution_count": 442,
   "id": "04d84383",
   "metadata": {},
   "outputs": [],
   "source": [
    "all_cities_df.reset_index(drop=True,inplace=True)"
   ]
  },
  {
   "cell_type": "code",
   "execution_count": 443,
   "id": "4b6b1011",
   "metadata": {},
   "outputs": [
    {
     "data": {
      "text/html": [
       "<div>\n",
       "<style scoped>\n",
       "    .dataframe tbody tr th:only-of-type {\n",
       "        vertical-align: middle;\n",
       "    }\n",
       "\n",
       "    .dataframe tbody tr th {\n",
       "        vertical-align: top;\n",
       "    }\n",
       "\n",
       "    .dataframe thead th {\n",
       "        text-align: right;\n",
       "    }\n",
       "</style>\n",
       "<table border=\"1\" class=\"dataframe\">\n",
       "  <thead>\n",
       "    <tr style=\"text-align: right;\">\n",
       "      <th></th>\n",
       "      <th>country</th>\n",
       "      <th>cluster_lat</th>\n",
       "      <th>cluster_lon</th>\n",
       "      <th>cons_pc</th>\n",
       "      <th>nightlights</th>\n",
       "    </tr>\n",
       "  </thead>\n",
       "  <tbody>\n",
       "    <tr>\n",
       "      <th>0</th>\n",
       "      <td>eth</td>\n",
       "      <td>8.954261</td>\n",
       "      <td>38.776901</td>\n",
       "      <td>30.038594</td>\n",
       "      <td>0.675716</td>\n",
       "    </tr>\n",
       "    <tr>\n",
       "      <th>1</th>\n",
       "      <td>eth</td>\n",
       "      <td>8.957485</td>\n",
       "      <td>38.762128</td>\n",
       "      <td>10.622940</td>\n",
       "      <td>0.755613</td>\n",
       "    </tr>\n",
       "    <tr>\n",
       "      <th>2</th>\n",
       "      <td>eth</td>\n",
       "      <td>8.958031</td>\n",
       "      <td>38.748086</td>\n",
       "      <td>12.825229</td>\n",
       "      <td>0.730208</td>\n",
       "    </tr>\n",
       "  </tbody>\n",
       "</table>\n",
       "</div>"
      ],
      "text/plain": [
       "  country  cluster_lat  cluster_lon    cons_pc  nightlights\n",
       "0     eth     8.954261    38.776901  30.038594     0.675716\n",
       "1     eth     8.957485    38.762128  10.622940     0.755613\n",
       "2     eth     8.958031    38.748086  12.825229     0.730208"
      ]
     },
     "execution_count": 443,
     "metadata": {},
     "output_type": "execute_result"
    }
   ],
   "source": [
    "all_cities_df.head(3)"
   ]
  },
  {
   "cell_type": "code",
   "execution_count": 444,
   "id": "60d5167c",
   "metadata": {},
   "outputs": [
    {
     "data": {
      "text/html": [
       "<div>\n",
       "<style scoped>\n",
       "    .dataframe tbody tr th:only-of-type {\n",
       "        vertical-align: middle;\n",
       "    }\n",
       "\n",
       "    .dataframe tbody tr th {\n",
       "        vertical-align: top;\n",
       "    }\n",
       "\n",
       "    .dataframe thead th {\n",
       "        text-align: right;\n",
       "    }\n",
       "</style>\n",
       "<table border=\"1\" class=\"dataframe\">\n",
       "  <thead>\n",
       "    <tr style=\"text-align: right;\">\n",
       "      <th></th>\n",
       "      <th>cons_pc</th>\n",
       "      <th>nightlights</th>\n",
       "    </tr>\n",
       "  </thead>\n",
       "  <tbody>\n",
       "    <tr>\n",
       "      <th>cons_pc</th>\n",
       "      <td>1.000000</td>\n",
       "      <td>0.029402</td>\n",
       "    </tr>\n",
       "    <tr>\n",
       "      <th>nightlights</th>\n",
       "      <td>0.029402</td>\n",
       "      <td>1.000000</td>\n",
       "    </tr>\n",
       "  </tbody>\n",
       "</table>\n",
       "</div>"
      ],
      "text/plain": [
       "              cons_pc  nightlights\n",
       "cons_pc      1.000000     0.029402\n",
       "nightlights  0.029402     1.000000"
      ]
     },
     "execution_count": 444,
     "metadata": {},
     "output_type": "execute_result"
    }
   ],
   "source": [
    "all_cities_df.drop(columns=['country','cluster_lat','cluster_lon']).corr()"
   ]
  },
  {
   "cell_type": "code",
   "execution_count": null,
   "id": "c54fa540",
   "metadata": {},
   "outputs": [],
   "source": []
  }
 ],
 "metadata": {
  "environment": {
   "kernel": "python3",
   "name": "tf2-cpu.2-11.m121",
   "type": "gcloud",
   "uri": "us-docker.pkg.dev/deeplearning-platform-release/gcr.io/tf2-cpu.2-11:m121"
  },
  "kernelspec": {
   "display_name": "Python 3 (Local)",
   "language": "python",
   "name": "python3"
  },
  "language_info": {
   "codemirror_mode": {
    "name": "ipython",
    "version": 3
   },
   "file_extension": ".py",
   "mimetype": "text/x-python",
   "name": "python",
   "nbconvert_exporter": "python",
   "pygments_lexer": "ipython3",
   "version": "3.10.14"
  },
  "toc": {
   "base_numbering": 1,
   "nav_menu": {},
   "number_sections": true,
   "sideBar": true,
   "skip_h1_title": false,
   "title_cell": "Table of Contents",
   "title_sidebar": "Contents",
   "toc_cell": false,
   "toc_position": {},
   "toc_section_display": true,
   "toc_window_display": false
  }
 },
 "nbformat": 4,
 "nbformat_minor": 5
}
