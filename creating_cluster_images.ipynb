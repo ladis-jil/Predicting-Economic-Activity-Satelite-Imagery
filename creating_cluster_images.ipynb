{
 "cells": [
  {
   "cell_type": "code",
   "execution_count": 48,
   "metadata": {},
   "outputs": [],
   "source": [
    "from PIL import Image\n",
    "import cv2\n",
    "import numpy as np\n",
    "import matplotlib.pyplot as plt\n",
    "import tensorflow as tf\n"
   ]
  },
  {
   "cell_type": "code",
   "execution_count": null,
   "metadata": {},
   "outputs": [],
   "source": [
    "\n",
    "def resize_image(input_path, output_path, target_width, target_height):\n",
    "    img = cv2.open(input_path)\n",
    "    img_resized = cv2.resize((target_width, target_height), Image.ANTIALIAS)\n",
    "    img_resized.save(output_path)\n",
    "    return img \n",
    "input_image_path = \"raw_data/picture.tif\"\n",
    "output_image_path = \"raw_data/resized_picture.tif\"\n",
    "target_width, target_height = 8000, 12300\n",
    "resize_image(input_image_path, output_image_path, target_width, target_height)\n"
   ]
  },
  {
   "cell_type": "code",
   "execution_count": 26,
   "metadata": {},
   "outputs": [],
   "source": [
    "\n",
    "def create_bounding_box(x, y, half_side_km=5):\n",
    "    \"\"\"\n",
    "    Creates a bounding box around a given point (x, y) that forms a square with a specified half-side length in kilometers.\n",
    "    \n",
    "    Args:\n",
    "        x (float): x-coordinate (longitude)\n",
    "        y (float): y-coordinate (latitude)\n",
    "        half_side_km (float): Half of the side length of the square in kilometers (default is 5 km)\n",
    "    \n",
    "    Returns:\n",
    "        tuple: (NE_latitude, NE_longitude, SW_latitude, SW_longitude)\n",
    "    \"\"\"\n",
    "    # Convert half-side length from km to degrees (approximate)\n",
    "    km_to_deg = 1 / 111.32  # 1 degree of latitude is approximately 111.32 km\n",
    "    \n",
    "    # Calculate NE and SW coordinates\n",
    "    NE_latitude = y + half_side_km * km_to_deg\n",
    "    NE_longitude = x + half_side_km * km_to_deg\n",
    "    SW_latitude = y - half_side_km * km_to_deg\n",
    "    SW_longitude = x - half_side_km * km_to_deg\n",
    "    \n",
    "    return NE_latitude, NE_longitude, SW_latitude, SW_longitude\n",
    "\n",
    "def create_image_for_cluster(cluster_lat, cluster_lon, half_side_km=5, tif_image_path=\"picture.tif\"):\n",
    "    \"\"\"\n",
    "    Creates an image for a cluster around a given point (latitude, longitude) using a bounding box.\n",
    "    \n",
    "    Args:\n",
    "        cluster_lat (float): Latitude of the cluster center\n",
    "        cluster_lon (float): Longitude of the cluster center\n",
    "        half_side_km (float): Half of the side length of the bounding box in kilometers (default is 5 km)\n",
    "        tif_image_path (str): Path to the TIF image (default is \"picture.tif\")\n",
    "    \"\"\"\n",
    "    # Calculate bounding box coordinates\n",
    "    NE_lat, NE_lon, SW_lat, SW_lon = create_bounding_box(cluster_lon, cluster_lat, half_side_km)\n",
    "    \n",
    "    # Load the TIF image\n",
    "    tif_image = cv2.imread(\"raw_data/picture.tif\", flags=(cv2.IMREAD_GRAYSCALE | cv2.IMREAD_ANYDEPTH))\n",
    "    # flag lets cv2 open a 32-bit image, normally only allowed 8-bit \n",
    "    \n",
    "    # Calculate pixel coordinates for the bounding box\n",
    "    tif_width, tif_height = tif_image.shape\n",
    "    NE_x = int((NE_lon + 180) * (tif_width / 360))\n",
    "    NE_y = int((90 - NE_lat) * (tif_height / 180))\n",
    "    SW_x = int((SW_lon + 180) * (tif_width / 360))\n",
    "    SW_y = int((90 - SW_lat) * (tif_height / 180))\n",
    "   \n",
    "    return tif_image, tif_image.shape, NE_x, NE_y, SW_x, SW_y"
   ]
  },
  {
   "cell_type": "code",
   "execution_count": 17,
   "metadata": {},
   "outputs": [
    {
     "data": {
      "text/plain": [
       "(-0.07317644125044916,\n",
       " 51.55478055874955,\n",
       " -0.16300755874955086,\n",
       " 51.46494944125045)"
      ]
     },
     "execution_count": 17,
     "metadata": {},
     "output_type": "execute_result"
    }
   ],
   "source": [
    "create_bounding_box(51.509865, -0.118092, half_side_km=5)"
   ]
  },
  {
   "cell_type": "code",
   "execution_count": 27,
   "metadata": {},
   "outputs": [],
   "source": [
    "tif_image, tif_image.shape, NE_x, NE_y, SW_x, SW_y = create_image_for_cluster(51.509865, -0.118092, half_side_km=5, tif_image_path=\"raw_data/picture.tif\")"
   ]
  },
  {
   "cell_type": "code",
   "execution_count": 36,
   "metadata": {},
   "outputs": [
    {
     "data": {
      "text/plain": [
       "(array([[0., 0., 0., ..., 0., 0., 0.],\n",
       "        [0., 0., 0., ..., 0., 0., 0.],\n",
       "        [0., 0., 0., ..., 0., 0., 0.],\n",
       "        ...,\n",
       "        [0., 0., 0., ..., 0., 0., 0.],\n",
       "        [0., 0., 0., ..., 0., 0., 0.],\n",
       "        [0., 0., 0., ..., 0., 0., 0.]], dtype=float32),\n",
       " (18000, 28800),\n",
       " 8996,\n",
       " 6151,\n",
       " 8991,\n",
       " 6165)"
      ]
     },
     "execution_count": 36,
     "metadata": {},
     "output_type": "execute_result"
    }
   ],
   "source": [
    "create_image_for_cluster(51.509865, -0.118092, half_side_km=5, tif_image_path=\"raw_data/picture.tif\")"
   ]
  },
  {
   "cell_type": "code",
   "execution_count": 35,
   "metadata": {},
   "outputs": [
    {
     "data": {
      "text/plain": [
       "(18000, 28800)"
      ]
     },
     "execution_count": 35,
     "metadata": {},
     "output_type": "execute_result"
    }
   ],
   "source": [
    "tif_image.shape"
   ]
  },
  {
   "cell_type": "code",
   "execution_count": 41,
   "metadata": {},
   "outputs": [
    {
     "data": {
      "text/plain": [
       "array([-1.8838821e-02, -1.8290501e-02, -1.8194554e-02, ...,\n",
       "        5.2969105e+04,  5.7591078e+04,  9.2682273e+04], dtype=float32)"
      ]
     },
     "execution_count": 41,
     "metadata": {},
     "output_type": "execute_result"
    }
   ],
   "source": [
    "np.unique(tif_image)"
   ]
  },
  {
   "cell_type": "code",
   "execution_count": 37,
   "metadata": {},
   "outputs": [],
   "source": [
    "cropped_image = tif_image[NE_y:SW_y, SW_x:NE_x]"
   ]
  },
  {
   "cell_type": "code",
   "execution_count": null,
   "metadata": {},
   "outputs": [],
   "source": [
    "6165:6151 , 8991:8996"
   ]
  },
  {
   "cell_type": "code",
   "execution_count": 38,
   "metadata": {},
   "outputs": [
    {
     "data": {
      "text/plain": [
       "(14, 5)"
      ]
     },
     "execution_count": 38,
     "metadata": {},
     "output_type": "execute_result"
    }
   ],
   "source": [
    "cropped_image.shape"
   ]
  },
  {
   "cell_type": "code",
   "execution_count": 39,
   "metadata": {},
   "outputs": [],
   "source": [
    "np.save(\"cluster_london.npy\", cropped_image)"
   ]
  },
  {
   "cell_type": "code",
   "execution_count": 44,
   "metadata": {},
   "outputs": [],
   "source": [
    "cluster_london = np.load(\"cluster_london.npy\")"
   ]
  },
  {
   "cell_type": "code",
   "execution_count": 45,
   "metadata": {},
   "outputs": [
    {
     "data": {
      "text/plain": [
       "(14, 5)"
      ]
     },
     "execution_count": 45,
     "metadata": {},
     "output_type": "execute_result"
    }
   ],
   "source": [
    "cluster_london.shape"
   ]
  },
  {
   "cell_type": "code",
   "execution_count": 49,
   "metadata": {},
   "outputs": [
    {
     "data": {
      "text/plain": [
       "TensorShape([14, 5, 1])"
      ]
     },
     "execution_count": 49,
     "metadata": {},
     "output_type": "execute_result"
    }
   ],
   "source": [
    "tf.expand_dims(cluster_london, axis=-1).shape"
   ]
  },
  {
   "cell_type": "code",
   "execution_count": 51,
   "metadata": {},
   "outputs": [
    {
     "data": {
      "text/plain": [
       "<matplotlib.image.AxesImage at 0x3d0476a10>"
      ]
     },
     "execution_count": 51,
     "metadata": {},
     "output_type": "execute_result"
    },
    {
     "data": {
      "image/png": "[encoded data removed]",
      "text/plain": [
       "<Figure size 640x480 with 1 Axes>"
      ]
     },
     "metadata": {},
     "output_type": "display_data"
    }
   ],
   "source": [
    "plt.imshow(cluster_london)"
   ]
  },
  {
   "cell_type": "code",
   "execution_count": null,
   "metadata": {},
   "outputs": [],
   "source": [
    "    # Crop the TIF image to the bounding box\n",
    "    cropped_image = tif_image.crop((SW_x, SW_y, NE_x, NE_y))\n",
    "    \n",
    "    # Save the cropped image\n",
    "    cropped_image.save(f\"cluster_{cluster_lat}_{cluster_lon}.png\")\n",
    "    print(f\"Image for cluster ({cluster_lat}, {cluster_lon}) saved as cluster_{cluster_lat}_{cluster_lon}.png\")\n",
    "\n",
    "# Example usage: Create an image for a cluster around Vancouver, BC\n",
    "london_latitude = 51.509865\n",
    "london_longitude = -0.118092\n",
    "create_image_for_cluster(london_latitude, london_longitude, half_side_km=5)\n"
   ]
  }
 ],
 "metadata": {
  "kernelspec": {
   "display_name": "Predicting-Economic-Activity-Satelite-Imagery",
   "language": "python",
   "name": "python3"
  },
  "language_info": {
   "codemirror_mode": {
    "name": "ipython",
    "version": 3
   },
   "file_extension": ".py",
   "mimetype": "text/x-python",
   "name": "python",
   "nbconvert_exporter": "python",
   "pygments_lexer": "ipython3",
   "version": "3.10.6"
  }
 },
 "nbformat": 4,
 "nbformat_minor": 2
}
