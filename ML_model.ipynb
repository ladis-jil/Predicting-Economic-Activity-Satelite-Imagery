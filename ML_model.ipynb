{
 "cells": [
  {
   "cell_type": "code",
   "execution_count": 171,
   "id": "90cb73de",
   "metadata": {},
   "outputs": [],
   "source": [
    "import pandas as pd\n",
    "import numpy as np\n",
    "import os\n",
    "import seaborn as sns\n",
    "from sklearn.preprocessing import MinMaxScaler\n",
    "from sklearn.linear_model import LinearRegression\n",
    "from sklearn.model_selection import KFold, cross_val_score\n",
    "from sklearn.model_selection import train_test_split\n",
    "from sklearn.model_selection import cross_validate\n",
    "import xgboost as xgb\n",
    "from sklearn.metrics import make_scorer, mean_squared_error, r2_score\n"
   ]
  },
  {
   "cell_type": "code",
   "execution_count": 86,
   "id": "75959d57",
   "metadata": {},
   "outputs": [],
   "source": [
    "# load a csv called data.csv with the separation character ','\n",
    "\n",
    "geo_data = pd.read_csv('raw_data/geo_eth.csv', sep=',')\n",
    "cons_data = pd.read_csv('raw_data/cons_eth.csv', sep=',')"
   ]
  },
  {
   "cell_type": "code",
   "execution_count": 87,
   "id": "a4eb713d",
   "metadata": {},
   "outputs": [
    {
     "data": {
      "text/plain": [
       "(4954, 42)"
      ]
     },
     "execution_count": 87,
     "metadata": {},
     "output_type": "execute_result"
    }
   ],
   "source": [
    "geo_data.shape"
   ]
  },
  {
   "cell_type": "code",
   "execution_count": 47,
   "id": "00d30265",
   "metadata": {},
   "outputs": [
    {
     "data": {
      "text/html": [
       "<div>\n",
       "<style scoped>\n",
       "    .dataframe tbody tr th:only-of-type {\n",
       "        vertical-align: middle;\n",
       "    }\n",
       "\n",
       "    .dataframe tbody tr th {\n",
       "        vertical-align: top;\n",
       "    }\n",
       "\n",
       "    .dataframe thead th {\n",
       "        text-align: right;\n",
       "    }\n",
       "</style>\n",
       "<table border=\"1\" class=\"dataframe\">\n",
       "  <thead>\n",
       "    <tr style=\"text-align: right;\">\n",
       "      <th></th>\n",
       "      <th>household_id</th>\n",
       "      <th>household_id2</th>\n",
       "      <th>ea_id</th>\n",
       "      <th>ea_id2</th>\n",
       "      <th>saq01</th>\n",
       "      <th>rural</th>\n",
       "      <th>pw_w3</th>\n",
       "      <th>adulteq</th>\n",
       "      <th>hh_size</th>\n",
       "      <th>no_conv</th>\n",
       "      <th>no_cons</th>\n",
       "      <th>food_cons_ann</th>\n",
       "      <th>nonfood_cons_ann</th>\n",
       "      <th>educ_cons_ann</th>\n",
       "      <th>total_cons_ann</th>\n",
       "      <th>price_index_hce</th>\n",
       "      <th>nom_totcons_aeq</th>\n",
       "      <th>cons_quint</th>\n",
       "    </tr>\n",
       "  </thead>\n",
       "  <tbody>\n",
       "    <tr>\n",
       "      <th>0</th>\n",
       "      <td>1010101601002</td>\n",
       "      <td>10101088801601002</td>\n",
       "      <td>1010101601</td>\n",
       "      <td>10101088801601</td>\n",
       "      <td>1</td>\n",
       "      <td>1</td>\n",
       "      <td>2897.155029</td>\n",
       "      <td>0.74</td>\n",
       "      <td>1</td>\n",
       "      <td>0</td>\n",
       "      <td>0</td>\n",
       "      <td>1970.800049</td>\n",
       "      <td>1013.0</td>\n",
       "      <td>0.0</td>\n",
       "      <td>2983.800049</td>\n",
       "      <td>1.034</td>\n",
       "      <td>4032.162109</td>\n",
       "      <td>2.0</td>\n",
       "    </tr>\n",
       "    <tr>\n",
       "      <th>1</th>\n",
       "      <td>1010101601017</td>\n",
       "      <td>10101088801601017</td>\n",
       "      <td>1010101601</td>\n",
       "      <td>10101088801601</td>\n",
       "      <td>1</td>\n",
       "      <td>1</td>\n",
       "      <td>2897.155029</td>\n",
       "      <td>7.21</td>\n",
       "      <td>9</td>\n",
       "      <td>0</td>\n",
       "      <td>0</td>\n",
       "      <td>7883.200195</td>\n",
       "      <td>5337.0</td>\n",
       "      <td>358.0</td>\n",
       "      <td>13578.200195</td>\n",
       "      <td>1.034</td>\n",
       "      <td>1883.245483</td>\n",
       "      <td>1.0</td>\n",
       "    </tr>\n",
       "    <tr>\n",
       "      <th>2</th>\n",
       "      <td>1010101601034</td>\n",
       "      <td>10101088801601034</td>\n",
       "      <td>1010101601</td>\n",
       "      <td>10101088801601</td>\n",
       "      <td>1</td>\n",
       "      <td>1</td>\n",
       "      <td>2897.155029</td>\n",
       "      <td>0.74</td>\n",
       "      <td>1</td>\n",
       "      <td>0</td>\n",
       "      <td>0</td>\n",
       "      <td>8958.444458</td>\n",
       "      <td>322.0</td>\n",
       "      <td>0.0</td>\n",
       "      <td>9280.444336</td>\n",
       "      <td>1.034</td>\n",
       "      <td>12541.140625</td>\n",
       "      <td>5.0</td>\n",
       "    </tr>\n",
       "    <tr>\n",
       "      <th>3</th>\n",
       "      <td>1010101601049</td>\n",
       "      <td>10101088801601049</td>\n",
       "      <td>1010101601</td>\n",
       "      <td>10101088801601</td>\n",
       "      <td>1</td>\n",
       "      <td>1</td>\n",
       "      <td>2897.155029</td>\n",
       "      <td>2.50</td>\n",
       "      <td>3</td>\n",
       "      <td>0</td>\n",
       "      <td>0</td>\n",
       "      <td>9594.000000</td>\n",
       "      <td>1630.0</td>\n",
       "      <td>480.0</td>\n",
       "      <td>11704.000000</td>\n",
       "      <td>1.034</td>\n",
       "      <td>4681.600098</td>\n",
       "      <td>3.0</td>\n",
       "    </tr>\n",
       "    <tr>\n",
       "      <th>4</th>\n",
       "      <td>1010101601064</td>\n",
       "      <td>10101088801601064</td>\n",
       "      <td>1010101601</td>\n",
       "      <td>10101088801601</td>\n",
       "      <td>1</td>\n",
       "      <td>1</td>\n",
       "      <td>2897.155029</td>\n",
       "      <td>1.58</td>\n",
       "      <td>2</td>\n",
       "      <td>0</td>\n",
       "      <td>0</td>\n",
       "      <td>11702.888916</td>\n",
       "      <td>3272.0</td>\n",
       "      <td>0.0</td>\n",
       "      <td>14974.888672</td>\n",
       "      <td>1.034</td>\n",
       "      <td>9477.778320</td>\n",
       "      <td>5.0</td>\n",
       "    </tr>\n",
       "  </tbody>\n",
       "</table>\n",
       "</div>"
      ],
      "text/plain": [
       "    household_id      household_id2       ea_id          ea_id2  saq01  rural  \\\n",
       "0  1010101601002  10101088801601002  1010101601  10101088801601      1      1   \n",
       "1  1010101601017  10101088801601017  1010101601  10101088801601      1      1   \n",
       "2  1010101601034  10101088801601034  1010101601  10101088801601      1      1   \n",
       "3  1010101601049  10101088801601049  1010101601  10101088801601      1      1   \n",
       "4  1010101601064  10101088801601064  1010101601  10101088801601      1      1   \n",
       "\n",
       "         pw_w3  adulteq  hh_size  no_conv  no_cons  food_cons_ann  \\\n",
       "0  2897.155029     0.74        1        0        0    1970.800049   \n",
       "1  2897.155029     7.21        9        0        0    7883.200195   \n",
       "2  2897.155029     0.74        1        0        0    8958.444458   \n",
       "3  2897.155029     2.50        3        0        0    9594.000000   \n",
       "4  2897.155029     1.58        2        0        0   11702.888916   \n",
       "\n",
       "   nonfood_cons_ann  educ_cons_ann  total_cons_ann  price_index_hce  \\\n",
       "0            1013.0            0.0     2983.800049            1.034   \n",
       "1            5337.0          358.0    13578.200195            1.034   \n",
       "2             322.0            0.0     9280.444336            1.034   \n",
       "3            1630.0          480.0    11704.000000            1.034   \n",
       "4            3272.0            0.0    14974.888672            1.034   \n",
       "\n",
       "   nom_totcons_aeq  cons_quint  \n",
       "0      4032.162109         2.0  \n",
       "1      1883.245483         1.0  \n",
       "2     12541.140625         5.0  \n",
       "3      4681.600098         3.0  \n",
       "4      9477.778320         5.0  "
      ]
     },
     "execution_count": 47,
     "metadata": {},
     "output_type": "execute_result"
    }
   ],
   "source": [
    "cons_data.head()"
   ]
  },
  {
   "cell_type": "code",
   "execution_count": 48,
   "id": "4beaf474",
   "metadata": {},
   "outputs": [],
   "source": [
    "\n",
    "COUNTRIES_DIR = os.path.join(\"..\", 'data', 'countries')"
   ]
  },
  {
   "cell_type": "code",
   "execution_count": 49,
   "id": "ad9d4353",
   "metadata": {},
   "outputs": [],
   "source": [
    "def process_ethiopia():\n",
    "\n",
    "    consumption_pc_col = 'total_cons_ann' # per capita\n",
    "    hhsize_col = 'hh_size' # people in household\n",
    "\n",
    "    lat_col = 'lat_dd_mod'\n",
    "    lon_col = 'lon_dd_mod'\n",
    "\n",
    "    # purchasing power parity for ethiopia in 2015 (https://data.worldbank.org/indicator/PA.NUS.PRVT.PP?locations=ET)\n",
    "    ppp = 7.882\n",
    "    \n",
    "    # for file in [consumption_file, geovariables_file]:\n",
    "    #     assert os.path.isfile(os.path.join(lsms_dir, file)), print(f'Could not find {file}')\n",
    "    \n",
    "    df = cons_data\n",
    "    df['cons_ph'] = df[consumption_pc_col] * df[hhsize_col]\n",
    "    df['pph'] = df[hhsize_col]\n",
    "    df['cons_ph'] = df['cons_ph'] / ppp / 365\n",
    "    df = df[['household_id2', 'cons_ph', 'pph']]\n",
    "\n",
    "    df_geo = geo_data\n",
    "    df_cords = df_geo[['household_id2', lat_col, lon_col]]\n",
    "    df_cords.rename(columns={lat_col: 'cluster_lat', lon_col: 'cluster_lon'}, inplace=True)\n",
    "    df_combined = pd.merge(df, df_cords, on='household_id2')\n",
    "    df_combined.drop(['household_id2'], axis=1, inplace=True)\n",
    "    df_combined.dropna(inplace=True) # can't use na values\n",
    "  \n",
    "    df_clusters = df_combined.groupby(['cluster_lat', 'cluster_lon']).sum().reset_index()\n",
    "    df_clusters['cons_pc'] = df_clusters['cons_ph'] / df_clusters['pph'] # divides total cluster income by people\n",
    "    df_clusters['country'] = 'eth'\n",
    "    return df_clusters[['country', 'cluster_lat', 'cluster_lon', 'cons_pc']]"
   ]
  },
  {
   "cell_type": "code",
   "execution_count": 50,
   "id": "3e214ace",
   "metadata": {},
   "outputs": [
    {
     "name": "stderr",
     "output_type": "stream",
     "text": [
      "/var/folders/78/kf_z610d5vvb7ch9l49_lghh0000gn/T/ipykernel_87404/1253664893.py:23: SettingWithCopyWarning: \n",
      "A value is trying to be set on a copy of a slice from a DataFrame\n",
      "\n",
      "See the caveats in the documentation: https://pandas.pydata.org/pandas-docs/stable/user_guide/indexing.html#returning-a-view-versus-a-copy\n",
      "  df_cords.rename(columns={lat_col: 'cluster_lat', lon_col: 'cluster_lon'}, inplace=True)\n"
     ]
    }
   ],
   "source": [
    "data = process_ethiopia()"
   ]
  },
  {
   "cell_type": "code",
   "execution_count": 269,
   "id": "a96c43be",
   "metadata": {},
   "outputs": [],
   "source": [
    "data['nightlights'] = data['nightlights'].astype('float64')"
   ]
  },
  {
   "cell_type": "code",
   "execution_count": 274,
   "id": "da281ba4",
   "metadata": {},
   "outputs": [
    {
     "data": {
      "text/html": [
       "<div>\n",
       "<style scoped>\n",
       "    .dataframe tbody tr th:only-of-type {\n",
       "        vertical-align: middle;\n",
       "    }\n",
       "\n",
       "    .dataframe tbody tr th {\n",
       "        vertical-align: top;\n",
       "    }\n",
       "\n",
       "    .dataframe thead th {\n",
       "        text-align: right;\n",
       "    }\n",
       "</style>\n",
       "<table border=\"1\" class=\"dataframe\">\n",
       "  <thead>\n",
       "    <tr style=\"text-align: right;\">\n",
       "      <th></th>\n",
       "      <th>country</th>\n",
       "      <th>cluster_lat</th>\n",
       "      <th>cluster_lon</th>\n",
       "      <th>cons_pc</th>\n",
       "      <th>nightlights</th>\n",
       "    </tr>\n",
       "  </thead>\n",
       "  <tbody>\n",
       "    <tr>\n",
       "      <th>0</th>\n",
       "      <td>eth</td>\n",
       "      <td>3.455701</td>\n",
       "      <td>39.515994</td>\n",
       "      <td>14.854634</td>\n",
       "      <td>0.0</td>\n",
       "    </tr>\n",
       "    <tr>\n",
       "      <th>1</th>\n",
       "      <td>eth</td>\n",
       "      <td>3.549937</td>\n",
       "      <td>39.184234</td>\n",
       "      <td>14.312022</td>\n",
       "      <td>0.0</td>\n",
       "    </tr>\n",
       "    <tr>\n",
       "      <th>2</th>\n",
       "      <td>eth</td>\n",
       "      <td>3.864243</td>\n",
       "      <td>39.101366</td>\n",
       "      <td>12.470145</td>\n",
       "      <td>0.0</td>\n",
       "    </tr>\n",
       "    <tr>\n",
       "      <th>3</th>\n",
       "      <td>eth</td>\n",
       "      <td>3.982931</td>\n",
       "      <td>38.491368</td>\n",
       "      <td>8.336539</td>\n",
       "      <td>0.0</td>\n",
       "    </tr>\n",
       "    <tr>\n",
       "      <th>4</th>\n",
       "      <td>eth</td>\n",
       "      <td>4.048194</td>\n",
       "      <td>41.930928</td>\n",
       "      <td>4.762526</td>\n",
       "      <td>0.0</td>\n",
       "    </tr>\n",
       "    <tr>\n",
       "      <th>...</th>\n",
       "      <td>...</td>\n",
       "      <td>...</td>\n",
       "      <td>...</td>\n",
       "      <td>...</td>\n",
       "      <td>...</td>\n",
       "    </tr>\n",
       "    <tr>\n",
       "      <th>518</th>\n",
       "      <td>eth</td>\n",
       "      <td>14.288590</td>\n",
       "      <td>38.210252</td>\n",
       "      <td>13.926005</td>\n",
       "      <td>0.0</td>\n",
       "    </tr>\n",
       "    <tr>\n",
       "      <th>519</th>\n",
       "      <td>eth</td>\n",
       "      <td>14.300796</td>\n",
       "      <td>39.059489</td>\n",
       "      <td>6.882396</td>\n",
       "      <td>0.0</td>\n",
       "    </tr>\n",
       "    <tr>\n",
       "      <th>520</th>\n",
       "      <td>eth</td>\n",
       "      <td>14.319217</td>\n",
       "      <td>39.271599</td>\n",
       "      <td>5.894326</td>\n",
       "      <td>0.0</td>\n",
       "    </tr>\n",
       "    <tr>\n",
       "      <th>521</th>\n",
       "      <td>eth</td>\n",
       "      <td>14.353816</td>\n",
       "      <td>37.890876</td>\n",
       "      <td>8.197660</td>\n",
       "      <td>0.0</td>\n",
       "    </tr>\n",
       "    <tr>\n",
       "      <th>522</th>\n",
       "      <td>eth</td>\n",
       "      <td>14.455962</td>\n",
       "      <td>39.479082</td>\n",
       "      <td>11.191210</td>\n",
       "      <td>0.0</td>\n",
       "    </tr>\n",
       "  </tbody>\n",
       "</table>\n",
       "<p>523 rows × 5 columns</p>\n",
       "</div>"
      ],
      "text/plain": [
       "    country  cluster_lat  cluster_lon    cons_pc  nightlights\n",
       "0       eth     3.455701    39.515994  14.854634          0.0\n",
       "1       eth     3.549937    39.184234  14.312022          0.0\n",
       "2       eth     3.864243    39.101366  12.470145          0.0\n",
       "3       eth     3.982931    38.491368   8.336539          0.0\n",
       "4       eth     4.048194    41.930928   4.762526          0.0\n",
       "..      ...          ...          ...        ...          ...\n",
       "518     eth    14.288590    38.210252  13.926005          0.0\n",
       "519     eth    14.300796    39.059489   6.882396          0.0\n",
       "520     eth    14.319217    39.271599   5.894326          0.0\n",
       "521     eth    14.353816    37.890876   8.197660          0.0\n",
       "522     eth    14.455962    39.479082  11.191210          0.0\n",
       "\n",
       "[523 rows x 5 columns]"
      ]
     },
     "execution_count": 274,
     "metadata": {},
     "output_type": "execute_result"
    }
   ],
   "source": [
    "data"
   ]
  },
  {
   "cell_type": "code",
   "execution_count": 250,
   "id": "d1aab31a",
   "metadata": {},
   "outputs": [],
   "source": [
    "RANDOM_SEED = 7 # for reproducibility\n",
    "\n",
    "# each cluster must have AT LEAST this many images after doing nightlights processing\n",
    "MIN_IMAGES_PER_CLUSTER = 10"
   ]
  },
  {
   "cell_type": "code",
   "execution_count": 258,
   "id": "adff0dca",
   "metadata": {},
   "outputs": [],
   "source": [
    "def drop_0s(df, fr=0.1):\n",
    "    \"\"\"\n",
    "        Solves for d:\n",
    "            (c_z - d)/(n - d) = fr\n",
    "        Where d = rows to drop, c_z = num rows with zero nightlights, n = num rows, fr = frac remaining\n",
    "        \n",
    "        Yields:\n",
    "        d = (c_z - n*fr) / (1 - fr)\n",
    "    \"\"\"\n",
    "    np.random.seed(RANDOM_SEED)\n",
    "    c_z = (df['nightlights']==0).sum()\n",
    "    n = len(df)\n",
    "    assert c_z / n > fr, print(f'Dataframe already has under {fr} zeros')\n",
    "    \n",
    "    d = (c_z - n * fr) / (1 - fr)\n",
    "    d = int(d)\n",
    "    print(f'dropping: {d}')\n",
    "    \n",
    "    zero_df = df[df['nightlights']==0]\n",
    "    zero_clusters = zero_df.groupby(['cluster_lat', 'cluster_lon'])\n",
    "    per_cluster_drop = int(d / len(zero_clusters))\n",
    "    print(f'Need to drop {per_cluster_drop} per cluster with 0 nightlights')\n",
    "    \n",
    "    drop_inds = []\n",
    "    for (cluster_lat, cluster_lon), group in zero_clusters:\n",
    "        z_inds = group.index\n",
    "        clust_drop = np.random.choice(z_inds, per_cluster_drop, replace=False)\n",
    "        assert len(group) - len(clust_drop) >= MIN_IMAGES_PER_CLUSTER, print(f'dropping too many in {cluster_lat}, {cluster_lon}')\n",
    "        drop_inds += clust_drop.tolist()\n",
    "    \n",
    "    # this is how you do it purely randomly but some clusters might get wiped out\n",
    "    # z_inds = np.argwhere(df['nightlights'].values == 0).reshape(-1)\n",
    "    # drop_inds = np.random.choice(z_inds, d, replace=False)\n",
    "    return df.drop(drop_inds).reset_index(drop=True)"
   ]
  },
  {
   "cell_type": "code",
   "execution_count": 257,
   "id": "36f44f32",
   "metadata": {},
   "outputs": [
    {
     "name": "stdout",
     "output_type": "stream",
     "text": [
      "dropping: 371\n",
      "Need to drop 0 per cluster with 0 nightlights\n",
      "dropping too many in 3.45570056699, 39.5159939261\n"
     ]
    },
    {
     "ename": "AssertionError",
     "evalue": "None",
     "output_type": "error",
     "traceback": [
      "\u001b[0;31m---------------------------------------------------------------------------\u001b[0m",
      "\u001b[0;31mAssertionError\u001b[0m                            Traceback (most recent call last)",
      "Cell \u001b[0;32mIn[257], line 1\u001b[0m\n\u001b[0;32m----> 1\u001b[0m \u001b[43mdrop_0s\u001b[49m\u001b[43m(\u001b[49m\u001b[43mdata\u001b[49m\u001b[43m)\u001b[49m\n",
      "Cell \u001b[0;32mIn[251], line 28\u001b[0m, in \u001b[0;36mdrop_0s\u001b[0;34m(df, fr)\u001b[0m\n\u001b[1;32m     26\u001b[0m     z_inds \u001b[38;5;241m=\u001b[39m group\u001b[38;5;241m.\u001b[39mindex\n\u001b[1;32m     27\u001b[0m     clust_drop \u001b[38;5;241m=\u001b[39m np\u001b[38;5;241m.\u001b[39mrandom\u001b[38;5;241m.\u001b[39mchoice(z_inds, per_cluster_drop, replace\u001b[38;5;241m=\u001b[39m\u001b[38;5;28;01mFalse\u001b[39;00m)\n\u001b[0;32m---> 28\u001b[0m     \u001b[38;5;28;01massert\u001b[39;00m \u001b[38;5;28mlen\u001b[39m(group) \u001b[38;5;241m-\u001b[39m \u001b[38;5;28mlen\u001b[39m(clust_drop) \u001b[38;5;241m>\u001b[39m\u001b[38;5;241m=\u001b[39m MIN_IMAGES_PER_CLUSTER, \u001b[38;5;28mprint\u001b[39m(\u001b[38;5;124mf\u001b[39m\u001b[38;5;124m'\u001b[39m\u001b[38;5;124mdropping too many in \u001b[39m\u001b[38;5;132;01m{\u001b[39;00mcluster_lat\u001b[38;5;132;01m}\u001b[39;00m\u001b[38;5;124m, \u001b[39m\u001b[38;5;132;01m{\u001b[39;00mcluster_lon\u001b[38;5;132;01m}\u001b[39;00m\u001b[38;5;124m'\u001b[39m)\n\u001b[1;32m     29\u001b[0m     drop_inds \u001b[38;5;241m+\u001b[39m\u001b[38;5;241m=\u001b[39m clust_drop\u001b[38;5;241m.\u001b[39mtolist()\n\u001b[1;32m     31\u001b[0m \u001b[38;5;66;03m# this is how you do it purely randomly but some clusters might get wiped out\u001b[39;00m\n\u001b[1;32m     32\u001b[0m \u001b[38;5;66;03m# z_inds = np.argwhere(df['nightlights'].values == 0).reshape(-1)\u001b[39;00m\n\u001b[1;32m     33\u001b[0m \u001b[38;5;66;03m# drop_inds = np.random.choice(z_inds, d, replace=False)\u001b[39;00m\n",
      "\u001b[0;31mAssertionError\u001b[0m: None"
     ]
    }
   ],
   "source": [
    "drop_0s(data)"
   ]
  },
  {
   "cell_type": "code",
   "execution_count": 255,
   "id": "78fe415a",
   "metadata": {},
   "outputs": [],
   "source": [
    "def drop_in_range(df, lower=0, upper=2, fr=0.25):\n",
    "    \"\"\"\n",
    "        Very similar to drop_0s calculation, but more generalized. Lower and upper are inclusive.\n",
    "    \"\"\"\n",
    "    np.random.seed(RANDOM_SEED)\n",
    "    boolean_idx = ((lower <= df['nightlights']) & (df['nightlights'] <= upper))\n",
    "    c_under = boolean_idx.sum()\n",
    "    n = len(df)\n",
    "    assert c_under / n > fr, print(f'Dataframe already has under {fr} rows in the given range')\n",
    "    \n",
    "    d = (c_under - n * fr) / (1 - fr)\n",
    "    d = int(d)\n",
    "    print(f'dropping: {d}')\n",
    "    \n",
    "    select_df = df[boolean_idx]\n",
    "    select_clusters = select_df.groupby(['cluster_lat', 'cluster_lon'])\n",
    "    per_cluster_drop = int(d / len(select_clusters))\n",
    "    print(f'Need to drop {per_cluster_drop} per cluster in the given range')\n",
    "    \n",
    "    drop_inds = []\n",
    "    for (cluster_lat, cluster_lon), group in select_clusters:\n",
    "        z_inds = group.index\n",
    "        clust_drop = np.random.choice(z_inds, per_cluster_drop, replace=False)\n",
    "        assert len(group) - len(clust_drop) >= MIN_IMAGES_PER_CLUSTER, print(f'dropping too many in {cluster_lat}, {cluster_lon}')\n",
    "        drop_inds += clust_drop.tolist()\n",
    "        \n",
    "    return df.drop(drop_inds).reset_index(drop=True)"
   ]
  },
  {
   "cell_type": "code",
   "execution_count": 256,
   "id": "14ab9fc3",
   "metadata": {},
   "outputs": [
    {
     "name": "stdout",
     "output_type": "stream",
     "text": [
      "dropping: 423\n",
      "Need to drop 0 per cluster in the given range\n",
      "dropping too many in 3.45570056699, 39.5159939261\n"
     ]
    },
    {
     "ename": "AssertionError",
     "evalue": "None",
     "output_type": "error",
     "traceback": [
      "\u001b[0;31m---------------------------------------------------------------------------\u001b[0m",
      "\u001b[0;31mAssertionError\u001b[0m                            Traceback (most recent call last)",
      "Cell \u001b[0;32mIn[256], line 1\u001b[0m\n\u001b[0;32m----> 1\u001b[0m \u001b[43mdrop_in_range\u001b[49m\u001b[43m(\u001b[49m\u001b[43mdata\u001b[49m\u001b[43m)\u001b[49m\n",
      "Cell \u001b[0;32mIn[255], line 24\u001b[0m, in \u001b[0;36mdrop_in_range\u001b[0;34m(df, lower, upper, fr)\u001b[0m\n\u001b[1;32m     22\u001b[0m     z_inds \u001b[38;5;241m=\u001b[39m group\u001b[38;5;241m.\u001b[39mindex\n\u001b[1;32m     23\u001b[0m     clust_drop \u001b[38;5;241m=\u001b[39m np\u001b[38;5;241m.\u001b[39mrandom\u001b[38;5;241m.\u001b[39mchoice(z_inds, per_cluster_drop, replace\u001b[38;5;241m=\u001b[39m\u001b[38;5;28;01mFalse\u001b[39;00m)\n\u001b[0;32m---> 24\u001b[0m     \u001b[38;5;28;01massert\u001b[39;00m \u001b[38;5;28mlen\u001b[39m(group) \u001b[38;5;241m-\u001b[39m \u001b[38;5;28mlen\u001b[39m(clust_drop) \u001b[38;5;241m>\u001b[39m\u001b[38;5;241m=\u001b[39m MIN_IMAGES_PER_CLUSTER, \u001b[38;5;28mprint\u001b[39m(\u001b[38;5;124mf\u001b[39m\u001b[38;5;124m'\u001b[39m\u001b[38;5;124mdropping too many in \u001b[39m\u001b[38;5;132;01m{\u001b[39;00mcluster_lat\u001b[38;5;132;01m}\u001b[39;00m\u001b[38;5;124m, \u001b[39m\u001b[38;5;132;01m{\u001b[39;00mcluster_lon\u001b[38;5;132;01m}\u001b[39;00m\u001b[38;5;124m'\u001b[39m)\n\u001b[1;32m     25\u001b[0m     drop_inds \u001b[38;5;241m+\u001b[39m\u001b[38;5;241m=\u001b[39m clust_drop\u001b[38;5;241m.\u001b[39mtolist()\n\u001b[1;32m     27\u001b[0m \u001b[38;5;28;01mreturn\u001b[39;00m df\u001b[38;5;241m.\u001b[39mdrop(drop_inds)\u001b[38;5;241m.\u001b[39mreset_index(drop\u001b[38;5;241m=\u001b[39m\u001b[38;5;28;01mTrue\u001b[39;00m)\n",
      "\u001b[0;31mAssertionError\u001b[0m: None"
     ]
    }
   ],
   "source": [
    "drop_in_range(data)"
   ]
  },
  {
   "cell_type": "code",
   "execution_count": 71,
   "id": "2418da62",
   "metadata": {},
   "outputs": [],
   "source": [
    "import math\n",
    "def create_space(lat, lon, s=1):\n",
    "    \"\"\"Creates a s km x s km square centered on (lat, lon)\"\"\"\n",
    "    v = (180/math.pi)*(500/6378137)*s # roughly 0.045 for s=10\n",
    "    return lat - v, lon - v, lat + v, lon + v"
   ]
  },
  {
   "cell_type": "code",
   "execution_count": 72,
   "id": "13ec3f64",
   "metadata": {},
   "outputs": [
    {
     "name": "stdout",
     "output_type": "stream",
     "text": [
      "(18000, 28800)\n"
     ]
    }
   ],
   "source": [
    "import rasterio\n",
    "\n",
    "url_image = \"raw_data/picture.tif\"\n",
    "with rasterio.open(url_image) as src:\n",
    "    image_data = src.read(1)  \n",
    "    transform = src.transform\n",
    "    tif_array = np.squeeze(image_data)\n",
    "\n",
    "    print(tif_array.shape)"
   ]
  },
  {
   "cell_type": "code",
   "execution_count": 73,
   "id": "146f80ec",
   "metadata": {},
   "outputs": [],
   "source": [
    "def custom_rasterio_open( min_lon, min_lat):\n",
    "    xminPixel, ymaxPixel = ~transform * (min_lon, min_lat)\n",
    "\n",
    "    xminPixel, ymaxPixel = int(xminPixel), int(ymaxPixel)\n",
    "    \n",
    "    return xminPixel, ymaxPixel"
   ]
  },
  {
   "cell_type": "code",
   "execution_count": 77,
   "id": "487d33dd",
   "metadata": {},
   "outputs": [],
   "source": [
    "def add_nightlights(df, tif_array):\n",
    "    ''' \n",
    "    This takes a dataframe with columns cluster_lat, cluster_lon and finds the average \n",
    "    nightlights in 2015 using a 10kmx10km box around the point\n",
    "    \n",
    "    I try all the nighlights tifs until a match is found, or none are left upon which an error is raised\n",
    "    '''\n",
    "    cluster_nightlights = []\n",
    "    for i,r in df.iterrows():\n",
    "        min_lat, min_lon, max_lat, max_lon = create_space(r.cluster_lat, r.cluster_lon)\n",
    "        \n",
    "        xminPixel, ymaxPixel = custom_rasterio_open(min_lon, min_lat)\n",
    "        xmaxPixel, yminPixel = custom_rasterio_open(max_lon, max_lat)\n",
    "        assert xminPixel < xmaxPixel, print(r.cluster_lat, r.cluster_lon)\n",
    "        assert yminPixel < ymaxPixel, print(r.cluster_lat, r.cluster_lon)\n",
    "        if xminPixel < 0 or xmaxPixel >= tif_array.shape[1]:\n",
    "            print(f\"no match for {r.cluster_lat}, {r.cluster_lon}\")\n",
    "            raise ValueError()\n",
    "        elif yminPixel < 0 or ymaxPixel >= tif_array.shape[0]:\n",
    "            print(f\"no match for {r.cluster_lat}, {r.cluster_lon}\")\n",
    "            raise ValueError()\n",
    "        xminPixel, yminPixel, xmaxPixel, ymaxPixel = int(xminPixel), int(yminPixel), int(xmaxPixel), int(ymaxPixel)\n",
    "        cluster_nightlights.append(tif_array[yminPixel:ymaxPixel,xminPixel:xmaxPixel].mean())\n",
    "        \n",
    "    df['nightlights'] = cluster_nightlights"
   ]
  },
  {
   "cell_type": "code",
   "execution_count": 267,
   "id": "3e5ed1af",
   "metadata": {},
   "outputs": [
    {
     "data": {
      "text/plain": [
       "count    523.000000\n",
       "mean       9.888373\n",
       "std        5.889993\n",
       "min        1.598231\n",
       "25%        6.078859\n",
       "50%        8.661763\n",
       "75%       12.383713\n",
       "max       68.553522\n",
       "Name: cons_pc, dtype: float64"
      ]
     },
     "execution_count": 267,
     "metadata": {},
     "output_type": "execute_result"
    }
   ],
   "source": [
    "data['cons_pc'].describe()"
   ]
  },
  {
   "cell_type": "code",
   "execution_count": null,
   "id": "09182ff4",
   "metadata": {},
   "outputs": [],
   "source": []
  },
  {
   "cell_type": "code",
   "execution_count": 263,
   "id": "533adfb2",
   "metadata": {},
   "outputs": [],
   "source": [
    "add_nightlights(data, tif_array)"
   ]
  },
  {
   "cell_type": "code",
   "execution_count": 264,
   "id": "c05c940c",
   "metadata": {},
   "outputs": [
    {
     "data": {
      "text/plain": [
       "nightlights\n",
       "0.000000    387\n",
       "5.423706      2\n",
       "0.099446      1\n",
       "0.438061      1\n",
       "1.467288      1\n",
       "           ... \n",
       "1.198396      1\n",
       "1.213367      1\n",
       "0.869634      1\n",
       "2.146259      1\n",
       "2.939054      1\n",
       "Name: count, Length: 136, dtype: int64"
      ]
     },
     "execution_count": 264,
     "metadata": {},
     "output_type": "execute_result"
    }
   ],
   "source": [
    "data['nightlights'].value_counts()"
   ]
  },
  {
   "cell_type": "code",
   "execution_count": 94,
   "id": "7ade32aa",
   "metadata": {},
   "outputs": [],
   "source": [
    "X = data[['nightlights']]\n",
    "y = data['cons_pc']"
   ]
  },
  {
   "cell_type": "code",
   "execution_count": 90,
   "id": "6803c045",
   "metadata": {},
   "outputs": [],
   "source": [
    "X_non_zero = X[X != 0]"
   ]
  },
  {
   "cell_type": "code",
   "execution_count": 91,
   "id": "502c922e",
   "metadata": {},
   "outputs": [
    {
     "data": {
      "text/plain": [
       "23     0.035953\n",
       "24     0.053930\n",
       "31     0.226722\n",
       "32     0.178416\n",
       "36     9.478632\n",
       "         ...   \n",
       "506    1.018144\n",
       "507    8.458162\n",
       "510    5.779657\n",
       "513    0.477778\n",
       "516    2.939054\n",
       "Name: nightlights, Length: 136, dtype: float32"
      ]
     },
     "execution_count": 91,
     "metadata": {},
     "output_type": "execute_result"
    }
   ],
   "source": [
    "X_non_zero"
   ]
  },
  {
   "cell_type": "code",
   "execution_count": 105,
   "id": "216c5484",
   "metadata": {},
   "outputs": [
    {
     "data": {
      "text/plain": [
       "<Axes: xlabel='nightlights', ylabel='Count'>"
      ]
     },
     "execution_count": 105,
     "metadata": {},
     "output_type": "execute_result"
    },
    {
     "data": {
      "image/png": "[encoded data removed]",
      "text/plain": [
       "<Figure size 640x480 with 1 Axes>"
      ]
     },
     "metadata": {},
     "output_type": "display_data"
    }
   ],
   "source": [
    "sns.histplot(X_non_zero)"
   ]
  },
  {
   "cell_type": "code",
   "execution_count": 108,
   "id": "072765c6",
   "metadata": {},
   "outputs": [
    {
     "data": {
      "text/plain": [
       "<Axes: xlabel='nightlights', ylabel='cons_pc'>"
      ]
     },
     "execution_count": 108,
     "metadata": {},
     "output_type": "execute_result"
    },
    {
     "data": {
      "image/png": "[encoded data removed]",
      "text/plain": [
       "<Figure size 640x480 with 1 Axes>"
      ]
     },
     "metadata": {},
     "output_type": "display_data"
    }
   ],
   "source": [
    "sns.regplot(x=X,y=y)"
   ]
  },
  {
   "cell_type": "code",
   "execution_count": 95,
   "id": "b305f6fe",
   "metadata": {},
   "outputs": [],
   "source": [
    "scaler = MinMaxScaler()\n",
    "X_scaled = scaler.fit_transform(X)"
   ]
  },
  {
   "cell_type": "code",
   "execution_count": 100,
   "id": "d72e2eb6",
   "metadata": {},
   "outputs": [],
   "source": [
    "X_scaled = pd.DataFrame(X_scaled)"
   ]
  },
  {
   "cell_type": "code",
   "execution_count": 116,
   "id": "3d1ee047",
   "metadata": {},
   "outputs": [
    {
     "data": {
      "text/plain": [
       "0.032343327616313935"
      ]
     },
     "execution_count": 116,
     "metadata": {},
     "output_type": "execute_result"
    }
   ],
   "source": [
    "model = LinearRegression()\n",
    "k_folds = KFold(n_splits=5)\n",
    "scores = cross_val_score(model, X_scaled, y, cv = k_folds)\n",
    "scores  "
   ]
  },
  {
   "cell_type": "code",
   "execution_count": 154,
   "id": "cc80d58e",
   "metadata": {},
   "outputs": [
    {
     "data": {
      "text/plain": [
       "array([ 2.13625223e-01,  2.12959218e-04, -2.33696339e-01,  9.29250013e-02,\n",
       "        8.86497942e-02])"
      ]
     },
     "execution_count": 154,
     "metadata": {},
     "output_type": "execute_result"
    }
   ],
   "source": [
    "scores"
   ]
  },
  {
   "cell_type": "code",
   "execution_count": 121,
   "id": "31be375f",
   "metadata": {},
   "outputs": [],
   "source": [
    "data_Xy = data[['nightlights','cons_pc']]"
   ]
  },
  {
   "cell_type": "code",
   "execution_count": 123,
   "id": "30e78dda",
   "metadata": {},
   "outputs": [
    {
     "name": "stderr",
     "output_type": "stream",
     "text": [
      "/var/folders/78/kf_z610d5vvb7ch9l49_lghh0000gn/T/ipykernel_87404/3084886050.py:1: SettingWithCopyWarning: \n",
      "A value is trying to be set on a copy of a slice from a DataFrame.\n",
      "Try using .loc[row_indexer,col_indexer] = value instead\n",
      "\n",
      "See the caveats in the documentation: https://pandas.pydata.org/pandas-docs/stable/user_guide/indexing.html#returning-a-view-versus-a-copy\n",
      "  data_Xy['nightlights'] = scaler.fit_transform(X)\n"
     ]
    }
   ],
   "source": [
    "data_Xy['nightlights'] = scaler.fit_transform(X)"
   ]
  },
  {
   "cell_type": "code",
   "execution_count": 151,
   "id": "248992bf",
   "metadata": {},
   "outputs": [
    {
     "data": {
      "text/html": [
       "<div>\n",
       "<style scoped>\n",
       "    .dataframe tbody tr th:only-of-type {\n",
       "        vertical-align: middle;\n",
       "    }\n",
       "\n",
       "    .dataframe tbody tr th {\n",
       "        vertical-align: top;\n",
       "    }\n",
       "\n",
       "    .dataframe thead th {\n",
       "        text-align: right;\n",
       "    }\n",
       "</style>\n",
       "<table border=\"1\" class=\"dataframe\">\n",
       "  <thead>\n",
       "    <tr style=\"text-align: right;\">\n",
       "      <th></th>\n",
       "      <th>nightlights</th>\n",
       "      <th>cons_pc</th>\n",
       "    </tr>\n",
       "  </thead>\n",
       "  <tbody>\n",
       "    <tr>\n",
       "      <th>0</th>\n",
       "      <td>0.0</td>\n",
       "      <td>14.854634</td>\n",
       "    </tr>\n",
       "    <tr>\n",
       "      <th>1</th>\n",
       "      <td>0.0</td>\n",
       "      <td>14.312022</td>\n",
       "    </tr>\n",
       "    <tr>\n",
       "      <th>2</th>\n",
       "      <td>0.0</td>\n",
       "      <td>12.470145</td>\n",
       "    </tr>\n",
       "    <tr>\n",
       "      <th>3</th>\n",
       "      <td>0.0</td>\n",
       "      <td>8.336539</td>\n",
       "    </tr>\n",
       "    <tr>\n",
       "      <th>4</th>\n",
       "      <td>0.0</td>\n",
       "      <td>4.762526</td>\n",
       "    </tr>\n",
       "  </tbody>\n",
       "</table>\n",
       "</div>"
      ],
      "text/plain": [
       "   nightlights    cons_pc\n",
       "0          0.0  14.854634\n",
       "1          0.0  14.312022\n",
       "2          0.0  12.470145\n",
       "3          0.0   8.336539\n",
       "4          0.0   4.762526"
      ]
     },
     "execution_count": 151,
     "metadata": {},
     "output_type": "execute_result"
    }
   ],
   "source": [
    "data_Xy.head()"
   ]
  },
  {
   "cell_type": "code",
   "execution_count": 162,
   "id": "d58857e3",
   "metadata": {},
   "outputs": [
    {
     "data": {
      "text/html": [
       "<div>\n",
       "<style scoped>\n",
       "    .dataframe tbody tr th:only-of-type {\n",
       "        vertical-align: middle;\n",
       "    }\n",
       "\n",
       "    .dataframe tbody tr th {\n",
       "        vertical-align: top;\n",
       "    }\n",
       "\n",
       "    .dataframe thead th {\n",
       "        text-align: right;\n",
       "    }\n",
       "</style>\n",
       "<table border=\"1\" class=\"dataframe\">\n",
       "  <thead>\n",
       "    <tr style=\"text-align: right;\">\n",
       "      <th></th>\n",
       "      <th>nightlights</th>\n",
       "      <th>cons_pc</th>\n",
       "    </tr>\n",
       "  </thead>\n",
       "  <tbody>\n",
       "    <tr>\n",
       "      <th>nightlights</th>\n",
       "      <td>1.000000</td>\n",
       "      <td>0.440152</td>\n",
       "    </tr>\n",
       "    <tr>\n",
       "      <th>cons_pc</th>\n",
       "      <td>0.440152</td>\n",
       "      <td>1.000000</td>\n",
       "    </tr>\n",
       "  </tbody>\n",
       "</table>\n",
       "</div>"
      ],
      "text/plain": [
       "             nightlights   cons_pc\n",
       "nightlights     1.000000  0.440152\n",
       "cons_pc         0.440152  1.000000"
      ]
     },
     "execution_count": 162,
     "metadata": {},
     "output_type": "execute_result"
    }
   ],
   "source": [
    "data_Xy.corr()"
   ]
  },
  {
   "cell_type": "code",
   "execution_count": 229,
   "id": "27b33c1d",
   "metadata": {},
   "outputs": [],
   "source": [
    "#K-fold CV without data leakage\n",
    "def k_fold_cv(df):\n",
    "    #isolate nightlights and cons_pc columns\n",
    "    df = df[['nightlights','cons_pc']]\n",
    "    \n",
    "    #train test split\n",
    "    train_data, test_data = train_test_split(df, test_size=0.3)\n",
    "\n",
    "    #define scaler\n",
    "    scaler = MinMaxScaler()\n",
    "    \n",
    "    # Ready X's and y's\n",
    "    X_train = pd.DataFrame(scaler.fit_transform(train_data[['nightlights']]))\n",
    "    y_train = train_data['cons_pc']\n",
    "\n",
    "    X_test = pd.DataFrame(scaler.fit_transform(test_data[['nightlights']]))\n",
    "    y_test = test_data['cons_pc']\n",
    "    n_split = 5\n",
    "    len_split = int(df.shape[0]/n_split)\n",
    "\n",
    "    # Initialize the 1st fold\n",
    "    scores = []\n",
    "    start = 0\n",
    "    stop = len_split\n",
    "\n",
    "    # Start the n-split fold CV\n",
    "    for k in range(n_split): # k in [0,1,2,3,4]\n",
    "        data_val = df.iloc[start:stop, :]\n",
    "        data_train = df.drop(index=data_val.index)\n",
    "        y_train = data_train['cons_pc']\n",
    "        X_train = data_train.drop(columns=['cons_pc'])\n",
    "        y_val = data_val['cons_pc']\n",
    "        X_val = data_val.drop(columns=['cons_pc'])\n",
    "        \n",
    "        #fit model\n",
    "        model_k =  LinearRegression()\n",
    "        model_k.fit(X_train, y_train)\n",
    "        \n",
    "        #append score to scores list\n",
    "        scores.append(model_k.score(X_val, y_val))\n",
    "        \n",
    "        # Setup next fold\n",
    "        start = stop\n",
    "        stop += len_split\n",
    "\n",
    "    # Display the mean score and the scores standard deviation\n",
    "    print(np.array(scores).mean())\n",
    "    print(np.array(scores).std())"
   ]
  },
  {
   "cell_type": "code",
   "execution_count": 230,
   "id": "49744ef9",
   "metadata": {},
   "outputs": [
    {
     "name": "stdout",
     "output_type": "stream",
     "text": [
      "0.03723239805532743\n",
      "0.14092490524978635\n"
     ]
    }
   ],
   "source": [
    "k_fold_cv(data_Xy)"
   ]
  },
  {
   "cell_type": "code",
   "execution_count": 161,
   "id": "51072256",
   "metadata": {},
   "outputs": [],
   "source": [
    "addis_ab_df = data[\n",
    "    (data['cluster_lat'] >= 8.9) & (data['cluster_lat'] <= 9.1) &\n",
    "    (data['cluster_lon'] >= 38.7) & (data['cluster_lon'] <= 38.9)\n",
    "]"
   ]
  },
  {
   "cell_type": "code",
   "execution_count": 188,
   "id": "fe89bb45",
   "metadata": {},
   "outputs": [],
   "source": [
    "#Get co-ords for city boundaries of next 10 most populous cities\n",
    "\n",
    "dire_dawa_df = data[\n",
    "    (data['cluster_lat'] >= 9.57) & (data['cluster_lat'] <= 9.64) &\n",
    "    (data['cluster_lon'] >= 41.8) & (data['cluster_lon'] <= 41.9)\n",
    "]\n",
    "mekelle_df = data[\n",
    "    (data['cluster_lat'] >= 13.45) & (data['cluster_lat'] <= 13.53) &\n",
    "    (data['cluster_lon'] >= 39.4) & (data['cluster_lon'] <= 39.5)\n",
    "]\n",
    "adama_df = data[\n",
    "    (data['cluster_lat'] >= 8.49) & (data['cluster_lat'] <= 8.59) &\n",
    "    (data['cluster_lon'] >= 39.2) & (data['cluster_lon'] <= 39.3)\n",
    "]\n",
    "awassa_df = data[\n",
    "    (data['cluster_lat'] >= 7.0) & (data['cluster_lat'] <= 7.11) &\n",
    "    (data['cluster_lon'] >= 38.46) & (data['cluster_lon'] <= 38.53)\n",
    "]\n",
    "bahir_dar_df = data[\n",
    "    (data['cluster_lat'] >= 11.53) & (data['cluster_lat'] <= 11.63) &\n",
    "    (data['cluster_lon'] >= 37.3) & (data['cluster_lon'] <= 37.47)\n",
    "]\n",
    "gonder_df = data[\n",
    "    (data['cluster_lat'] >= 12.57) & (data['cluster_lat'] <= 12.63) &\n",
    "    (data['cluster_lon'] >= 37.43) & (data['cluster_lon'] <= 37.485)\n",
    "]\n",
    "dessie_df = data[\n",
    "    (data['cluster_lat'] >= 11.09) & (data['cluster_lat'] <= 11.17) &\n",
    "    (data['cluster_lon'] >= 39.61) & (data['cluster_lon'] <= 39.66)\n",
    "]\n",
    "jimma_df = data[\n",
    "    (data['cluster_lat'] >= 7.65) & (data['cluster_lat'] <= 7.703) &\n",
    "    (data['cluster_lon'] >= 36.8) & (data['cluster_lon'] <= 36.87)\n",
    "]\n",
    "jijiga_df = data[\n",
    "    (data['cluster_lat'] >= 9.33) & (data['cluster_lat'] <= 9.374) &\n",
    "    (data['cluster_lon'] >= 42.77) & (data['cluster_lon'] <= 42.823)\n",
    "]\n",
    "shashamane_df = data[\n",
    "    (data['cluster_lat'] >= 7.16) & (data['cluster_lat'] <= 7.233) &\n",
    "    (data['cluster_lon'] >= 38.56) & (data['cluster_lon'] <= 38.65)\n",
    "]"
   ]
  },
  {
   "cell_type": "code",
   "execution_count": 204,
   "id": "238a4095",
   "metadata": {},
   "outputs": [],
   "source": [
    "second_eleventh_city_df = pd.concat([dire_dawa_df,mekelle_df,adama_df,awassa_df,bahir_dar_df,gonder_df,dessie_df,jimma_df,jijiga_df,shashamane_df],axis=0)"
   ]
  },
  {
   "cell_type": "code",
   "execution_count": 206,
   "id": "5838670c",
   "metadata": {},
   "outputs": [],
   "source": [
    "second_eleventh_city_df.reset_index(drop=True,inplace=True)"
   ]
  },
  {
   "cell_type": "code",
   "execution_count": 214,
   "id": "05a9bc06",
   "metadata": {},
   "outputs": [
    {
     "data": {
      "text/html": [
       "<div>\n",
       "<style scoped>\n",
       "    .dataframe tbody tr th:only-of-type {\n",
       "        vertical-align: middle;\n",
       "    }\n",
       "\n",
       "    .dataframe tbody tr th {\n",
       "        vertical-align: top;\n",
       "    }\n",
       "\n",
       "    .dataframe thead th {\n",
       "        text-align: right;\n",
       "    }\n",
       "</style>\n",
       "<table border=\"1\" class=\"dataframe\">\n",
       "  <thead>\n",
       "    <tr style=\"text-align: right;\">\n",
       "      <th></th>\n",
       "      <th>country</th>\n",
       "      <th>cluster_lat</th>\n",
       "      <th>cluster_lon</th>\n",
       "      <th>cons_pc</th>\n",
       "      <th>nightlights</th>\n",
       "    </tr>\n",
       "  </thead>\n",
       "  <tbody>\n",
       "    <tr>\n",
       "      <th>0</th>\n",
       "      <td>eth</td>\n",
       "      <td>9.580849</td>\n",
       "      <td>41.852120</td>\n",
       "      <td>12.376362</td>\n",
       "      <td>4.236239</td>\n",
       "    </tr>\n",
       "    <tr>\n",
       "      <th>1</th>\n",
       "      <td>eth</td>\n",
       "      <td>9.592109</td>\n",
       "      <td>41.874382</td>\n",
       "      <td>22.719716</td>\n",
       "      <td>9.744740</td>\n",
       "    </tr>\n",
       "    <tr>\n",
       "      <th>2</th>\n",
       "      <td>eth</td>\n",
       "      <td>9.592166</td>\n",
       "      <td>41.888189</td>\n",
       "      <td>15.654187</td>\n",
       "      <td>2.486083</td>\n",
       "    </tr>\n",
       "  </tbody>\n",
       "</table>\n",
       "</div>"
      ],
      "text/plain": [
       "  country  cluster_lat  cluster_lon    cons_pc  nightlights\n",
       "0     eth     9.580849    41.852120  12.376362     4.236239\n",
       "1     eth     9.592109    41.874382  22.719716     9.744740\n",
       "2     eth     9.592166    41.888189  15.654187     2.486083"
      ]
     },
     "execution_count": 214,
     "metadata": {},
     "output_type": "execute_result"
    }
   ],
   "source": [
    "second_eleventh_city_df.head(3)"
   ]
  },
  {
   "cell_type": "code",
   "execution_count": 231,
   "id": "828205d6",
   "metadata": {},
   "outputs": [
    {
     "name": "stdout",
     "output_type": "stream",
     "text": [
      "-0.588981007975664\n",
      "0.6531055105716795\n"
     ]
    }
   ],
   "source": [
    "k_fold_cv(second_eleventh_city_df)"
   ]
  },
  {
   "cell_type": "code",
   "execution_count": 233,
   "id": "1e6e6302",
   "metadata": {},
   "outputs": [
    {
     "data": {
      "image/png": "[encoded data removed]",
      "text/plain": [
       "<Figure size 640x480 with 1 Axes>"
      ]
     },
     "metadata": {},
     "output_type": "display_data"
    }
   ],
   "source": [
    "sns.regplot(x=second_eleventh_city_df[['nightlights']],y=second_eleventh_city_df['cons_pc']);"
   ]
  },
  {
   "cell_type": "code",
   "execution_count": 237,
   "id": "78bbfc96",
   "metadata": {},
   "outputs": [
    {
     "data": {
      "text/html": [
       "<div>\n",
       "<style scoped>\n",
       "    .dataframe tbody tr th:only-of-type {\n",
       "        vertical-align: middle;\n",
       "    }\n",
       "\n",
       "    .dataframe tbody tr th {\n",
       "        vertical-align: top;\n",
       "    }\n",
       "\n",
       "    .dataframe thead th {\n",
       "        text-align: right;\n",
       "    }\n",
       "</style>\n",
       "<table border=\"1\" class=\"dataframe\">\n",
       "  <thead>\n",
       "    <tr style=\"text-align: right;\">\n",
       "      <th></th>\n",
       "      <th>cons_pc</th>\n",
       "      <th>nightlights</th>\n",
       "    </tr>\n",
       "  </thead>\n",
       "  <tbody>\n",
       "    <tr>\n",
       "      <th>cons_pc</th>\n",
       "      <td>1.00000</td>\n",
       "      <td>0.28132</td>\n",
       "    </tr>\n",
       "    <tr>\n",
       "      <th>nightlights</th>\n",
       "      <td>0.28132</td>\n",
       "      <td>1.00000</td>\n",
       "    </tr>\n",
       "  </tbody>\n",
       "</table>\n",
       "</div>"
      ],
      "text/plain": [
       "             cons_pc  nightlights\n",
       "cons_pc      1.00000      0.28132\n",
       "nightlights  0.28132      1.00000"
      ]
     },
     "execution_count": 237,
     "metadata": {},
     "output_type": "execute_result"
    }
   ],
   "source": [
    "second_eleventh_city_df.drop(columns=['country','cluster_lat','cluster_lon']).corr()"
   ]
  },
  {
   "cell_type": "code",
   "execution_count": 234,
   "id": "7474bde4",
   "metadata": {},
   "outputs": [
    {
     "data": {
      "image/png": "[encoded data removed]",
      "text/plain": [
       "<Figure size 640x480 with 1 Axes>"
      ]
     },
     "metadata": {},
     "output_type": "display_data"
    }
   ],
   "source": [
    "sns.regplot(x=addis_ab_df[['nightlights']],y=addis_ab_df['cons_pc']);"
   ]
  },
  {
   "cell_type": "code",
   "execution_count": 238,
   "id": "da2dd015",
   "metadata": {},
   "outputs": [
    {
     "data": {
      "text/html": [
       "<div>\n",
       "<style scoped>\n",
       "    .dataframe tbody tr th:only-of-type {\n",
       "        vertical-align: middle;\n",
       "    }\n",
       "\n",
       "    .dataframe tbody tr th {\n",
       "        vertical-align: top;\n",
       "    }\n",
       "\n",
       "    .dataframe thead th {\n",
       "        text-align: right;\n",
       "    }\n",
       "</style>\n",
       "<table border=\"1\" class=\"dataframe\">\n",
       "  <thead>\n",
       "    <tr style=\"text-align: right;\">\n",
       "      <th></th>\n",
       "      <th>cons_pc</th>\n",
       "      <th>nightlights</th>\n",
       "    </tr>\n",
       "  </thead>\n",
       "  <tbody>\n",
       "    <tr>\n",
       "      <th>cons_pc</th>\n",
       "      <td>1.000000</td>\n",
       "      <td>0.136582</td>\n",
       "    </tr>\n",
       "    <tr>\n",
       "      <th>nightlights</th>\n",
       "      <td>0.136582</td>\n",
       "      <td>1.000000</td>\n",
       "    </tr>\n",
       "  </tbody>\n",
       "</table>\n",
       "</div>"
      ],
      "text/plain": [
       "              cons_pc  nightlights\n",
       "cons_pc      1.000000     0.136582\n",
       "nightlights  0.136582     1.000000"
      ]
     },
     "execution_count": 238,
     "metadata": {},
     "output_type": "execute_result"
    }
   ],
   "source": [
    "addis_ab_df.drop(columns=['country','cluster_lat','cluster_lon']).corr()"
   ]
  },
  {
   "cell_type": "code",
   "execution_count": 241,
   "id": "4e3531ae",
   "metadata": {},
   "outputs": [],
   "source": [
    "all_cities_df = pd.concat([addis_ab_df,second_eleventh_city_df],axis=0)"
   ]
  },
  {
   "cell_type": "code",
   "execution_count": 243,
   "id": "04d84383",
   "metadata": {},
   "outputs": [],
   "source": [
    "all_cities_df.reset_index(drop=True,inplace=True)"
   ]
  },
  {
   "cell_type": "code",
   "execution_count": 244,
   "id": "4b6b1011",
   "metadata": {},
   "outputs": [
    {
     "data": {
      "text/html": [
       "<div>\n",
       "<style scoped>\n",
       "    .dataframe tbody tr th:only-of-type {\n",
       "        vertical-align: middle;\n",
       "    }\n",
       "\n",
       "    .dataframe tbody tr th {\n",
       "        vertical-align: top;\n",
       "    }\n",
       "\n",
       "    .dataframe thead th {\n",
       "        text-align: right;\n",
       "    }\n",
       "</style>\n",
       "<table border=\"1\" class=\"dataframe\">\n",
       "  <thead>\n",
       "    <tr style=\"text-align: right;\">\n",
       "      <th></th>\n",
       "      <th>country</th>\n",
       "      <th>cluster_lat</th>\n",
       "      <th>cluster_lon</th>\n",
       "      <th>cons_pc</th>\n",
       "      <th>nightlights</th>\n",
       "    </tr>\n",
       "  </thead>\n",
       "  <tbody>\n",
       "    <tr>\n",
       "      <th>0</th>\n",
       "      <td>eth</td>\n",
       "      <td>8.954261</td>\n",
       "      <td>38.776901</td>\n",
       "      <td>30.038594</td>\n",
       "      <td>13.032987</td>\n",
       "    </tr>\n",
       "    <tr>\n",
       "      <th>1</th>\n",
       "      <td>eth</td>\n",
       "      <td>8.957485</td>\n",
       "      <td>38.762128</td>\n",
       "      <td>10.622940</td>\n",
       "      <td>13.700825</td>\n",
       "    </tr>\n",
       "    <tr>\n",
       "      <th>2</th>\n",
       "      <td>eth</td>\n",
       "      <td>8.958031</td>\n",
       "      <td>38.748086</td>\n",
       "      <td>12.825229</td>\n",
       "      <td>10.469786</td>\n",
       "    </tr>\n",
       "    <tr>\n",
       "      <th>3</th>\n",
       "      <td>eth</td>\n",
       "      <td>8.964058</td>\n",
       "      <td>38.721902</td>\n",
       "      <td>20.488550</td>\n",
       "      <td>13.207790</td>\n",
       "    </tr>\n",
       "    <tr>\n",
       "      <th>4</th>\n",
       "      <td>eth</td>\n",
       "      <td>8.989751</td>\n",
       "      <td>38.773653</td>\n",
       "      <td>17.768381</td>\n",
       "      <td>29.061792</td>\n",
       "    </tr>\n",
       "    <tr>\n",
       "      <th>...</th>\n",
       "      <td>...</td>\n",
       "      <td>...</td>\n",
       "      <td>...</td>\n",
       "      <td>...</td>\n",
       "      <td>...</td>\n",
       "    </tr>\n",
       "    <tr>\n",
       "      <th>60</th>\n",
       "      <td>eth</td>\n",
       "      <td>7.668539</td>\n",
       "      <td>36.841583</td>\n",
       "      <td>17.821918</td>\n",
       "      <td>11.138804</td>\n",
       "    </tr>\n",
       "    <tr>\n",
       "      <th>61</th>\n",
       "      <td>eth</td>\n",
       "      <td>7.677240</td>\n",
       "      <td>36.817658</td>\n",
       "      <td>17.519095</td>\n",
       "      <td>0.447660</td>\n",
       "    </tr>\n",
       "    <tr>\n",
       "      <th>62</th>\n",
       "      <td>eth</td>\n",
       "      <td>9.368588</td>\n",
       "      <td>42.794475</td>\n",
       "      <td>23.115905</td>\n",
       "      <td>2.172655</td>\n",
       "    </tr>\n",
       "    <tr>\n",
       "      <th>63</th>\n",
       "      <td>eth</td>\n",
       "      <td>7.170938</td>\n",
       "      <td>38.601886</td>\n",
       "      <td>15.097178</td>\n",
       "      <td>0.148483</td>\n",
       "    </tr>\n",
       "    <tr>\n",
       "      <th>64</th>\n",
       "      <td>eth</td>\n",
       "      <td>7.223887</td>\n",
       "      <td>38.602865</td>\n",
       "      <td>11.991329</td>\n",
       "      <td>0.365579</td>\n",
       "    </tr>\n",
       "  </tbody>\n",
       "</table>\n",
       "<p>65 rows × 5 columns</p>\n",
       "</div>"
      ],
      "text/plain": [
       "   country  cluster_lat  cluster_lon    cons_pc  nightlights\n",
       "0      eth     8.954261    38.776901  30.038594    13.032987\n",
       "1      eth     8.957485    38.762128  10.622940    13.700825\n",
       "2      eth     8.958031    38.748086  12.825229    10.469786\n",
       "3      eth     8.964058    38.721902  20.488550    13.207790\n",
       "4      eth     8.989751    38.773653  17.768381    29.061792\n",
       "..     ...          ...          ...        ...          ...\n",
       "60     eth     7.668539    36.841583  17.821918    11.138804\n",
       "61     eth     7.677240    36.817658  17.519095     0.447660\n",
       "62     eth     9.368588    42.794475  23.115905     2.172655\n",
       "63     eth     7.170938    38.601886  15.097178     0.148483\n",
       "64     eth     7.223887    38.602865  11.991329     0.365579\n",
       "\n",
       "[65 rows x 5 columns]"
      ]
     },
     "execution_count": 244,
     "metadata": {},
     "output_type": "execute_result"
    }
   ],
   "source": [
    "all_cities_df"
   ]
  },
  {
   "cell_type": "code",
   "execution_count": 245,
   "id": "60d5167c",
   "metadata": {},
   "outputs": [
    {
     "data": {
      "text/html": [
       "<div>\n",
       "<style scoped>\n",
       "    .dataframe tbody tr th:only-of-type {\n",
       "        vertical-align: middle;\n",
       "    }\n",
       "\n",
       "    .dataframe tbody tr th {\n",
       "        vertical-align: top;\n",
       "    }\n",
       "\n",
       "    .dataframe thead th {\n",
       "        text-align: right;\n",
       "    }\n",
       "</style>\n",
       "<table border=\"1\" class=\"dataframe\">\n",
       "  <thead>\n",
       "    <tr style=\"text-align: right;\">\n",
       "      <th></th>\n",
       "      <th>cons_pc</th>\n",
       "      <th>nightlights</th>\n",
       "    </tr>\n",
       "  </thead>\n",
       "  <tbody>\n",
       "    <tr>\n",
       "      <th>cons_pc</th>\n",
       "      <td>1.000000</td>\n",
       "      <td>0.209461</td>\n",
       "    </tr>\n",
       "    <tr>\n",
       "      <th>nightlights</th>\n",
       "      <td>0.209461</td>\n",
       "      <td>1.000000</td>\n",
       "    </tr>\n",
       "  </tbody>\n",
       "</table>\n",
       "</div>"
      ],
      "text/plain": [
       "              cons_pc  nightlights\n",
       "cons_pc      1.000000     0.209461\n",
       "nightlights  0.209461     1.000000"
      ]
     },
     "execution_count": 245,
     "metadata": {},
     "output_type": "execute_result"
    }
   ],
   "source": [
    "all_cities_df.drop(columns=['country','cluster_lat','cluster_lon']).corr()"
   ]
  },
  {
   "cell_type": "code",
   "execution_count": 259,
   "id": "5908a4a6",
   "metadata": {},
   "outputs": [],
   "source": [
    "model = xgb.XGBRegressor(objective='reg:squarederror')\n",
    "\n",
    "# Define cross-validation strategy\n",
    "kf = KFold(n_splits=5, shuffle=True)\n",
    "\n",
    "# Perform cross-validation\n",
    "scores = cross_val_score(model, X_scaled, y, cv=kf, scoring=make_scorer(r2_score))"
   ]
  },
  {
   "cell_type": "code",
   "execution_count": 260,
   "id": "a265b543",
   "metadata": {},
   "outputs": [
    {
     "data": {
      "text/plain": [
       "array([-0.30721381, -1.9994647 , -0.01564321,  0.14171245,  0.12380885])"
      ]
     },
     "execution_count": 260,
     "metadata": {},
     "output_type": "execute_result"
    }
   ],
   "source": [
    "scores"
   ]
  },
  {
   "cell_type": "code",
   "execution_count": null,
   "id": "6679025c",
   "metadata": {},
   "outputs": [],
   "source": []
  },
  {
   "cell_type": "code",
   "execution_count": null,
   "id": "7f673903",
   "metadata": {},
   "outputs": [],
   "source": []
  },
  {
   "cell_type": "code",
   "execution_count": null,
   "id": "dcbc6c98",
   "metadata": {},
   "outputs": [],
   "source": []
  }
 ],
 "metadata": {
  "kernelspec": {
   "display_name": "Python 3 (ipykernel)",
   "language": "python",
   "name": "python3"
  },
  "language_info": {
   "codemirror_mode": {
    "name": "ipython",
    "version": 3
   },
   "file_extension": ".py",
   "mimetype": "text/x-python",
   "name": "python",
   "nbconvert_exporter": "python",
   "pygments_lexer": "ipython3",
   "version": "3.10.6"
  },
  "toc": {
   "base_numbering": 1,
   "nav_menu": {},
   "number_sections": true,
   "sideBar": true,
   "skip_h1_title": false,
   "title_cell": "Table of Contents",
   "title_sidebar": "Contents",
   "toc_cell": false,
   "toc_position": {},
   "toc_section_display": true,
   "toc_window_display": false
  }
 },
 "nbformat": 4,
 "nbformat_minor": 5
}
