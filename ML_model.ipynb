{
 "cells": [
  {
   "cell_type": "code",
   "execution_count": 147,
   "id": "90cb73de",
   "metadata": {},
   "outputs": [],
   "source": [
    "import pandas as pd\n",
    "import numpy as np\n",
    "import os\n",
    "import seaborn as sns\n",
    "from sklearn.preprocessing import MinMaxScaler\n",
    "from sklearn.linear_model import LinearRegression\n",
    "from sklearn.model_selection import KFold, cross_val_score\n",
    "from sklearn.model_selection import train_test_split\n",
    "from sklearn.model_selection import cross_validate\n"
   ]
  },
  {
   "cell_type": "code",
   "execution_count": 86,
   "id": "75959d57",
   "metadata": {},
   "outputs": [],
   "source": [
    "# load a csv called data.csv with the separation character ','\n",
    "\n",
    "geo_data = pd.read_csv('raw_data/geo_eth.csv', sep=',')\n",
    "cons_data = pd.read_csv('raw_data/cons_eth.csv', sep=',')"
   ]
  },
  {
   "cell_type": "code",
   "execution_count": 87,
   "id": "a4eb713d",
   "metadata": {},
   "outputs": [
    {
     "data": {
      "text/plain": [
       "(4954, 42)"
      ]
     },
     "execution_count": 87,
     "metadata": {},
     "output_type": "execute_result"
    }
   ],
   "source": [
    "geo_data.shape"
   ]
  },
  {
   "cell_type": "code",
   "execution_count": 47,
   "id": "00d30265",
   "metadata": {},
   "outputs": [
    {
     "data": {
      "text/html": [
       "<div>\n",
       "<style scoped>\n",
       "    .dataframe tbody tr th:only-of-type {\n",
       "        vertical-align: middle;\n",
       "    }\n",
       "\n",
       "    .dataframe tbody tr th {\n",
       "        vertical-align: top;\n",
       "    }\n",
       "\n",
       "    .dataframe thead th {\n",
       "        text-align: right;\n",
       "    }\n",
       "</style>\n",
       "<table border=\"1\" class=\"dataframe\">\n",
       "  <thead>\n",
       "    <tr style=\"text-align: right;\">\n",
       "      <th></th>\n",
       "      <th>household_id</th>\n",
       "      <th>household_id2</th>\n",
       "      <th>ea_id</th>\n",
       "      <th>ea_id2</th>\n",
       "      <th>saq01</th>\n",
       "      <th>rural</th>\n",
       "      <th>pw_w3</th>\n",
       "      <th>adulteq</th>\n",
       "      <th>hh_size</th>\n",
       "      <th>no_conv</th>\n",
       "      <th>no_cons</th>\n",
       "      <th>food_cons_ann</th>\n",
       "      <th>nonfood_cons_ann</th>\n",
       "      <th>educ_cons_ann</th>\n",
       "      <th>total_cons_ann</th>\n",
       "      <th>price_index_hce</th>\n",
       "      <th>nom_totcons_aeq</th>\n",
       "      <th>cons_quint</th>\n",
       "    </tr>\n",
       "  </thead>\n",
       "  <tbody>\n",
       "    <tr>\n",
       "      <th>0</th>\n",
       "      <td>1010101601002</td>\n",
       "      <td>10101088801601002</td>\n",
       "      <td>1010101601</td>\n",
       "      <td>10101088801601</td>\n",
       "      <td>1</td>\n",
       "      <td>1</td>\n",
       "      <td>2897.155029</td>\n",
       "      <td>0.74</td>\n",
       "      <td>1</td>\n",
       "      <td>0</td>\n",
       "      <td>0</td>\n",
       "      <td>1970.800049</td>\n",
       "      <td>1013.0</td>\n",
       "      <td>0.0</td>\n",
       "      <td>2983.800049</td>\n",
       "      <td>1.034</td>\n",
       "      <td>4032.162109</td>\n",
       "      <td>2.0</td>\n",
       "    </tr>\n",
       "    <tr>\n",
       "      <th>1</th>\n",
       "      <td>1010101601017</td>\n",
       "      <td>10101088801601017</td>\n",
       "      <td>1010101601</td>\n",
       "      <td>10101088801601</td>\n",
       "      <td>1</td>\n",
       "      <td>1</td>\n",
       "      <td>2897.155029</td>\n",
       "      <td>7.21</td>\n",
       "      <td>9</td>\n",
       "      <td>0</td>\n",
       "      <td>0</td>\n",
       "      <td>7883.200195</td>\n",
       "      <td>5337.0</td>\n",
       "      <td>358.0</td>\n",
       "      <td>13578.200195</td>\n",
       "      <td>1.034</td>\n",
       "      <td>1883.245483</td>\n",
       "      <td>1.0</td>\n",
       "    </tr>\n",
       "    <tr>\n",
       "      <th>2</th>\n",
       "      <td>1010101601034</td>\n",
       "      <td>10101088801601034</td>\n",
       "      <td>1010101601</td>\n",
       "      <td>10101088801601</td>\n",
       "      <td>1</td>\n",
       "      <td>1</td>\n",
       "      <td>2897.155029</td>\n",
       "      <td>0.74</td>\n",
       "      <td>1</td>\n",
       "      <td>0</td>\n",
       "      <td>0</td>\n",
       "      <td>8958.444458</td>\n",
       "      <td>322.0</td>\n",
       "      <td>0.0</td>\n",
       "      <td>9280.444336</td>\n",
       "      <td>1.034</td>\n",
       "      <td>12541.140625</td>\n",
       "      <td>5.0</td>\n",
       "    </tr>\n",
       "    <tr>\n",
       "      <th>3</th>\n",
       "      <td>1010101601049</td>\n",
       "      <td>10101088801601049</td>\n",
       "      <td>1010101601</td>\n",
       "      <td>10101088801601</td>\n",
       "      <td>1</td>\n",
       "      <td>1</td>\n",
       "      <td>2897.155029</td>\n",
       "      <td>2.50</td>\n",
       "      <td>3</td>\n",
       "      <td>0</td>\n",
       "      <td>0</td>\n",
       "      <td>9594.000000</td>\n",
       "      <td>1630.0</td>\n",
       "      <td>480.0</td>\n",
       "      <td>11704.000000</td>\n",
       "      <td>1.034</td>\n",
       "      <td>4681.600098</td>\n",
       "      <td>3.0</td>\n",
       "    </tr>\n",
       "    <tr>\n",
       "      <th>4</th>\n",
       "      <td>1010101601064</td>\n",
       "      <td>10101088801601064</td>\n",
       "      <td>1010101601</td>\n",
       "      <td>10101088801601</td>\n",
       "      <td>1</td>\n",
       "      <td>1</td>\n",
       "      <td>2897.155029</td>\n",
       "      <td>1.58</td>\n",
       "      <td>2</td>\n",
       "      <td>0</td>\n",
       "      <td>0</td>\n",
       "      <td>11702.888916</td>\n",
       "      <td>3272.0</td>\n",
       "      <td>0.0</td>\n",
       "      <td>14974.888672</td>\n",
       "      <td>1.034</td>\n",
       "      <td>9477.778320</td>\n",
       "      <td>5.0</td>\n",
       "    </tr>\n",
       "  </tbody>\n",
       "</table>\n",
       "</div>"
      ],
      "text/plain": [
       "    household_id      household_id2       ea_id          ea_id2  saq01  rural  \\\n",
       "0  1010101601002  10101088801601002  1010101601  10101088801601      1      1   \n",
       "1  1010101601017  10101088801601017  1010101601  10101088801601      1      1   \n",
       "2  1010101601034  10101088801601034  1010101601  10101088801601      1      1   \n",
       "3  1010101601049  10101088801601049  1010101601  10101088801601      1      1   \n",
       "4  1010101601064  10101088801601064  1010101601  10101088801601      1      1   \n",
       "\n",
       "         pw_w3  adulteq  hh_size  no_conv  no_cons  food_cons_ann  \\\n",
       "0  2897.155029     0.74        1        0        0    1970.800049   \n",
       "1  2897.155029     7.21        9        0        0    7883.200195   \n",
       "2  2897.155029     0.74        1        0        0    8958.444458   \n",
       "3  2897.155029     2.50        3        0        0    9594.000000   \n",
       "4  2897.155029     1.58        2        0        0   11702.888916   \n",
       "\n",
       "   nonfood_cons_ann  educ_cons_ann  total_cons_ann  price_index_hce  \\\n",
       "0            1013.0            0.0     2983.800049            1.034   \n",
       "1            5337.0          358.0    13578.200195            1.034   \n",
       "2             322.0            0.0     9280.444336            1.034   \n",
       "3            1630.0          480.0    11704.000000            1.034   \n",
       "4            3272.0            0.0    14974.888672            1.034   \n",
       "\n",
       "   nom_totcons_aeq  cons_quint  \n",
       "0      4032.162109         2.0  \n",
       "1      1883.245483         1.0  \n",
       "2     12541.140625         5.0  \n",
       "3      4681.600098         3.0  \n",
       "4      9477.778320         5.0  "
      ]
     },
     "execution_count": 47,
     "metadata": {},
     "output_type": "execute_result"
    }
   ],
   "source": [
    "cons_data.head()"
   ]
  },
  {
   "cell_type": "code",
   "execution_count": 48,
   "id": "4beaf474",
   "metadata": {},
   "outputs": [],
   "source": [
    "\n",
    "COUNTRIES_DIR = os.path.join(\"..\", 'data', 'countries')"
   ]
  },
  {
   "cell_type": "code",
   "execution_count": 49,
   "id": "ad9d4353",
   "metadata": {},
   "outputs": [],
   "source": [
    "def process_ethiopia():\n",
    "\n",
    "    consumption_pc_col = 'total_cons_ann' # per capita\n",
    "    hhsize_col = 'hh_size' # people in household\n",
    "\n",
    "    lat_col = 'lat_dd_mod'\n",
    "    lon_col = 'lon_dd_mod'\n",
    "\n",
    "    # purchasing power parity for ethiopia in 2015 (https://data.worldbank.org/indicator/PA.NUS.PRVT.PP?locations=ET)\n",
    "    ppp = 7.882\n",
    "    \n",
    "    # for file in [consumption_file, geovariables_file]:\n",
    "    #     assert os.path.isfile(os.path.join(lsms_dir, file)), print(f'Could not find {file}')\n",
    "    \n",
    "    df = cons_data\n",
    "    df['cons_ph'] = df[consumption_pc_col] * df[hhsize_col]\n",
    "    df['pph'] = df[hhsize_col]\n",
    "    df['cons_ph'] = df['cons_ph'] / ppp / 365\n",
    "    df = df[['household_id2', 'cons_ph', 'pph']]\n",
    "\n",
    "    df_geo = geo_data\n",
    "    df_cords = df_geo[['household_id2', lat_col, lon_col]]\n",
    "    df_cords.rename(columns={lat_col: 'cluster_lat', lon_col: 'cluster_lon'}, inplace=True)\n",
    "    df_combined = pd.merge(df, df_cords, on='household_id2')\n",
    "    df_combined.drop(['household_id2'], axis=1, inplace=True)\n",
    "    df_combined.dropna(inplace=True) # can't use na values\n",
    "  \n",
    "    df_clusters = df_combined.groupby(['cluster_lat', 'cluster_lon']).sum().reset_index()\n",
    "    df_clusters['cons_pc'] = df_clusters['cons_ph'] / df_clusters['pph'] # divides total cluster income by people\n",
    "    df_clusters['country'] = 'eth'\n",
    "    return df_clusters[['country', 'cluster_lat', 'cluster_lon', 'cons_pc']]"
   ]
  },
  {
   "cell_type": "code",
   "execution_count": 50,
   "id": "3e214ace",
   "metadata": {},
   "outputs": [
    {
     "name": "stderr",
     "output_type": "stream",
     "text": [
      "/var/folders/78/kf_z610d5vvb7ch9l49_lghh0000gn/T/ipykernel_87404/1253664893.py:23: SettingWithCopyWarning: \n",
      "A value is trying to be set on a copy of a slice from a DataFrame\n",
      "\n",
      "See the caveats in the documentation: https://pandas.pydata.org/pandas-docs/stable/user_guide/indexing.html#returning-a-view-versus-a-copy\n",
      "  df_cords.rename(columns={lat_col: 'cluster_lat', lon_col: 'cluster_lon'}, inplace=True)\n"
     ]
    }
   ],
   "source": [
    "data = process_ethiopia()"
   ]
  },
  {
   "cell_type": "code",
   "execution_count": 71,
   "id": "2418da62",
   "metadata": {},
   "outputs": [],
   "source": [
    "import math\n",
    "def create_space(lat, lon, s=1):\n",
    "    \"\"\"Creates a s km x s km square centered on (lat, lon)\"\"\"\n",
    "    v = (180/math.pi)*(500/6378137)*s # roughly 0.045 for s=10\n",
    "    return lat - v, lon - v, lat + v, lon + v"
   ]
  },
  {
   "cell_type": "code",
   "execution_count": 72,
   "id": "13ec3f64",
   "metadata": {},
   "outputs": [
    {
     "name": "stdout",
     "output_type": "stream",
     "text": [
      "(18000, 28800)\n"
     ]
    }
   ],
   "source": [
    "import rasterio\n",
    "\n",
    "url_image = \"raw_data/picture.tif\"\n",
    "with rasterio.open(url_image) as src:\n",
    "    image_data = src.read(1)  \n",
    "    transform = src.transform\n",
    "    tif_array = np.squeeze(image_data)\n",
    "\n",
    "    print(tif_array.shape)"
   ]
  },
  {
   "cell_type": "code",
   "execution_count": 73,
   "id": "146f80ec",
   "metadata": {},
   "outputs": [],
   "source": [
    "def custom_rasterio_open( min_lon, min_lat):\n",
    "    xminPixel, ymaxPixel = ~transform * (min_lon, min_lat)\n",
    "\n",
    "    xminPixel, ymaxPixel = int(xminPixel), int(ymaxPixel)\n",
    "    \n",
    "    return xminPixel, ymaxPixel"
   ]
  },
  {
   "cell_type": "code",
   "execution_count": 77,
   "id": "487d33dd",
   "metadata": {},
   "outputs": [],
   "source": [
    "def add_nightlights(df, tif_array):\n",
    "    ''' \n",
    "    This takes a dataframe with columns cluster_lat, cluster_lon and finds the average \n",
    "    nightlights in 2015 using a 10kmx10km box around the point\n",
    "    \n",
    "    I try all the nighlights tifs until a match is found, or none are left upon which an error is raised\n",
    "    '''\n",
    "    cluster_nightlights = []\n",
    "    for i,r in df.iterrows():\n",
    "        min_lat, min_lon, max_lat, max_lon = create_space(r.cluster_lat, r.cluster_lon)\n",
    "        \n",
    "        xminPixel, ymaxPixel = custom_rasterio_open(min_lon, min_lat)\n",
    "        xmaxPixel, yminPixel = custom_rasterio_open(max_lon, max_lat)\n",
    "        assert xminPixel < xmaxPixel, print(r.cluster_lat, r.cluster_lon)\n",
    "        assert yminPixel < ymaxPixel, print(r.cluster_lat, r.cluster_lon)\n",
    "        if xminPixel < 0 or xmaxPixel >= tif_array.shape[1]:\n",
    "            print(f\"no match for {r.cluster_lat}, {r.cluster_lon}\")\n",
    "            raise ValueError()\n",
    "        elif yminPixel < 0 or ymaxPixel >= tif_array.shape[0]:\n",
    "            print(f\"no match for {r.cluster_lat}, {r.cluster_lon}\")\n",
    "            raise ValueError()\n",
    "        xminPixel, yminPixel, xmaxPixel, ymaxPixel = int(xminPixel), int(yminPixel), int(xmaxPixel), int(ymaxPixel)\n",
    "        cluster_nightlights.append(tif_array[yminPixel:ymaxPixel,xminPixel:xmaxPixel].mean())\n",
    "        \n",
    "    df['nightlights'] = cluster_nightlights"
   ]
  },
  {
   "cell_type": "code",
   "execution_count": 79,
   "id": "533adfb2",
   "metadata": {},
   "outputs": [],
   "source": [
    "add_nightlights(data, tif_array)"
   ]
  },
  {
   "cell_type": "code",
   "execution_count": 82,
   "id": "c05c940c",
   "metadata": {},
   "outputs": [
    {
     "data": {
      "text/html": [
       "<div>\n",
       "<style scoped>\n",
       "    .dataframe tbody tr th:only-of-type {\n",
       "        vertical-align: middle;\n",
       "    }\n",
       "\n",
       "    .dataframe tbody tr th {\n",
       "        vertical-align: top;\n",
       "    }\n",
       "\n",
       "    .dataframe thead th {\n",
       "        text-align: right;\n",
       "    }\n",
       "</style>\n",
       "<table border=\"1\" class=\"dataframe\">\n",
       "  <thead>\n",
       "    <tr style=\"text-align: right;\">\n",
       "      <th></th>\n",
       "      <th>country</th>\n",
       "      <th>cluster_lat</th>\n",
       "      <th>cluster_lon</th>\n",
       "      <th>cons_pc</th>\n",
       "      <th>nightlights</th>\n",
       "    </tr>\n",
       "  </thead>\n",
       "  <tbody>\n",
       "    <tr>\n",
       "      <th>0</th>\n",
       "      <td>eth</td>\n",
       "      <td>3.455701</td>\n",
       "      <td>39.515994</td>\n",
       "      <td>14.854634</td>\n",
       "      <td>0.0</td>\n",
       "    </tr>\n",
       "    <tr>\n",
       "      <th>1</th>\n",
       "      <td>eth</td>\n",
       "      <td>3.549937</td>\n",
       "      <td>39.184234</td>\n",
       "      <td>14.312022</td>\n",
       "      <td>0.0</td>\n",
       "    </tr>\n",
       "    <tr>\n",
       "      <th>2</th>\n",
       "      <td>eth</td>\n",
       "      <td>3.864243</td>\n",
       "      <td>39.101366</td>\n",
       "      <td>12.470145</td>\n",
       "      <td>0.0</td>\n",
       "    </tr>\n",
       "    <tr>\n",
       "      <th>3</th>\n",
       "      <td>eth</td>\n",
       "      <td>3.982931</td>\n",
       "      <td>38.491368</td>\n",
       "      <td>8.336539</td>\n",
       "      <td>0.0</td>\n",
       "    </tr>\n",
       "    <tr>\n",
       "      <th>4</th>\n",
       "      <td>eth</td>\n",
       "      <td>4.048194</td>\n",
       "      <td>41.930928</td>\n",
       "      <td>4.762526</td>\n",
       "      <td>0.0</td>\n",
       "    </tr>\n",
       "    <tr>\n",
       "      <th>...</th>\n",
       "      <td>...</td>\n",
       "      <td>...</td>\n",
       "      <td>...</td>\n",
       "      <td>...</td>\n",
       "      <td>...</td>\n",
       "    </tr>\n",
       "    <tr>\n",
       "      <th>518</th>\n",
       "      <td>eth</td>\n",
       "      <td>14.288590</td>\n",
       "      <td>38.210252</td>\n",
       "      <td>13.926005</td>\n",
       "      <td>0.0</td>\n",
       "    </tr>\n",
       "    <tr>\n",
       "      <th>519</th>\n",
       "      <td>eth</td>\n",
       "      <td>14.300796</td>\n",
       "      <td>39.059489</td>\n",
       "      <td>6.882396</td>\n",
       "      <td>0.0</td>\n",
       "    </tr>\n",
       "    <tr>\n",
       "      <th>520</th>\n",
       "      <td>eth</td>\n",
       "      <td>14.319217</td>\n",
       "      <td>39.271599</td>\n",
       "      <td>5.894326</td>\n",
       "      <td>0.0</td>\n",
       "    </tr>\n",
       "    <tr>\n",
       "      <th>521</th>\n",
       "      <td>eth</td>\n",
       "      <td>14.353816</td>\n",
       "      <td>37.890876</td>\n",
       "      <td>8.197660</td>\n",
       "      <td>0.0</td>\n",
       "    </tr>\n",
       "    <tr>\n",
       "      <th>522</th>\n",
       "      <td>eth</td>\n",
       "      <td>14.455962</td>\n",
       "      <td>39.479082</td>\n",
       "      <td>11.191210</td>\n",
       "      <td>0.0</td>\n",
       "    </tr>\n",
       "  </tbody>\n",
       "</table>\n",
       "<p>523 rows × 5 columns</p>\n",
       "</div>"
      ],
      "text/plain": [
       "    country  cluster_lat  cluster_lon    cons_pc  nightlights\n",
       "0       eth     3.455701    39.515994  14.854634          0.0\n",
       "1       eth     3.549937    39.184234  14.312022          0.0\n",
       "2       eth     3.864243    39.101366  12.470145          0.0\n",
       "3       eth     3.982931    38.491368   8.336539          0.0\n",
       "4       eth     4.048194    41.930928   4.762526          0.0\n",
       "..      ...          ...          ...        ...          ...\n",
       "518     eth    14.288590    38.210252  13.926005          0.0\n",
       "519     eth    14.300796    39.059489   6.882396          0.0\n",
       "520     eth    14.319217    39.271599   5.894326          0.0\n",
       "521     eth    14.353816    37.890876   8.197660          0.0\n",
       "522     eth    14.455962    39.479082  11.191210          0.0\n",
       "\n",
       "[523 rows x 5 columns]"
      ]
     },
     "execution_count": 82,
     "metadata": {},
     "output_type": "execute_result"
    }
   ],
   "source": [
    "data"
   ]
  },
  {
   "cell_type": "code",
   "execution_count": 94,
   "id": "7ade32aa",
   "metadata": {},
   "outputs": [],
   "source": [
    "X = data[['nightlights']]\n",
    "y = data['cons_pc']"
   ]
  },
  {
   "cell_type": "code",
   "execution_count": 90,
   "id": "6803c045",
   "metadata": {},
   "outputs": [],
   "source": [
    "X_non_zero = X[X != 0]"
   ]
  },
  {
   "cell_type": "code",
   "execution_count": 91,
   "id": "502c922e",
   "metadata": {},
   "outputs": [
    {
     "data": {
      "text/plain": [
       "23     0.035953\n",
       "24     0.053930\n",
       "31     0.226722\n",
       "32     0.178416\n",
       "36     9.478632\n",
       "         ...   \n",
       "506    1.018144\n",
       "507    8.458162\n",
       "510    5.779657\n",
       "513    0.477778\n",
       "516    2.939054\n",
       "Name: nightlights, Length: 136, dtype: float32"
      ]
     },
     "execution_count": 91,
     "metadata": {},
     "output_type": "execute_result"
    }
   ],
   "source": [
    "X_non_zero"
   ]
  },
  {
   "cell_type": "code",
   "execution_count": 105,
   "id": "216c5484",
   "metadata": {},
   "outputs": [
    {
     "data": {
      "text/plain": [
       "<Axes: xlabel='nightlights', ylabel='Count'>"
      ]
     },
     "execution_count": 105,
     "metadata": {},
     "output_type": "execute_result"
    },
    {
     "data": {
      "image/png": "[encoded data removed]",
      "text/plain": [
       "<Figure size 640x480 with 1 Axes>"
      ]
     },
     "metadata": {},
     "output_type": "display_data"
    }
   ],
   "source": [
    "sns.histplot(X_non_zero)"
   ]
  },
  {
   "cell_type": "code",
   "execution_count": 108,
   "id": "072765c6",
   "metadata": {},
   "outputs": [
    {
     "data": {
      "text/plain": [
       "<Axes: xlabel='nightlights', ylabel='cons_pc'>"
      ]
     },
     "execution_count": 108,
     "metadata": {},
     "output_type": "execute_result"
    },
    {
     "data": {
      "image/png": "[encoded data removed]",
      "text/plain": [
       "<Figure size 640x480 with 1 Axes>"
      ]
     },
     "metadata": {},
     "output_type": "display_data"
    }
   ],
   "source": [
    "sns.regplot(x=X,y=y)"
   ]
  },
  {
   "cell_type": "code",
   "execution_count": 95,
   "id": "b305f6fe",
   "metadata": {},
   "outputs": [],
   "source": [
    "scaler = MinMaxScaler()\n",
    "X_scaled = scaler.fit_transform(X)"
   ]
  },
  {
   "cell_type": "code",
   "execution_count": 100,
   "id": "d72e2eb6",
   "metadata": {},
   "outputs": [],
   "source": [
    "X_scaled = pd.DataFrame(X_scaled)"
   ]
  },
  {
   "cell_type": "code",
   "execution_count": 116,
   "id": "3d1ee047",
   "metadata": {},
   "outputs": [
    {
     "data": {
      "text/plain": [
       "0.032343327616313935"
      ]
     },
     "execution_count": 116,
     "metadata": {},
     "output_type": "execute_result"
    }
   ],
   "source": [
    "model = LinearRegression()\n",
    "k_folds = KFold(n_splits=5)\n",
    "scores = cross_val_score(model, X_scaled, y, cv = k_folds)\n",
    "scores  "
   ]
  },
  {
   "cell_type": "code",
   "execution_count": 154,
   "id": "cc80d58e",
   "metadata": {},
   "outputs": [
    {
     "data": {
      "text/plain": [
       "array([ 2.13625223e-01,  2.12959218e-04, -2.33696339e-01,  9.29250013e-02,\n",
       "        8.86497942e-02])"
      ]
     },
     "execution_count": 154,
     "metadata": {},
     "output_type": "execute_result"
    }
   ],
   "source": [
    "scores"
   ]
  },
  {
   "cell_type": "code",
   "execution_count": 121,
   "id": "31be375f",
   "metadata": {},
   "outputs": [],
   "source": [
    "data_Xy = data[['nightlights','cons_pc']]"
   ]
  },
  {
   "cell_type": "code",
   "execution_count": 123,
   "id": "30e78dda",
   "metadata": {},
   "outputs": [
    {
     "name": "stderr",
     "output_type": "stream",
     "text": [
      "/var/folders/78/kf_z610d5vvb7ch9l49_lghh0000gn/T/ipykernel_87404/3084886050.py:1: SettingWithCopyWarning: \n",
      "A value is trying to be set on a copy of a slice from a DataFrame.\n",
      "Try using .loc[row_indexer,col_indexer] = value instead\n",
      "\n",
      "See the caveats in the documentation: https://pandas.pydata.org/pandas-docs/stable/user_guide/indexing.html#returning-a-view-versus-a-copy\n",
      "  data_Xy['nightlights'] = scaler.fit_transform(X)\n"
     ]
    }
   ],
   "source": [
    "data_Xy['nightlights'] = scaler.fit_transform(X)"
   ]
  },
  {
   "cell_type": "code",
   "execution_count": 151,
   "id": "248992bf",
   "metadata": {},
   "outputs": [
    {
     "data": {
      "text/html": [
       "<div>\n",
       "<style scoped>\n",
       "    .dataframe tbody tr th:only-of-type {\n",
       "        vertical-align: middle;\n",
       "    }\n",
       "\n",
       "    .dataframe tbody tr th {\n",
       "        vertical-align: top;\n",
       "    }\n",
       "\n",
       "    .dataframe thead th {\n",
       "        text-align: right;\n",
       "    }\n",
       "</style>\n",
       "<table border=\"1\" class=\"dataframe\">\n",
       "  <thead>\n",
       "    <tr style=\"text-align: right;\">\n",
       "      <th></th>\n",
       "      <th>nightlights</th>\n",
       "      <th>cons_pc</th>\n",
       "    </tr>\n",
       "  </thead>\n",
       "  <tbody>\n",
       "    <tr>\n",
       "      <th>0</th>\n",
       "      <td>0.0</td>\n",
       "      <td>14.854634</td>\n",
       "    </tr>\n",
       "    <tr>\n",
       "      <th>1</th>\n",
       "      <td>0.0</td>\n",
       "      <td>14.312022</td>\n",
       "    </tr>\n",
       "    <tr>\n",
       "      <th>2</th>\n",
       "      <td>0.0</td>\n",
       "      <td>12.470145</td>\n",
       "    </tr>\n",
       "    <tr>\n",
       "      <th>3</th>\n",
       "      <td>0.0</td>\n",
       "      <td>8.336539</td>\n",
       "    </tr>\n",
       "    <tr>\n",
       "      <th>4</th>\n",
       "      <td>0.0</td>\n",
       "      <td>4.762526</td>\n",
       "    </tr>\n",
       "  </tbody>\n",
       "</table>\n",
       "</div>"
      ],
      "text/plain": [
       "   nightlights    cons_pc\n",
       "0          0.0  14.854634\n",
       "1          0.0  14.312022\n",
       "2          0.0  12.470145\n",
       "3          0.0   8.336539\n",
       "4          0.0   4.762526"
      ]
     },
     "execution_count": 151,
     "metadata": {},
     "output_type": "execute_result"
    }
   ],
   "source": [
    "data_Xy.head()"
   ]
  },
  {
   "cell_type": "code",
   "execution_count": 162,
   "id": "d58857e3",
   "metadata": {},
   "outputs": [
    {
     "data": {
      "text/html": [
       "<div>\n",
       "<style scoped>\n",
       "    .dataframe tbody tr th:only-of-type {\n",
       "        vertical-align: middle;\n",
       "    }\n",
       "\n",
       "    .dataframe tbody tr th {\n",
       "        vertical-align: top;\n",
       "    }\n",
       "\n",
       "    .dataframe thead th {\n",
       "        text-align: right;\n",
       "    }\n",
       "</style>\n",
       "<table border=\"1\" class=\"dataframe\">\n",
       "  <thead>\n",
       "    <tr style=\"text-align: right;\">\n",
       "      <th></th>\n",
       "      <th>nightlights</th>\n",
       "      <th>cons_pc</th>\n",
       "    </tr>\n",
       "  </thead>\n",
       "  <tbody>\n",
       "    <tr>\n",
       "      <th>nightlights</th>\n",
       "      <td>1.000000</td>\n",
       "      <td>0.440152</td>\n",
       "    </tr>\n",
       "    <tr>\n",
       "      <th>cons_pc</th>\n",
       "      <td>0.440152</td>\n",
       "      <td>1.000000</td>\n",
       "    </tr>\n",
       "  </tbody>\n",
       "</table>\n",
       "</div>"
      ],
      "text/plain": [
       "             nightlights   cons_pc\n",
       "nightlights     1.000000  0.440152\n",
       "cons_pc         0.440152  1.000000"
      ]
     },
     "execution_count": 162,
     "metadata": {},
     "output_type": "execute_result"
    }
   ],
   "source": [
    "data_Xy.corr()"
   ]
  },
  {
   "cell_type": "code",
   "execution_count": 157,
   "id": "b674a0fb",
   "metadata": {},
   "outputs": [],
   "source": [
    "#split train and test data\n",
    "train_data, test_data = train_test_split(data_Xy, test_size=0.3)\n",
    "\n",
    "# Ready X's and y's\n",
    "X_train = train_data[['nightlights']]\n",
    "y_train = train_data['cons_pc']\n",
    "\n",
    "X_test = test_data[['nightlights']]\n",
    "y_test = test_data['cons_pc']"
   ]
  },
  {
   "cell_type": "code",
   "execution_count": null,
   "id": "88f879c7",
   "metadata": {},
   "outputs": [],
   "source": []
  },
  {
   "cell_type": "code",
   "execution_count": 158,
   "id": "43daae3b",
   "metadata": {},
   "outputs": [
    {
     "data": {
      "text/plain": [
       "0.20319840045769033"
      ]
     },
     "execution_count": 158,
     "metadata": {},
     "output_type": "execute_result"
    }
   ],
   "source": [
    "# Train the model on the Training data\n",
    "model.fit(X_train, y_train)\n",
    "\n",
    "# Score the model on the Test data\n",
    "model.score(X_test,y_test)"
   ]
  },
  {
   "cell_type": "code",
   "execution_count": 160,
   "id": "27b33c1d",
   "metadata": {},
   "outputs": [
    {
     "name": "stdout",
     "output_type": "stream",
     "text": [
      "0.03723239805532743\n",
      "0.14092490524978635\n"
     ]
    }
   ],
   "source": [
    "#K-fold CV without data leakage\n",
    "\n",
    "n_split = 5\n",
    "len_split = int(data_Xy.shape[0]/n_split)\n",
    "\n",
    "# Initialize the 1st fold\n",
    "scores = []\n",
    "start = 0\n",
    "stop = len_split\n",
    "\n",
    "# Start the n-split fold CV\n",
    "for k in range(n_split): # k in [0,1,2,3,4]\n",
    "    data_val = data_Xy.iloc[start:stop, :]\n",
    "    data_train = data_Xy.drop(index=data_val.index)\n",
    "    y_train = data_train['cons_pc']\n",
    "    X_train = data_train.drop(columns=['cons_pc'])\n",
    "    y_val = data_val['cons_pc']\n",
    "    X_val = data_val.drop(columns=['cons_pc'])\n",
    "    \n",
    "    #fit model\n",
    "    model_k =  LinearRegression()\n",
    "    model_k.fit(X_train, y_train)\n",
    "    \n",
    "    #append score to scores list\n",
    "    scores.append(model_k.score(X_val, y_val))\n",
    "    \n",
    "    # Setup next fold\n",
    "    start = stop\n",
    "    stop += len_split\n",
    "\n",
    "# Display the mean score and the scores standard deviation\n",
    "print(np.array(scores).mean())\n",
    "print(np.array(scores).std())"
   ]
  },
  {
   "cell_type": "code",
   "execution_count": 161,
   "id": "51072256",
   "metadata": {},
   "outputs": [],
   "source": [
    "addis_ab_df = data[\n",
    "    (data['cluster_lat'] >= 8.9) & (data['cluster_lat'] <= 9.1) &\n",
    "    (data['cluster_lon'] >= 38.7) & (data['cluster_lon'] <= 38.9)\n",
    "]"
   ]
  },
  {
   "cell_type": "code",
   "execution_count": null,
   "id": "fe89bb45",
   "metadata": {},
   "outputs": [],
   "source": [
    "#Get co-ords for city boundaries of next 10 most populous cities\n",
    "\n",
    "dire_dawa_df = data[\n",
    "    (data['cluster_lat'] >= 9.57) & (data['cluster_lat'] <= 9.64) &\n",
    "    (data['cluster_lon'] >= 41.8) & (data['cluster_lon'] <= 41.9)\n",
    "]\n",
    "mekelle_df = "
   ]
  }
 ],
 "metadata": {
  "kernelspec": {
   "display_name": "Python 3 (ipykernel)",
   "language": "python",
   "name": "python3"
  },
  "language_info": {
   "codemirror_mode": {
    "name": "ipython",
    "version": 3
   },
   "file_extension": ".py",
   "mimetype": "text/x-python",
   "name": "python",
   "nbconvert_exporter": "python",
   "pygments_lexer": "ipython3",
   "version": "3.10.6"
  },
  "toc": {
   "base_numbering": 1,
   "nav_menu": {},
   "number_sections": true,
   "sideBar": true,
   "skip_h1_title": false,
   "title_cell": "Table of Contents",
   "title_sidebar": "Contents",
   "toc_cell": false,
   "toc_position": {},
   "toc_section_display": true,
   "toc_window_display": false
  }
 },
 "nbformat": 4,
 "nbformat_minor": 5
}
