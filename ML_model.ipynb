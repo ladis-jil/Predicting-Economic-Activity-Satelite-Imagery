{
 "cells": [
  {
   "cell_type": "code",
   "execution_count": 266,
   "id": "90cb73de",
   "metadata": {},
   "outputs": [],
   "source": [
    "import pandas as pd\n",
    "import numpy as np\n",
    "import os\n",
    "import seaborn as sns\n",
    "import matplotlib.pyplot as plt\n",
    "from sklearn.preprocessing import MinMaxScaler\n",
    "from sklearn.linear_model import LinearRegression\n",
    "from sklearn.model_selection import KFold, cross_val_score\n",
    "from sklearn.model_selection import train_test_split\n",
    "from sklearn.model_selection import cross_validate\n",
    "from sklearn.metrics import make_scorer, mean_squared_error, r2_score\n",
    "import xgboost as xgb\n"
   ]
  },
  {
   "cell_type": "code",
   "execution_count": 184,
   "id": "75959d57",
   "metadata": {},
   "outputs": [],
   "source": [
    "# load a csv called data.csv with the separation character ','\n",
    "\n",
    "geo_data = pd.read_csv('raw_data/geo_eth.csv', sep=',')\n",
    "cons_data = pd.read_csv('raw_data/cons_eth.csv', sep=',')"
   ]
  },
  {
   "cell_type": "code",
   "execution_count": 251,
   "id": "f7815302",
   "metadata": {},
   "outputs": [
    {
     "data": {
      "text/plain": [
       "237"
      ]
     },
     "execution_count": 251,
     "metadata": {},
     "output_type": "execute_result"
    }
   ],
   "source": [
    "cons_data['total_cons_ann'].isna().sum()"
   ]
  },
  {
   "cell_type": "code",
   "execution_count": 200,
   "id": "a4eb713d",
   "metadata": {},
   "outputs": [
    {
     "data": {
      "text/html": [
       "<div>\n",
       "<style scoped>\n",
       "    .dataframe tbody tr th:only-of-type {\n",
       "        vertical-align: middle;\n",
       "    }\n",
       "\n",
       "    .dataframe tbody tr th {\n",
       "        vertical-align: top;\n",
       "    }\n",
       "\n",
       "    .dataframe thead th {\n",
       "        text-align: right;\n",
       "    }\n",
       "</style>\n",
       "<table border=\"1\" class=\"dataframe\">\n",
       "  <thead>\n",
       "    <tr style=\"text-align: right;\">\n",
       "      <th></th>\n",
       "      <th>household_id2</th>\n",
       "      <th>ea_id2</th>\n",
       "      <th>dist_road</th>\n",
       "      <th>dist_popcenter</th>\n",
       "      <th>dist_market</th>\n",
       "      <th>dist_borderpost</th>\n",
       "      <th>dist_admctr</th>\n",
       "      <th>pop_density</th>\n",
       "      <th>af_bio_1</th>\n",
       "      <th>af_bio_8</th>\n",
       "      <th>...</th>\n",
       "      <th>eviarea_avg</th>\n",
       "      <th>evimax_avg</th>\n",
       "      <th>grn_avg</th>\n",
       "      <th>sen_avg</th>\n",
       "      <th>h2015_eviarea</th>\n",
       "      <th>h2015_evimax</th>\n",
       "      <th>h2015_grn</th>\n",
       "      <th>h2015_sen</th>\n",
       "      <th>lat_dd_mod</th>\n",
       "      <th>lon_dd_mod</th>\n",
       "    </tr>\n",
       "  </thead>\n",
       "  <tbody>\n",
       "    <tr>\n",
       "      <th>0</th>\n",
       "      <td>10101088801601002</td>\n",
       "      <td>10101088801601</td>\n",
       "      <td>50</td>\n",
       "      <td>53</td>\n",
       "      <td>105</td>\n",
       "      <td>134</td>\n",
       "      <td>198</td>\n",
       "      <td>0-50</td>\n",
       "      <td>264</td>\n",
       "      <td>258</td>\n",
       "      <td>...</td>\n",
       "      <td>46</td>\n",
       "      <td>0.432</td>\n",
       "      <td>177</td>\n",
       "      <td>257</td>\n",
       "      <td>40</td>\n",
       "      <td>0.386</td>\n",
       "      <td>173</td>\n",
       "      <td>256</td>\n",
       "      <td>14.353816</td>\n",
       "      <td>37.890876</td>\n",
       "    </tr>\n",
       "    <tr>\n",
       "      <th>1</th>\n",
       "      <td>10101088801601017</td>\n",
       "      <td>10101088801601</td>\n",
       "      <td>50</td>\n",
       "      <td>53</td>\n",
       "      <td>106</td>\n",
       "      <td>135</td>\n",
       "      <td>198</td>\n",
       "      <td>0-50</td>\n",
       "      <td>263</td>\n",
       "      <td>257</td>\n",
       "      <td>...</td>\n",
       "      <td>46</td>\n",
       "      <td>0.432</td>\n",
       "      <td>177</td>\n",
       "      <td>257</td>\n",
       "      <td>40</td>\n",
       "      <td>0.386</td>\n",
       "      <td>173</td>\n",
       "      <td>256</td>\n",
       "      <td>14.353816</td>\n",
       "      <td>37.890876</td>\n",
       "    </tr>\n",
       "    <tr>\n",
       "      <th>2</th>\n",
       "      <td>10101088801601034</td>\n",
       "      <td>10101088801601</td>\n",
       "      <td>46</td>\n",
       "      <td>49</td>\n",
       "      <td>100</td>\n",
       "      <td>135</td>\n",
       "      <td>195</td>\n",
       "      <td>0-50</td>\n",
       "      <td>262</td>\n",
       "      <td>256</td>\n",
       "      <td>...</td>\n",
       "      <td>46</td>\n",
       "      <td>0.432</td>\n",
       "      <td>177</td>\n",
       "      <td>257</td>\n",
       "      <td>40</td>\n",
       "      <td>0.386</td>\n",
       "      <td>173</td>\n",
       "      <td>256</td>\n",
       "      <td>14.353816</td>\n",
       "      <td>37.890876</td>\n",
       "    </tr>\n",
       "    <tr>\n",
       "      <th>3</th>\n",
       "      <td>10101088801601049</td>\n",
       "      <td>10101088801601</td>\n",
       "      <td>46</td>\n",
       "      <td>49</td>\n",
       "      <td>100</td>\n",
       "      <td>135</td>\n",
       "      <td>195</td>\n",
       "      <td>0-50</td>\n",
       "      <td>262</td>\n",
       "      <td>256</td>\n",
       "      <td>...</td>\n",
       "      <td>46</td>\n",
       "      <td>0.432</td>\n",
       "      <td>177</td>\n",
       "      <td>257</td>\n",
       "      <td>40</td>\n",
       "      <td>0.386</td>\n",
       "      <td>173</td>\n",
       "      <td>256</td>\n",
       "      <td>14.353816</td>\n",
       "      <td>37.890876</td>\n",
       "    </tr>\n",
       "    <tr>\n",
       "      <th>4</th>\n",
       "      <td>10101088801601064</td>\n",
       "      <td>10101088801601</td>\n",
       "      <td>46</td>\n",
       "      <td>49</td>\n",
       "      <td>100</td>\n",
       "      <td>135</td>\n",
       "      <td>195</td>\n",
       "      <td>0-50</td>\n",
       "      <td>262</td>\n",
       "      <td>256</td>\n",
       "      <td>...</td>\n",
       "      <td>46</td>\n",
       "      <td>0.432</td>\n",
       "      <td>177</td>\n",
       "      <td>257</td>\n",
       "      <td>40</td>\n",
       "      <td>0.386</td>\n",
       "      <td>173</td>\n",
       "      <td>256</td>\n",
       "      <td>14.353816</td>\n",
       "      <td>37.890876</td>\n",
       "    </tr>\n",
       "    <tr>\n",
       "      <th>...</th>\n",
       "      <td>...</td>\n",
       "      <td>...</td>\n",
       "      <td>...</td>\n",
       "      <td>...</td>\n",
       "      <td>...</td>\n",
       "      <td>...</td>\n",
       "      <td>...</td>\n",
       "      <td>...</td>\n",
       "      <td>...</td>\n",
       "      <td>...</td>\n",
       "      <td>...</td>\n",
       "      <td>...</td>\n",
       "      <td>...</td>\n",
       "      <td>...</td>\n",
       "      <td>...</td>\n",
       "      <td>...</td>\n",
       "      <td>...</td>\n",
       "      <td>...</td>\n",
       "      <td>...</td>\n",
       "      <td>...</td>\n",
       "      <td>...</td>\n",
       "    </tr>\n",
       "    <tr>\n",
       "      <th>4949</th>\n",
       "      <td>150102088803102072</td>\n",
       "      <td>150102088803102</td>\n",
       "      <td>0</td>\n",
       "      <td>1</td>\n",
       "      <td>1</td>\n",
       "      <td>164</td>\n",
       "      <td>1</td>\n",
       "      <td>&gt;20000</td>\n",
       "      <td>246</td>\n",
       "      <td>264</td>\n",
       "      <td>...</td>\n",
       "      <td>24</td>\n",
       "      <td>0.227</td>\n",
       "      <td>213</td>\n",
       "      <td>264</td>\n",
       "      <td>16</td>\n",
       "      <td>0.182</td>\n",
       "      <td>228</td>\n",
       "      <td>266</td>\n",
       "      <td>9.599389</td>\n",
       "      <td>41.832341</td>\n",
       "    </tr>\n",
       "    <tr>\n",
       "      <th>4950</th>\n",
       "      <td>150102088803102087</td>\n",
       "      <td>150102088803102</td>\n",
       "      <td>19</td>\n",
       "      <td>53</td>\n",
       "      <td>55</td>\n",
       "      <td>111</td>\n",
       "      <td>56</td>\n",
       "      <td>0-50</td>\n",
       "      <td>238</td>\n",
       "      <td>257</td>\n",
       "      <td>...</td>\n",
       "      <td>24</td>\n",
       "      <td>0.227</td>\n",
       "      <td>213</td>\n",
       "      <td>264</td>\n",
       "      <td>16</td>\n",
       "      <td>0.182</td>\n",
       "      <td>228</td>\n",
       "      <td>266</td>\n",
       "      <td>9.746772</td>\n",
       "      <td>42.308967</td>\n",
       "    </tr>\n",
       "    <tr>\n",
       "      <th>4951</th>\n",
       "      <td>150102088803102099</td>\n",
       "      <td>150102088803102</td>\n",
       "      <td>19</td>\n",
       "      <td>53</td>\n",
       "      <td>55</td>\n",
       "      <td>111</td>\n",
       "      <td>56</td>\n",
       "      <td>0-50</td>\n",
       "      <td>238</td>\n",
       "      <td>257</td>\n",
       "      <td>...</td>\n",
       "      <td>24</td>\n",
       "      <td>0.227</td>\n",
       "      <td>213</td>\n",
       "      <td>264</td>\n",
       "      <td>16</td>\n",
       "      <td>0.182</td>\n",
       "      <td>228</td>\n",
       "      <td>266</td>\n",
       "      <td>9.746772</td>\n",
       "      <td>42.308967</td>\n",
       "    </tr>\n",
       "    <tr>\n",
       "      <th>4952</th>\n",
       "      <td>150102088803102109</td>\n",
       "      <td>150102088803102</td>\n",
       "      <td>19</td>\n",
       "      <td>53</td>\n",
       "      <td>55</td>\n",
       "      <td>111</td>\n",
       "      <td>56</td>\n",
       "      <td>0-50</td>\n",
       "      <td>238</td>\n",
       "      <td>257</td>\n",
       "      <td>...</td>\n",
       "      <td>24</td>\n",
       "      <td>0.227</td>\n",
       "      <td>213</td>\n",
       "      <td>264</td>\n",
       "      <td>16</td>\n",
       "      <td>0.182</td>\n",
       "      <td>228</td>\n",
       "      <td>266</td>\n",
       "      <td>9.746772</td>\n",
       "      <td>42.308967</td>\n",
       "    </tr>\n",
       "    <tr>\n",
       "      <th>4953</th>\n",
       "      <td>150102088803102121</td>\n",
       "      <td>150102088803102</td>\n",
       "      <td>19</td>\n",
       "      <td>53</td>\n",
       "      <td>54</td>\n",
       "      <td>111</td>\n",
       "      <td>56</td>\n",
       "      <td>0-50</td>\n",
       "      <td>238</td>\n",
       "      <td>257</td>\n",
       "      <td>...</td>\n",
       "      <td>24</td>\n",
       "      <td>0.227</td>\n",
       "      <td>213</td>\n",
       "      <td>264</td>\n",
       "      <td>16</td>\n",
       "      <td>0.182</td>\n",
       "      <td>228</td>\n",
       "      <td>266</td>\n",
       "      <td>9.746772</td>\n",
       "      <td>42.308967</td>\n",
       "    </tr>\n",
       "  </tbody>\n",
       "</table>\n",
       "<p>4954 rows × 42 columns</p>\n",
       "</div>"
      ],
      "text/plain": [
       "           household_id2           ea_id2  dist_road  dist_popcenter  \\\n",
       "0      10101088801601002   10101088801601         50              53   \n",
       "1      10101088801601017   10101088801601         50              53   \n",
       "2      10101088801601034   10101088801601         46              49   \n",
       "3      10101088801601049   10101088801601         46              49   \n",
       "4      10101088801601064   10101088801601         46              49   \n",
       "...                  ...              ...        ...             ...   \n",
       "4949  150102088803102072  150102088803102          0               1   \n",
       "4950  150102088803102087  150102088803102         19              53   \n",
       "4951  150102088803102099  150102088803102         19              53   \n",
       "4952  150102088803102109  150102088803102         19              53   \n",
       "4953  150102088803102121  150102088803102         19              53   \n",
       "\n",
       "      dist_market  dist_borderpost  dist_admctr pop_density  af_bio_1  \\\n",
       "0             105              134          198        0-50       264   \n",
       "1             106              135          198        0-50       263   \n",
       "2             100              135          195        0-50       262   \n",
       "3             100              135          195        0-50       262   \n",
       "4             100              135          195        0-50       262   \n",
       "...           ...              ...          ...         ...       ...   \n",
       "4949            1              164            1      >20000       246   \n",
       "4950           55              111           56        0-50       238   \n",
       "4951           55              111           56        0-50       238   \n",
       "4952           55              111           56        0-50       238   \n",
       "4953           54              111           56        0-50       238   \n",
       "\n",
       "      af_bio_8  ...  eviarea_avg  evimax_avg  grn_avg  sen_avg  h2015_eviarea  \\\n",
       "0          258  ...           46       0.432      177      257             40   \n",
       "1          257  ...           46       0.432      177      257             40   \n",
       "2          256  ...           46       0.432      177      257             40   \n",
       "3          256  ...           46       0.432      177      257             40   \n",
       "4          256  ...           46       0.432      177      257             40   \n",
       "...        ...  ...          ...         ...      ...      ...            ...   \n",
       "4949       264  ...           24       0.227      213      264             16   \n",
       "4950       257  ...           24       0.227      213      264             16   \n",
       "4951       257  ...           24       0.227      213      264             16   \n",
       "4952       257  ...           24       0.227      213      264             16   \n",
       "4953       257  ...           24       0.227      213      264             16   \n",
       "\n",
       "      h2015_evimax  h2015_grn  h2015_sen  lat_dd_mod  lon_dd_mod  \n",
       "0            0.386        173        256   14.353816   37.890876  \n",
       "1            0.386        173        256   14.353816   37.890876  \n",
       "2            0.386        173        256   14.353816   37.890876  \n",
       "3            0.386        173        256   14.353816   37.890876  \n",
       "4            0.386        173        256   14.353816   37.890876  \n",
       "...            ...        ...        ...         ...         ...  \n",
       "4949         0.182        228        266    9.599389   41.832341  \n",
       "4950         0.182        228        266    9.746772   42.308967  \n",
       "4951         0.182        228        266    9.746772   42.308967  \n",
       "4952         0.182        228        266    9.746772   42.308967  \n",
       "4953         0.182        228        266    9.746772   42.308967  \n",
       "\n",
       "[4954 rows x 42 columns]"
      ]
     },
     "execution_count": 200,
     "metadata": {},
     "output_type": "execute_result"
    }
   ],
   "source": [
    "geo_data"
   ]
  },
  {
   "cell_type": "code",
   "execution_count": 197,
   "id": "00d30265",
   "metadata": {},
   "outputs": [],
   "source": [
    "cons_corr = cons_data.drop(columns=['household_id','household_id2','ea_id','ea_id2']).corr()"
   ]
  },
  {
   "cell_type": "code",
   "execution_count": 198,
   "id": "a55c9ddc",
   "metadata": {},
   "outputs": [
    {
     "data": {
      "text/html": [
       "<div>\n",
       "<style scoped>\n",
       "    .dataframe tbody tr th:only-of-type {\n",
       "        vertical-align: middle;\n",
       "    }\n",
       "\n",
       "    .dataframe tbody tr th {\n",
       "        vertical-align: top;\n",
       "    }\n",
       "\n",
       "    .dataframe thead th {\n",
       "        text-align: right;\n",
       "    }\n",
       "</style>\n",
       "<table border=\"1\" class=\"dataframe\">\n",
       "  <thead>\n",
       "    <tr style=\"text-align: right;\">\n",
       "      <th></th>\n",
       "      <th>saq01</th>\n",
       "      <th>rural</th>\n",
       "      <th>pw_w3</th>\n",
       "      <th>adulteq</th>\n",
       "      <th>hh_size</th>\n",
       "      <th>no_conv</th>\n",
       "      <th>no_cons</th>\n",
       "      <th>food_cons_ann</th>\n",
       "      <th>nonfood_cons_ann</th>\n",
       "      <th>educ_cons_ann</th>\n",
       "      <th>total_cons_ann</th>\n",
       "      <th>price_index_hce</th>\n",
       "      <th>nom_totcons_aeq</th>\n",
       "      <th>cons_quint</th>\n",
       "    </tr>\n",
       "  </thead>\n",
       "  <tbody>\n",
       "    <tr>\n",
       "      <th>saq01</th>\n",
       "      <td>1.000000</td>\n",
       "      <td>NaN</td>\n",
       "      <td>NaN</td>\n",
       "      <td>NaN</td>\n",
       "      <td>NaN</td>\n",
       "      <td>NaN</td>\n",
       "      <td>NaN</td>\n",
       "      <td>NaN</td>\n",
       "      <td>NaN</td>\n",
       "      <td>NaN</td>\n",
       "      <td>NaN</td>\n",
       "      <td>0.627601</td>\n",
       "      <td>NaN</td>\n",
       "      <td>NaN</td>\n",
       "    </tr>\n",
       "    <tr>\n",
       "      <th>rural</th>\n",
       "      <td>NaN</td>\n",
       "      <td>1.000000</td>\n",
       "      <td>NaN</td>\n",
       "      <td>NaN</td>\n",
       "      <td>NaN</td>\n",
       "      <td>NaN</td>\n",
       "      <td>NaN</td>\n",
       "      <td>NaN</td>\n",
       "      <td>0.336731</td>\n",
       "      <td>0.299424</td>\n",
       "      <td>NaN</td>\n",
       "      <td>0.340181</td>\n",
       "      <td>0.347208</td>\n",
       "      <td>0.426672</td>\n",
       "    </tr>\n",
       "    <tr>\n",
       "      <th>pw_w3</th>\n",
       "      <td>NaN</td>\n",
       "      <td>NaN</td>\n",
       "      <td>1.0</td>\n",
       "      <td>NaN</td>\n",
       "      <td>NaN</td>\n",
       "      <td>NaN</td>\n",
       "      <td>NaN</td>\n",
       "      <td>NaN</td>\n",
       "      <td>NaN</td>\n",
       "      <td>NaN</td>\n",
       "      <td>NaN</td>\n",
       "      <td>NaN</td>\n",
       "      <td>NaN</td>\n",
       "      <td>NaN</td>\n",
       "    </tr>\n",
       "    <tr>\n",
       "      <th>adulteq</th>\n",
       "      <td>NaN</td>\n",
       "      <td>NaN</td>\n",
       "      <td>NaN</td>\n",
       "      <td>1.000000</td>\n",
       "      <td>0.978487</td>\n",
       "      <td>NaN</td>\n",
       "      <td>NaN</td>\n",
       "      <td>NaN</td>\n",
       "      <td>NaN</td>\n",
       "      <td>NaN</td>\n",
       "      <td>0.251578</td>\n",
       "      <td>NaN</td>\n",
       "      <td>NaN</td>\n",
       "      <td>NaN</td>\n",
       "    </tr>\n",
       "    <tr>\n",
       "      <th>hh_size</th>\n",
       "      <td>NaN</td>\n",
       "      <td>NaN</td>\n",
       "      <td>NaN</td>\n",
       "      <td>0.978487</td>\n",
       "      <td>1.000000</td>\n",
       "      <td>NaN</td>\n",
       "      <td>NaN</td>\n",
       "      <td>NaN</td>\n",
       "      <td>NaN</td>\n",
       "      <td>NaN</td>\n",
       "      <td>NaN</td>\n",
       "      <td>NaN</td>\n",
       "      <td>NaN</td>\n",
       "      <td>NaN</td>\n",
       "    </tr>\n",
       "    <tr>\n",
       "      <th>no_conv</th>\n",
       "      <td>NaN</td>\n",
       "      <td>NaN</td>\n",
       "      <td>NaN</td>\n",
       "      <td>NaN</td>\n",
       "      <td>NaN</td>\n",
       "      <td>1.0</td>\n",
       "      <td>NaN</td>\n",
       "      <td>NaN</td>\n",
       "      <td>NaN</td>\n",
       "      <td>NaN</td>\n",
       "      <td>NaN</td>\n",
       "      <td>NaN</td>\n",
       "      <td>NaN</td>\n",
       "      <td>NaN</td>\n",
       "    </tr>\n",
       "    <tr>\n",
       "      <th>no_cons</th>\n",
       "      <td>NaN</td>\n",
       "      <td>NaN</td>\n",
       "      <td>NaN</td>\n",
       "      <td>NaN</td>\n",
       "      <td>NaN</td>\n",
       "      <td>NaN</td>\n",
       "      <td>1.0</td>\n",
       "      <td>NaN</td>\n",
       "      <td>NaN</td>\n",
       "      <td>NaN</td>\n",
       "      <td>NaN</td>\n",
       "      <td>NaN</td>\n",
       "      <td>NaN</td>\n",
       "      <td>NaN</td>\n",
       "    </tr>\n",
       "    <tr>\n",
       "      <th>food_cons_ann</th>\n",
       "      <td>NaN</td>\n",
       "      <td>NaN</td>\n",
       "      <td>NaN</td>\n",
       "      <td>NaN</td>\n",
       "      <td>NaN</td>\n",
       "      <td>NaN</td>\n",
       "      <td>NaN</td>\n",
       "      <td>1.000000</td>\n",
       "      <td>0.282397</td>\n",
       "      <td>NaN</td>\n",
       "      <td>0.947533</td>\n",
       "      <td>NaN</td>\n",
       "      <td>0.750266</td>\n",
       "      <td>0.340953</td>\n",
       "    </tr>\n",
       "    <tr>\n",
       "      <th>nonfood_cons_ann</th>\n",
       "      <td>NaN</td>\n",
       "      <td>0.336731</td>\n",
       "      <td>NaN</td>\n",
       "      <td>NaN</td>\n",
       "      <td>NaN</td>\n",
       "      <td>NaN</td>\n",
       "      <td>NaN</td>\n",
       "      <td>0.282397</td>\n",
       "      <td>1.000000</td>\n",
       "      <td>0.360595</td>\n",
       "      <td>0.559812</td>\n",
       "      <td>NaN</td>\n",
       "      <td>0.441820</td>\n",
       "      <td>0.368158</td>\n",
       "    </tr>\n",
       "    <tr>\n",
       "      <th>educ_cons_ann</th>\n",
       "      <td>NaN</td>\n",
       "      <td>0.299424</td>\n",
       "      <td>NaN</td>\n",
       "      <td>NaN</td>\n",
       "      <td>NaN</td>\n",
       "      <td>NaN</td>\n",
       "      <td>NaN</td>\n",
       "      <td>NaN</td>\n",
       "      <td>0.360595</td>\n",
       "      <td>1.000000</td>\n",
       "      <td>0.359884</td>\n",
       "      <td>NaN</td>\n",
       "      <td>0.254274</td>\n",
       "      <td>NaN</td>\n",
       "    </tr>\n",
       "    <tr>\n",
       "      <th>total_cons_ann</th>\n",
       "      <td>NaN</td>\n",
       "      <td>NaN</td>\n",
       "      <td>NaN</td>\n",
       "      <td>0.251578</td>\n",
       "      <td>NaN</td>\n",
       "      <td>NaN</td>\n",
       "      <td>NaN</td>\n",
       "      <td>0.947533</td>\n",
       "      <td>0.559812</td>\n",
       "      <td>0.359884</td>\n",
       "      <td>1.000000</td>\n",
       "      <td>NaN</td>\n",
       "      <td>0.788203</td>\n",
       "      <td>0.414654</td>\n",
       "    </tr>\n",
       "    <tr>\n",
       "      <th>price_index_hce</th>\n",
       "      <td>0.627601</td>\n",
       "      <td>0.340181</td>\n",
       "      <td>NaN</td>\n",
       "      <td>NaN</td>\n",
       "      <td>NaN</td>\n",
       "      <td>NaN</td>\n",
       "      <td>NaN</td>\n",
       "      <td>NaN</td>\n",
       "      <td>NaN</td>\n",
       "      <td>NaN</td>\n",
       "      <td>NaN</td>\n",
       "      <td>1.000000</td>\n",
       "      <td>NaN</td>\n",
       "      <td>0.262650</td>\n",
       "    </tr>\n",
       "    <tr>\n",
       "      <th>nom_totcons_aeq</th>\n",
       "      <td>NaN</td>\n",
       "      <td>0.347208</td>\n",
       "      <td>NaN</td>\n",
       "      <td>NaN</td>\n",
       "      <td>NaN</td>\n",
       "      <td>NaN</td>\n",
       "      <td>NaN</td>\n",
       "      <td>0.750266</td>\n",
       "      <td>0.441820</td>\n",
       "      <td>0.254274</td>\n",
       "      <td>0.788203</td>\n",
       "      <td>NaN</td>\n",
       "      <td>1.000000</td>\n",
       "      <td>0.557150</td>\n",
       "    </tr>\n",
       "    <tr>\n",
       "      <th>cons_quint</th>\n",
       "      <td>NaN</td>\n",
       "      <td>0.426672</td>\n",
       "      <td>NaN</td>\n",
       "      <td>NaN</td>\n",
       "      <td>NaN</td>\n",
       "      <td>NaN</td>\n",
       "      <td>NaN</td>\n",
       "      <td>0.340953</td>\n",
       "      <td>0.368158</td>\n",
       "      <td>NaN</td>\n",
       "      <td>0.414654</td>\n",
       "      <td>0.262650</td>\n",
       "      <td>0.557150</td>\n",
       "      <td>1.000000</td>\n",
       "    </tr>\n",
       "  </tbody>\n",
       "</table>\n",
       "</div>"
      ],
      "text/plain": [
       "                     saq01     rural  pw_w3   adulteq   hh_size  no_conv  \\\n",
       "saq01             1.000000       NaN    NaN       NaN       NaN      NaN   \n",
       "rural                  NaN  1.000000    NaN       NaN       NaN      NaN   \n",
       "pw_w3                  NaN       NaN    1.0       NaN       NaN      NaN   \n",
       "adulteq                NaN       NaN    NaN  1.000000  0.978487      NaN   \n",
       "hh_size                NaN       NaN    NaN  0.978487  1.000000      NaN   \n",
       "no_conv                NaN       NaN    NaN       NaN       NaN      1.0   \n",
       "no_cons                NaN       NaN    NaN       NaN       NaN      NaN   \n",
       "food_cons_ann          NaN       NaN    NaN       NaN       NaN      NaN   \n",
       "nonfood_cons_ann       NaN  0.336731    NaN       NaN       NaN      NaN   \n",
       "educ_cons_ann          NaN  0.299424    NaN       NaN       NaN      NaN   \n",
       "total_cons_ann         NaN       NaN    NaN  0.251578       NaN      NaN   \n",
       "price_index_hce   0.627601  0.340181    NaN       NaN       NaN      NaN   \n",
       "nom_totcons_aeq        NaN  0.347208    NaN       NaN       NaN      NaN   \n",
       "cons_quint             NaN  0.426672    NaN       NaN       NaN      NaN   \n",
       "\n",
       "                  no_cons  food_cons_ann  nonfood_cons_ann  educ_cons_ann  \\\n",
       "saq01                 NaN            NaN               NaN            NaN   \n",
       "rural                 NaN            NaN          0.336731       0.299424   \n",
       "pw_w3                 NaN            NaN               NaN            NaN   \n",
       "adulteq               NaN            NaN               NaN            NaN   \n",
       "hh_size               NaN            NaN               NaN            NaN   \n",
       "no_conv               NaN            NaN               NaN            NaN   \n",
       "no_cons               1.0            NaN               NaN            NaN   \n",
       "food_cons_ann         NaN       1.000000          0.282397            NaN   \n",
       "nonfood_cons_ann      NaN       0.282397          1.000000       0.360595   \n",
       "educ_cons_ann         NaN            NaN          0.360595       1.000000   \n",
       "total_cons_ann        NaN       0.947533          0.559812       0.359884   \n",
       "price_index_hce       NaN            NaN               NaN            NaN   \n",
       "nom_totcons_aeq       NaN       0.750266          0.441820       0.254274   \n",
       "cons_quint            NaN       0.340953          0.368158            NaN   \n",
       "\n",
       "                  total_cons_ann  price_index_hce  nom_totcons_aeq  cons_quint  \n",
       "saq01                        NaN         0.627601              NaN         NaN  \n",
       "rural                        NaN         0.340181         0.347208    0.426672  \n",
       "pw_w3                        NaN              NaN              NaN         NaN  \n",
       "adulteq                 0.251578              NaN              NaN         NaN  \n",
       "hh_size                      NaN              NaN              NaN         NaN  \n",
       "no_conv                      NaN              NaN              NaN         NaN  \n",
       "no_cons                      NaN              NaN              NaN         NaN  \n",
       "food_cons_ann           0.947533              NaN         0.750266    0.340953  \n",
       "nonfood_cons_ann        0.559812              NaN         0.441820    0.368158  \n",
       "educ_cons_ann           0.359884              NaN         0.254274         NaN  \n",
       "total_cons_ann          1.000000              NaN         0.788203    0.414654  \n",
       "price_index_hce              NaN         1.000000              NaN    0.262650  \n",
       "nom_totcons_aeq         0.788203              NaN         1.000000    0.557150  \n",
       "cons_quint              0.414654         0.262650         0.557150    1.000000  "
      ]
     },
     "execution_count": 198,
     "metadata": {},
     "output_type": "execute_result"
    }
   ],
   "source": [
    "cons_corr[cons_corr>0.25]"
   ]
  },
  {
   "cell_type": "code",
   "execution_count": 29,
   "id": "4beaf474",
   "metadata": {},
   "outputs": [],
   "source": [
    "\n",
    "# COUNTRIES_DIR = os.path.join(\"..\", 'data', 'countries')"
   ]
  },
  {
   "cell_type": "code",
   "execution_count": 30,
   "id": "ad9d4353",
   "metadata": {},
   "outputs": [],
   "source": [
    "# def process_ethiopia():\n",
    "\n",
    "#     consumption_pc_col = 'total_cons_ann' # per capita\n",
    "#     hhsize_col = 'hh_size' # people in household\n",
    "\n",
    "#     lat_col = 'lat_dd_mod'\n",
    "#     lon_col = 'lon_dd_mod'\n",
    "\n",
    "#     # purchasing power parity for ethiopia in 2015 (https://data.worldbank.org/indicator/PA.NUS.PRVT.PP?locations=ET)\n",
    "#     ppp = 7.882\n",
    "    \n",
    "#     # for file in [consumption_file, geovariables_file]:\n",
    "#     #     assert os.path.isfile(os.path.join(lsms_dir, file)), print(f'Could not find {file}')\n",
    "    \n",
    "#     df = cons_data\n",
    "#     df['cons_ph'] = df[consumption_pc_col] * df[hhsize_col]\n",
    "#     df['pph'] = df[hhsize_col]\n",
    "#     df['cons_ph'] = df['cons_ph'] / ppp / 365\n",
    "#     df = df[['household_id2', 'cons_ph', 'pph']]\n",
    "\n",
    "#     df_geo = geo_data\n",
    "#     df_cords = df_geo[['household_id2', lat_col, lon_col]]\n",
    "#     df_cords.rename(columns={lat_col: 'cluster_lat', lon_col: 'cluster_lon'}, inplace=True)\n",
    "#     df_combined = pd.merge(df, df_cords, on='household_id2')\n",
    "#     df_combined.drop(['household_id2'], axis=1, inplace=True)\n",
    "#     df_combined.dropna(inplace=True) # can't use na values\n",
    "  \n",
    "#     df_clusters = df_combined.groupby(['cluster_lat', 'cluster_lon']).sum().reset_index()\n",
    "#     df_clusters['cons_pc'] = df_clusters['cons_ph'] / df_clusters['pph'] # divides total cluster income by people\n",
    "#     df_clusters['country'] = 'eth'\n",
    "#     return df_clusters[['country', 'cluster_lat', 'cluster_lon', 'cons_pc']]"
   ]
  },
  {
   "cell_type": "code",
   "execution_count": 205,
   "id": "2485befc",
   "metadata": {},
   "outputs": [
    {
     "data": {
      "text/plain": [
       "Index(['household_id', 'household_id2', 'ea_id', 'ea_id2_x', 'saq01', 'rural',\n",
       "       'pw_w3', 'adulteq', 'hh_size', 'no_conv', 'no_cons', 'food_cons_ann',\n",
       "       'nonfood_cons_ann', 'educ_cons_ann', 'total_cons_ann',\n",
       "       'price_index_hce', 'nom_totcons_aeq', 'cons_quint', 'ea_id2_y',\n",
       "       'dist_road', 'dist_popcenter', 'dist_market', 'dist_borderpost',\n",
       "       'dist_admctr', 'pop_density', 'af_bio_1', 'af_bio_8', 'af_bio_12',\n",
       "       'af_bio_13', 'af_bio_16', 'fsrad3_agpct', 'fsrad3_lcmaj', 'ssa_aez09',\n",
       "       'srtm', 'twi', 'srtm_5_15', 'sq1', 'sq2', 'sq3', 'sq4', 'sq5', 'sq6',\n",
       "       'sq7', 'anntot_avg', 'wetQ_avg', 'wetQ_avgstart', 'h2015_tot',\n",
       "       'h2015_wetQ', 'h2015_wetQstart', 'eviarea_avg', 'evimax_avg', 'grn_avg',\n",
       "       'sen_avg', 'h2015_eviarea', 'h2015_evimax', 'h2015_grn', 'h2015_sen',\n",
       "       'lat_dd_mod', 'lon_dd_mod'],\n",
       "      dtype='object')"
      ]
     },
     "execution_count": 205,
     "metadata": {},
     "output_type": "execute_result"
    }
   ],
   "source": [
    "merged_df = cons_data.merge(geo_data,how='inner',on='household_id2')\n",
    "merged_df.columns"
   ]
  },
  {
   "cell_type": "code",
   "execution_count": 221,
   "id": "eed57568",
   "metadata": {},
   "outputs": [],
   "source": [
    "m_df = merged_df[['total_cons_ann','lat_dd_mod', 'lon_dd_mod']]"
   ]
  },
  {
   "cell_type": "code",
   "execution_count": 254,
   "id": "34ab3c0f",
   "metadata": {},
   "outputs": [
    {
     "name": "stderr",
     "output_type": "stream",
     "text": [
      "/var/folders/78/kf_z610d5vvb7ch9l49_lghh0000gn/T/ipykernel_32096/3168661069.py:1: SettingWithCopyWarning: \n",
      "A value is trying to be set on a copy of a slice from a DataFrame\n",
      "\n",
      "See the caveats in the documentation: https://pandas.pydata.org/pandas-docs/stable/user_guide/indexing.html#returning-a-view-versus-a-copy\n",
      "  m_df.dropna(inplace=True)\n"
     ]
    }
   ],
   "source": [
    "m_df.dropna(inplace=True)"
   ]
  },
  {
   "cell_type": "code",
   "execution_count": 255,
   "id": "4e2c2573",
   "metadata": {},
   "outputs": [],
   "source": [
    "import math\n",
    "def create_space(lat, lon, s=1):\n",
    "    \"\"\"Creates a s km x s km square centered on (lat, lon)\"\"\"\n",
    "    v = (180/math.pi)*(500/6378137)*s # roughly 0.045 for s=10\n",
    "    return lat - v, lon - v, lat + v, lon + v"
   ]
  },
  {
   "cell_type": "code",
   "execution_count": 256,
   "id": "bcf5837b",
   "metadata": {},
   "outputs": [
    {
     "name": "stdout",
     "output_type": "stream",
     "text": [
      "(18000, 28800)\n"
     ]
    }
   ],
   "source": [
    "import rasterio\n",
    "\n",
    "url_image = \"raw_data/picture.tif\"\n",
    "with rasterio.open(url_image) as src:\n",
    "    image_data = src.read(1)  \n",
    "    transform = src.transform\n",
    "    tif_array = np.squeeze(image_data)\n",
    "\n",
    "    print(tif_array.shape)"
   ]
  },
  {
   "cell_type": "code",
   "execution_count": 257,
   "id": "ddc33a35",
   "metadata": {},
   "outputs": [],
   "source": [
    "def custom_rasterio_open( min_lon, min_lat):\n",
    "    xminPixel, ymaxPixel = ~transform * (min_lon, min_lat)\n",
    "\n",
    "    xminPixel, ymaxPixel = int(xminPixel), int(ymaxPixel)\n",
    "    \n",
    "    return xminPixel, ymaxPixel"
   ]
  },
  {
   "cell_type": "code",
   "execution_count": 258,
   "id": "57e74402",
   "metadata": {},
   "outputs": [
    {
     "name": "stderr",
     "output_type": "stream",
     "text": [
      "/var/folders/78/kf_z610d5vvb7ch9l49_lghh0000gn/T/ipykernel_32096/126471678.py:1: SettingWithCopyWarning: \n",
      "A value is trying to be set on a copy of a slice from a DataFrame\n",
      "\n",
      "See the caveats in the documentation: https://pandas.pydata.org/pandas-docs/stable/user_guide/indexing.html#returning-a-view-versus-a-copy\n",
      "  m_df.rename(columns={'total_cons_ann':'cons_pc','lat_dd_mod':'cluster_lat','lon_dd_mod':'cluster_lon'},inplace=True)\n"
     ]
    }
   ],
   "source": [
    "m_df.rename(columns={'total_cons_ann':'cons_pc','lat_dd_mod':'cluster_lat','lon_dd_mod':'cluster_lon'},inplace=True)"
   ]
  },
  {
   "cell_type": "code",
   "execution_count": 259,
   "id": "44ec3164",
   "metadata": {},
   "outputs": [],
   "source": [
    "def add_nightlights(df, tif_array):\n",
    "    ''' \n",
    "    This takes a dataframe with columns cluster_lat, cluster_lon and finds the average \n",
    "    nightlights in 2015 using a 10kmx10km box around the point\n",
    "    \n",
    "    I try all the nighlights tifs until a match is found, or none are left upon which an error is raised\n",
    "    '''\n",
    "    cluster_nightlights = []\n",
    "    for i,r in df.iterrows():\n",
    "        min_lat, min_lon, max_lat, max_lon = create_space(r.cluster_lat, r.cluster_lon)\n",
    "        \n",
    "        xminPixel, ymaxPixel = custom_rasterio_open(min_lon, min_lat)\n",
    "        xmaxPixel, yminPixel = custom_rasterio_open(max_lon, max_lat)\n",
    "        assert xminPixel < xmaxPixel, print(r.cluster_lat, r.cluster_lon)\n",
    "        assert yminPixel < ymaxPixel, print(r.cluster_lat, r.cluster_lon)\n",
    "        if xminPixel < 0 or xmaxPixel >= tif_array.shape[1]:\n",
    "            print(f\"no match for {r.cluster_lat}, {r.cluster_lon}\")\n",
    "            raise ValueError()\n",
    "        elif yminPixel < 0 or ymaxPixel >= tif_array.shape[0]:\n",
    "            print(f\"no match for {r.cluster_lat}, {r.cluster_lon}\")\n",
    "            raise ValueError()\n",
    "        xminPixel, yminPixel, xmaxPixel, ymaxPixel = int(xminPixel), int(yminPixel), int(xmaxPixel), int(ymaxPixel)\n",
    "        cluster_nightlights.append(tif_array[yminPixel:ymaxPixel,xminPixel:xmaxPixel].mean())\n",
    "        \n",
    "    df['nightlights'] = cluster_nightlights\n",
    "    df['nightlights'] = df['nightlights'].astype('float64')\n",
    "    "
   ]
  },
  {
   "cell_type": "code",
   "execution_count": 260,
   "id": "0ee000c4",
   "metadata": {},
   "outputs": [
    {
     "name": "stderr",
     "output_type": "stream",
     "text": [
      "/var/folders/78/kf_z610d5vvb7ch9l49_lghh0000gn/T/ipykernel_32096/3042635974.py:25: SettingWithCopyWarning: \n",
      "A value is trying to be set on a copy of a slice from a DataFrame.\n",
      "Try using .loc[row_indexer,col_indexer] = value instead\n",
      "\n",
      "See the caveats in the documentation: https://pandas.pydata.org/pandas-docs/stable/user_guide/indexing.html#returning-a-view-versus-a-copy\n",
      "  df['nightlights'] = cluster_nightlights\n",
      "/var/folders/78/kf_z610d5vvb7ch9l49_lghh0000gn/T/ipykernel_32096/3042635974.py:26: SettingWithCopyWarning: \n",
      "A value is trying to be set on a copy of a slice from a DataFrame.\n",
      "Try using .loc[row_indexer,col_indexer] = value instead\n",
      "\n",
      "See the caveats in the documentation: https://pandas.pydata.org/pandas-docs/stable/user_guide/indexing.html#returning-a-view-versus-a-copy\n",
      "  df['nightlights'] = df['nightlights'].astype('float64')\n"
     ]
    }
   ],
   "source": [
    "add_nightlights(m_df,tif_array)"
   ]
  },
  {
   "cell_type": "code",
   "execution_count": 311,
   "id": "c021da03",
   "metadata": {},
   "outputs": [],
   "source": [
    "def z_score_outliers(data, threshold=3):\n",
    "    mean = np.mean(data)\n",
    "    std_dev = np.std(data)\n",
    "    z_scores = [(x - mean) / std_dev for x in data]\n",
    "    return np.where(np.abs(z_scores) > threshold)"
   ]
  },
  {
   "cell_type": "code",
   "execution_count": 313,
   "id": "c2744d3c",
   "metadata": {},
   "outputs": [
    {
     "data": {
      "text/plain": [
       "(array([ 280,  454,  456,  495,  499,  502,  504,  536, 1118, 1165, 1581,\n",
       "        1587, 1751, 1815, 1948, 2242, 2374, 2420, 2443, 2454, 2541, 2683,\n",
       "        3288, 3929, 3933, 3949, 3954, 3975, 3977, 3981, 3986, 4194, 4220,\n",
       "        4231, 4291, 4309, 4344, 4394, 4515, 4519, 4565, 4579, 4691, 4696]),)"
      ]
     },
     "execution_count": 313,
     "metadata": {},
     "output_type": "execute_result"
    }
   ],
   "source": [
    "z_score_outliers(m_df['cons_pc'])"
   ]
  },
  {
   "cell_type": "code",
   "execution_count": 320,
   "id": "a74e083b",
   "metadata": {},
   "outputs": [
    {
     "data": {
      "image/png": "[encoded data removed]",
      "text/plain": [
       "<Figure size 640x480 with 1 Axes>"
      ]
     },
     "metadata": {},
     "output_type": "display_data"
    }
   ],
   "source": [
    "plt.boxplot(m_df['cons_pc'])\n",
    "plt.ylabel('cons_pc (m)');"
   ]
  },
  {
   "cell_type": "code",
   "execution_count": 299,
   "id": "740315c8",
   "metadata": {},
   "outputs": [
    {
     "name": "stderr",
     "output_type": "stream",
     "text": [
      "/var/folders/78/kf_z610d5vvb7ch9l49_lghh0000gn/T/ipykernel_32096/2880129187.py:1: SettingWithCopyWarning: \n",
      "A value is trying to be set on a copy of a slice from a DataFrame.\n",
      "Try using .loc[row_indexer,col_indexer] = value instead\n",
      "\n",
      "See the caveats in the documentation: https://pandas.pydata.org/pandas-docs/stable/user_guide/indexing.html#returning-a-view-versus-a-copy\n",
      "  m_df['cons_pc_log']=m_df['cons_pc'].apply(np.log)\n"
     ]
    }
   ],
   "source": [
    "m_df['cons_pc_log']=m_df['cons_pc'].apply(np.log)"
   ]
  },
  {
   "cell_type": "code",
   "execution_count": 304,
   "id": "c6a3ec86",
   "metadata": {},
   "outputs": [
    {
     "name": "stderr",
     "output_type": "stream",
     "text": [
      "/var/folders/78/kf_z610d5vvb7ch9l49_lghh0000gn/T/ipykernel_32096/4055436973.py:1: SettingWithCopyWarning: \n",
      "A value is trying to be set on a copy of a slice from a DataFrame.\n",
      "Try using .loc[row_indexer,col_indexer] = value instead\n",
      "\n",
      "See the caveats in the documentation: https://pandas.pydata.org/pandas-docs/stable/user_guide/indexing.html#returning-a-view-versus-a-copy\n",
      "  m_df['rural'] = merged_df['rural']\n"
     ]
    }
   ],
   "source": [
    "m_df['rural'] = merged_df['rural']"
   ]
  },
  {
   "cell_type": "code",
   "execution_count": 306,
   "id": "d29ba3d7",
   "metadata": {},
   "outputs": [],
   "source": [
    "m_df.reset_index(inplace=True)"
   ]
  },
  {
   "cell_type": "code",
   "execution_count": 308,
   "id": "2a1072d9",
   "metadata": {},
   "outputs": [
    {
     "name": "stderr",
     "output_type": "stream",
     "text": [
      "/var/folders/78/kf_z610d5vvb7ch9l49_lghh0000gn/T/ipykernel_32096/3993068285.py:1: SettingWithCopyWarning: \n",
      "A value is trying to be set on a copy of a slice from a DataFrame\n",
      "\n",
      "See the caveats in the documentation: https://pandas.pydata.org/pandas-docs/stable/user_guide/indexing.html#returning-a-view-versus-a-copy\n",
      "  m_df.drop(columns='index',inplace=True)\n"
     ]
    },
    {
     "data": {
      "text/html": [
       "<div>\n",
       "<style scoped>\n",
       "    .dataframe tbody tr th:only-of-type {\n",
       "        vertical-align: middle;\n",
       "    }\n",
       "\n",
       "    .dataframe tbody tr th {\n",
       "        vertical-align: top;\n",
       "    }\n",
       "\n",
       "    .dataframe thead th {\n",
       "        text-align: right;\n",
       "    }\n",
       "</style>\n",
       "<table border=\"1\" class=\"dataframe\">\n",
       "  <thead>\n",
       "    <tr style=\"text-align: right;\">\n",
       "      <th></th>\n",
       "      <th>cons_pc</th>\n",
       "      <th>cluster_lat</th>\n",
       "      <th>cluster_lon</th>\n",
       "      <th>nightlights</th>\n",
       "      <th>cons_pc_log</th>\n",
       "      <th>rural</th>\n",
       "    </tr>\n",
       "  </thead>\n",
       "  <tbody>\n",
       "    <tr>\n",
       "      <th>0</th>\n",
       "      <td>2983.800049</td>\n",
       "      <td>14.353816</td>\n",
       "      <td>37.890876</td>\n",
       "      <td>0.000000</td>\n",
       "      <td>8.000953</td>\n",
       "      <td>1</td>\n",
       "    </tr>\n",
       "    <tr>\n",
       "      <th>1</th>\n",
       "      <td>13578.200195</td>\n",
       "      <td>14.353816</td>\n",
       "      <td>37.890876</td>\n",
       "      <td>0.000000</td>\n",
       "      <td>9.516221</td>\n",
       "      <td>1</td>\n",
       "    </tr>\n",
       "    <tr>\n",
       "      <th>2</th>\n",
       "      <td>9280.444336</td>\n",
       "      <td>14.353816</td>\n",
       "      <td>37.890876</td>\n",
       "      <td>0.000000</td>\n",
       "      <td>9.135665</td>\n",
       "      <td>1</td>\n",
       "    </tr>\n",
       "    <tr>\n",
       "      <th>3</th>\n",
       "      <td>11704.000000</td>\n",
       "      <td>14.353816</td>\n",
       "      <td>37.890876</td>\n",
       "      <td>0.000000</td>\n",
       "      <td>9.367686</td>\n",
       "      <td>1</td>\n",
       "    </tr>\n",
       "    <tr>\n",
       "      <th>4</th>\n",
       "      <td>14974.888672</td>\n",
       "      <td>14.353816</td>\n",
       "      <td>37.890876</td>\n",
       "      <td>0.000000</td>\n",
       "      <td>9.614130</td>\n",
       "      <td>1</td>\n",
       "    </tr>\n",
       "    <tr>\n",
       "      <th>...</th>\n",
       "      <td>...</td>\n",
       "      <td>...</td>\n",
       "      <td>...</td>\n",
       "      <td>...</td>\n",
       "      <td>...</td>\n",
       "      <td>...</td>\n",
       "    </tr>\n",
       "    <tr>\n",
       "      <th>4712</th>\n",
       "      <td>34352.882812</td>\n",
       "      <td>9.746772</td>\n",
       "      <td>42.308967</td>\n",
       "      <td>0.000000</td>\n",
       "      <td>10.444441</td>\n",
       "      <td>1</td>\n",
       "    </tr>\n",
       "    <tr>\n",
       "      <th>4713</th>\n",
       "      <td>66544.000000</td>\n",
       "      <td>9.599389</td>\n",
       "      <td>41.832341</td>\n",
       "      <td>3.519901</td>\n",
       "      <td>11.105619</td>\n",
       "      <td>1</td>\n",
       "    </tr>\n",
       "    <tr>\n",
       "      <th>4714</th>\n",
       "      <td>61628.769531</td>\n",
       "      <td>9.746772</td>\n",
       "      <td>42.308967</td>\n",
       "      <td>0.000000</td>\n",
       "      <td>11.028884</td>\n",
       "      <td>1</td>\n",
       "    </tr>\n",
       "    <tr>\n",
       "      <th>4715</th>\n",
       "      <td>18916.132812</td>\n",
       "      <td>9.746772</td>\n",
       "      <td>42.308967</td>\n",
       "      <td>0.000000</td>\n",
       "      <td>9.847770</td>\n",
       "      <td>1</td>\n",
       "    </tr>\n",
       "    <tr>\n",
       "      <th>4716</th>\n",
       "      <td>22179.785156</td>\n",
       "      <td>9.746772</td>\n",
       "      <td>42.308967</td>\n",
       "      <td>0.000000</td>\n",
       "      <td>10.006937</td>\n",
       "      <td>1</td>\n",
       "    </tr>\n",
       "  </tbody>\n",
       "</table>\n",
       "<p>4717 rows × 6 columns</p>\n",
       "</div>"
      ],
      "text/plain": [
       "           cons_pc  cluster_lat  cluster_lon  nightlights  cons_pc_log  rural\n",
       "0      2983.800049    14.353816    37.890876     0.000000     8.000953      1\n",
       "1     13578.200195    14.353816    37.890876     0.000000     9.516221      1\n",
       "2      9280.444336    14.353816    37.890876     0.000000     9.135665      1\n",
       "3     11704.000000    14.353816    37.890876     0.000000     9.367686      1\n",
       "4     14974.888672    14.353816    37.890876     0.000000     9.614130      1\n",
       "...            ...          ...          ...          ...          ...    ...\n",
       "4712  34352.882812     9.746772    42.308967     0.000000    10.444441      1\n",
       "4713  66544.000000     9.599389    41.832341     3.519901    11.105619      1\n",
       "4714  61628.769531     9.746772    42.308967     0.000000    11.028884      1\n",
       "4715  18916.132812     9.746772    42.308967     0.000000     9.847770      1\n",
       "4716  22179.785156     9.746772    42.308967     0.000000    10.006937      1\n",
       "\n",
       "[4717 rows x 6 columns]"
      ]
     },
     "execution_count": 308,
     "metadata": {},
     "output_type": "execute_result"
    }
   ],
   "source": [
    "m_df.drop(columns='index',inplace=True)\n",
    "m_df"
   ]
  },
  {
   "cell_type": "code",
   "execution_count": 310,
   "id": "84930674",
   "metadata": {},
   "outputs": [
    {
     "data": {
      "text/html": [
       "<div>\n",
       "<style scoped>\n",
       "    .dataframe tbody tr th:only-of-type {\n",
       "        vertical-align: middle;\n",
       "    }\n",
       "\n",
       "    .dataframe tbody tr th {\n",
       "        vertical-align: top;\n",
       "    }\n",
       "\n",
       "    .dataframe thead th {\n",
       "        text-align: right;\n",
       "    }\n",
       "</style>\n",
       "<table border=\"1\" class=\"dataframe\">\n",
       "  <thead>\n",
       "    <tr style=\"text-align: right;\">\n",
       "      <th></th>\n",
       "      <th>cons_pc</th>\n",
       "      <th>nightlights</th>\n",
       "      <th>cons_pc_log</th>\n",
       "      <th>rural</th>\n",
       "    </tr>\n",
       "  </thead>\n",
       "  <tbody>\n",
       "    <tr>\n",
       "      <th>cons_pc</th>\n",
       "      <td>1.000000</td>\n",
       "      <td>0.231471</td>\n",
       "      <td>0.693711</td>\n",
       "      <td>0.220842</td>\n",
       "    </tr>\n",
       "    <tr>\n",
       "      <th>nightlights</th>\n",
       "      <td>0.231471</td>\n",
       "      <td>1.000000</td>\n",
       "      <td>0.243165</td>\n",
       "      <td>0.576345</td>\n",
       "    </tr>\n",
       "    <tr>\n",
       "      <th>cons_pc_log</th>\n",
       "      <td>0.693711</td>\n",
       "      <td>0.243165</td>\n",
       "      <td>1.000000</td>\n",
       "      <td>0.262293</td>\n",
       "    </tr>\n",
       "    <tr>\n",
       "      <th>rural</th>\n",
       "      <td>0.220842</td>\n",
       "      <td>0.576345</td>\n",
       "      <td>0.262293</td>\n",
       "      <td>1.000000</td>\n",
       "    </tr>\n",
       "  </tbody>\n",
       "</table>\n",
       "</div>"
      ],
      "text/plain": [
       "              cons_pc  nightlights  cons_pc_log     rural\n",
       "cons_pc      1.000000     0.231471     0.693711  0.220842\n",
       "nightlights  0.231471     1.000000     0.243165  0.576345\n",
       "cons_pc_log  0.693711     0.243165     1.000000  0.262293\n",
       "rural        0.220842     0.576345     0.262293  1.000000"
      ]
     },
     "execution_count": 310,
     "metadata": {},
     "output_type": "execute_result"
    }
   ],
   "source": [
    "m_df[['cons_pc','nightlights','cons_pc_log','rural']].corr()"
   ]
  },
  {
   "cell_type": "code",
   "execution_count": 302,
   "id": "c5743e82",
   "metadata": {},
   "outputs": [
    {
     "data": {
      "image/png": "[encoded data removed]",
      "text/plain": [
       "<Figure size 640x480 with 1 Axes>"
      ]
     },
     "metadata": {},
     "output_type": "display_data"
    }
   ],
   "source": [
    "sns.regplot(m_df,x=X,y=m_df['cons_pc_log'],scatter_kws={\"color\": \"black\"}, line_kws={\"color\": \"red\"});"
   ]
  },
  {
   "cell_type": "code",
   "execution_count": 303,
   "id": "0485d23a",
   "metadata": {},
   "outputs": [
    {
     "data": {
      "text/html": [
       "<div>\n",
       "<style scoped>\n",
       "    .dataframe tbody tr th:only-of-type {\n",
       "        vertical-align: middle;\n",
       "    }\n",
       "\n",
       "    .dataframe tbody tr th {\n",
       "        vertical-align: top;\n",
       "    }\n",
       "\n",
       "    .dataframe thead th {\n",
       "        text-align: right;\n",
       "    }\n",
       "</style>\n",
       "<table border=\"1\" class=\"dataframe\">\n",
       "  <thead>\n",
       "    <tr style=\"text-align: right;\">\n",
       "      <th></th>\n",
       "      <th>cons_pc</th>\n",
       "      <th>cluster_lat</th>\n",
       "      <th>cluster_lon</th>\n",
       "      <th>nightlights</th>\n",
       "      <th>cons_pc_log</th>\n",
       "    </tr>\n",
       "  </thead>\n",
       "  <tbody>\n",
       "    <tr>\n",
       "      <th>cons_pc</th>\n",
       "      <td>1.000000</td>\n",
       "      <td>-0.022901</td>\n",
       "      <td>0.099863</td>\n",
       "      <td>0.231471</td>\n",
       "      <td>0.693711</td>\n",
       "    </tr>\n",
       "    <tr>\n",
       "      <th>cluster_lat</th>\n",
       "      <td>-0.022901</td>\n",
       "      <td>1.000000</td>\n",
       "      <td>0.157370</td>\n",
       "      <td>0.043378</td>\n",
       "      <td>-0.023015</td>\n",
       "    </tr>\n",
       "    <tr>\n",
       "      <th>cluster_lon</th>\n",
       "      <td>0.099863</td>\n",
       "      <td>0.157370</td>\n",
       "      <td>1.000000</td>\n",
       "      <td>0.092817</td>\n",
       "      <td>0.161010</td>\n",
       "    </tr>\n",
       "    <tr>\n",
       "      <th>nightlights</th>\n",
       "      <td>0.231471</td>\n",
       "      <td>0.043378</td>\n",
       "      <td>0.092817</td>\n",
       "      <td>1.000000</td>\n",
       "      <td>0.243165</td>\n",
       "    </tr>\n",
       "    <tr>\n",
       "      <th>cons_pc_log</th>\n",
       "      <td>0.693711</td>\n",
       "      <td>-0.023015</td>\n",
       "      <td>0.161010</td>\n",
       "      <td>0.243165</td>\n",
       "      <td>1.000000</td>\n",
       "    </tr>\n",
       "  </tbody>\n",
       "</table>\n",
       "</div>"
      ],
      "text/plain": [
       "              cons_pc  cluster_lat  cluster_lon  nightlights  cons_pc_log\n",
       "cons_pc      1.000000    -0.022901     0.099863     0.231471     0.693711\n",
       "cluster_lat -0.022901     1.000000     0.157370     0.043378    -0.023015\n",
       "cluster_lon  0.099863     0.157370     1.000000     0.092817     0.161010\n",
       "nightlights  0.231471     0.043378     0.092817     1.000000     0.243165\n",
       "cons_pc_log  0.693711    -0.023015     0.161010     0.243165     1.000000"
      ]
     },
     "execution_count": 303,
     "metadata": {},
     "output_type": "execute_result"
    }
   ],
   "source": [
    "m_df.corr()"
   ]
  },
  {
   "cell_type": "code",
   "execution_count": 262,
   "id": "f31e8013",
   "metadata": {},
   "outputs": [
    {
     "data": {
      "text/plain": [
       "nightlights\n",
       "0.000000     3343\n",
       "9.744740       15\n",
       "2.779349       15\n",
       "19.024265      15\n",
       "0.027548       15\n",
       "             ... \n",
       "0.226722        1\n",
       "2.723476        1\n",
       "9.478632        1\n",
       "1.908926        1\n",
       "3.519901        1\n",
       "Name: count, Length: 136, dtype: int64"
      ]
     },
     "execution_count": 262,
     "metadata": {},
     "output_type": "execute_result"
    }
   ],
   "source": [
    "m_df.nightlights.value_counts()"
   ]
  },
  {
   "cell_type": "code",
   "execution_count": 263,
   "id": "4760e3c0",
   "metadata": {},
   "outputs": [],
   "source": [
    "scaler_m = MinMaxScaler()\n",
    "X = pd.DataFrame(scaler_m.fit_transform(m_df[['nightlights']]))\n",
    "y = m_df['cons_pc']"
   ]
  },
  {
   "cell_type": "code",
   "execution_count": 264,
   "id": "fc79b4ff",
   "metadata": {},
   "outputs": [],
   "source": [
    "X.rename(columns={0:'nightlights'},inplace=True)"
   ]
  },
  {
   "cell_type": "code",
   "execution_count": 276,
   "id": "9b162b9c",
   "metadata": {},
   "outputs": [
    {
     "data": {
      "text/plain": [
       "(0.0, 600000.0)"
      ]
     },
     "execution_count": 276,
     "metadata": {},
     "output_type": "execute_result"
    },
    {
     "data": {
      "image/png": "[encoded data removed]",
      "text/plain": [
       "<Figure size 640x480 with 1 Axes>"
      ]
     },
     "metadata": {},
     "output_type": "display_data"
    }
   ],
   "source": [
    "sns.regplot(m_df,x=X,y=y,scatter_kws={\"color\": \"black\"}, line_kws={\"color\": \"red\"})\n",
    "plt.ylim(0,600000)"
   ]
  },
  {
   "cell_type": "code",
   "execution_count": 291,
   "id": "fcfe6f45",
   "metadata": {},
   "outputs": [],
   "source": [
    "model_w_0s = LinearRegression()\n",
    "\n",
    "# Define cross-validation strategy\n",
    "kf = KFold(n_splits=10, shuffle=True)\n",
    "\n",
    "# Perform cross-validation\n",
    "scores = cross_val_score(model_w_0s, X, y, cv=kf, scoring=make_scorer(r2_score))"
   ]
  },
  {
   "cell_type": "code",
   "execution_count": 292,
   "id": "870c66d3",
   "metadata": {},
   "outputs": [
    {
     "data": {
      "text/plain": [
       "0.06639521714725012"
      ]
     },
     "execution_count": 292,
     "metadata": {},
     "output_type": "execute_result"
    }
   ],
   "source": [
    "scores.mean()"
   ]
  },
  {
   "cell_type": "code",
   "execution_count": 235,
   "id": "507534f7",
   "metadata": {},
   "outputs": [],
   "source": [
    "def drop_0s(df):\n",
    "    \"\"\"\n",
    "    Elimina el 90% de las filas donde la columna 'nightlights' es igual a 0 de forma aleatoria.\n",
    "\n",
    "    Args:\n",
    "    df (pandas.DataFrame): DataFrame de entrada que contiene una columna 'nightlights'.\n",
    "\n",
    "    Returns:\n",
    "    pandas.DataFrame: DataFrame con el 90% de las filas con 'nightlights' igual a 0 eliminadas.\n",
    "    \"\"\"\n",
    "    # Filtrar filas donde 'nightlights' es igual a 0\n",
    "    zero_nightlights = df[df['nightlights'] == 0]\n",
    "    \n",
    "    # Calcular el número de filas a mantener (10% de las filas con 'nightlights' igual a 0)\n",
    "    n_keep = int(0.1 * len(zero_nightlights))\n",
    "    \n",
    "    # Seleccionar aleatoriamente el 10% de las filas para mantener\n",
    "    rows_to_keep = zero_nightlights.sample(n=n_keep, random_state=42)\n",
    "    \n",
    "    # Filtrar filas donde 'nightlights' no es igual a 0\n",
    "    non_zero_nightlights = df[df['nightlights'] != 0]\n",
    "    \n",
    "    # Concatenar las filas no cero con las 10% de filas cero seleccionadas para mantener\n",
    "    new_df = pd.concat([non_zero_nightlights, rows_to_keep])\n",
    "    \n",
    "    # Opcional: Reordenar el DataFrame final\n",
    "    new_df = new_df.sample(frac=1).reset_index(drop=True)\n",
    "    \n",
    "    return new_df"
   ]
  },
  {
   "cell_type": "code",
   "execution_count": 277,
   "id": "846345fc",
   "metadata": {},
   "outputs": [],
   "source": [
    "m_df_less_0s = drop_0s(m_df)"
   ]
  },
  {
   "cell_type": "code",
   "execution_count": 322,
   "id": "9c43d654",
   "metadata": {},
   "outputs": [
    {
     "data": {
      "image/png": "[encoded data removed]",
      "text/plain": [
       "<Figure size 640x480 with 1 Axes>"
      ]
     },
     "metadata": {},
     "output_type": "display_data"
    }
   ],
   "source": [
    "plt.boxplot(m_df_less_0s['cons_pc'])\n",
    "plt.ylabel('cons_pc');"
   ]
  },
  {
   "cell_type": "code",
   "execution_count": 282,
   "id": "421a8917",
   "metadata": {},
   "outputs": [],
   "source": [
    "X_0s = pd.DataFrame(scaler_m.transform(m_df_less_0s[['nightlights']]))\n",
    "y_0s = m_df_less_0s['cons_pc']"
   ]
  },
  {
   "cell_type": "code",
   "execution_count": 285,
   "id": "6c98f6a1",
   "metadata": {},
   "outputs": [],
   "source": [
    "X_0s.rename(columns={0:'nightlights'},inplace=True)"
   ]
  },
  {
   "cell_type": "code",
   "execution_count": 286,
   "id": "7afc102a",
   "metadata": {},
   "outputs": [
    {
     "data": {
      "text/plain": [
       "(0.0, 600000.0)"
      ]
     },
     "execution_count": 286,
     "metadata": {},
     "output_type": "execute_result"
    },
    {
     "data": {
      "image/png": "[encoded data removed]",
      "text/plain": [
       "<Figure size 640x480 with 1 Axes>"
      ]
     },
     "metadata": {},
     "output_type": "display_data"
    }
   ],
   "source": [
    "sns.regplot(m_df_less_0s,x=X_0s,y=y_0s,scatter_kws={\"color\": \"black\"}, line_kws={\"color\": \"red\"})\n",
    "plt.ylim(0,600000)"
   ]
  },
  {
   "cell_type": "code",
   "execution_count": 298,
   "id": "949ba51e",
   "metadata": {},
   "outputs": [
    {
     "data": {
      "text/html": [
       "<div>\n",
       "<style scoped>\n",
       "    .dataframe tbody tr th:only-of-type {\n",
       "        vertical-align: middle;\n",
       "    }\n",
       "\n",
       "    .dataframe tbody tr th {\n",
       "        vertical-align: top;\n",
       "    }\n",
       "\n",
       "    .dataframe thead th {\n",
       "        text-align: right;\n",
       "    }\n",
       "</style>\n",
       "<table border=\"1\" class=\"dataframe\">\n",
       "  <thead>\n",
       "    <tr style=\"text-align: right;\">\n",
       "      <th></th>\n",
       "      <th>cons_pc</th>\n",
       "      <th>cluster_lat</th>\n",
       "      <th>cluster_lon</th>\n",
       "      <th>nightlights</th>\n",
       "    </tr>\n",
       "  </thead>\n",
       "  <tbody>\n",
       "    <tr>\n",
       "      <th>cons_pc</th>\n",
       "      <td>1.000000</td>\n",
       "      <td>-0.031784</td>\n",
       "      <td>0.039270</td>\n",
       "      <td>0.195904</td>\n",
       "    </tr>\n",
       "    <tr>\n",
       "      <th>cluster_lat</th>\n",
       "      <td>-0.031784</td>\n",
       "      <td>1.000000</td>\n",
       "      <td>0.172395</td>\n",
       "      <td>0.019963</td>\n",
       "    </tr>\n",
       "    <tr>\n",
       "      <th>cluster_lon</th>\n",
       "      <td>0.039270</td>\n",
       "      <td>0.172395</td>\n",
       "      <td>1.000000</td>\n",
       "      <td>0.081693</td>\n",
       "    </tr>\n",
       "    <tr>\n",
       "      <th>nightlights</th>\n",
       "      <td>0.195904</td>\n",
       "      <td>0.019963</td>\n",
       "      <td>0.081693</td>\n",
       "      <td>1.000000</td>\n",
       "    </tr>\n",
       "  </tbody>\n",
       "</table>\n",
       "</div>"
      ],
      "text/plain": [
       "              cons_pc  cluster_lat  cluster_lon  nightlights\n",
       "cons_pc      1.000000    -0.031784     0.039270     0.195904\n",
       "cluster_lat -0.031784     1.000000     0.172395     0.019963\n",
       "cluster_lon  0.039270     0.172395     1.000000     0.081693\n",
       "nightlights  0.195904     0.019963     0.081693     1.000000"
      ]
     },
     "execution_count": 298,
     "metadata": {},
     "output_type": "execute_result"
    }
   ],
   "source": [
    "m_df_less_0s.corr()"
   ]
  },
  {
   "cell_type": "code",
   "execution_count": 295,
   "id": "e010ac85",
   "metadata": {},
   "outputs": [],
   "source": [
    "model_less_0s = LinearRegression()\n",
    "\n",
    "# Define cross-validation strategy\n",
    "kf = KFold(n_splits=10, shuffle=True)\n",
    "\n",
    "# Perform cross-validation\n",
    "scores = cross_val_score(model_less_0s, X_0s, y_0s, cv=kf, scoring=make_scorer(r2_score))"
   ]
  },
  {
   "cell_type": "code",
   "execution_count": 297,
   "id": "c02b06f0",
   "metadata": {},
   "outputs": [
    {
     "data": {
      "text/plain": [
       "0.05173106029649588"
      ]
     },
     "execution_count": 297,
     "metadata": {},
     "output_type": "execute_result"
    }
   ],
   "source": [
    "scores.mean()"
   ]
  },
  {
   "cell_type": "code",
   "execution_count": null,
   "id": "c00cd5e9",
   "metadata": {},
   "outputs": [],
   "source": []
  },
  {
   "cell_type": "code",
   "execution_count": null,
   "id": "997393ad",
   "metadata": {},
   "outputs": [],
   "source": []
  },
  {
   "cell_type": "code",
   "execution_count": null,
   "id": "16937c77",
   "metadata": {},
   "outputs": [],
   "source": []
  },
  {
   "cell_type": "code",
   "execution_count": null,
   "id": "6fc8e3eb",
   "metadata": {},
   "outputs": [],
   "source": []
  },
  {
   "cell_type": "code",
   "execution_count": null,
   "id": "648c6542",
   "metadata": {},
   "outputs": [],
   "source": []
  },
  {
   "cell_type": "code",
   "execution_count": 56,
   "id": "bba821a1",
   "metadata": {},
   "outputs": [],
   "source": [
    "data = pd.read_csv('raw_data/ethiopia_10_by_10_ready.csv', sep=',')"
   ]
  },
  {
   "cell_type": "code",
   "execution_count": 199,
   "id": "bbb7599f",
   "metadata": {},
   "outputs": [
    {
     "data": {
      "text/html": [
       "<div>\n",
       "<style scoped>\n",
       "    .dataframe tbody tr th:only-of-type {\n",
       "        vertical-align: middle;\n",
       "    }\n",
       "\n",
       "    .dataframe tbody tr th {\n",
       "        vertical-align: top;\n",
       "    }\n",
       "\n",
       "    .dataframe thead th {\n",
       "        text-align: right;\n",
       "    }\n",
       "</style>\n",
       "<table border=\"1\" class=\"dataframe\">\n",
       "  <thead>\n",
       "    <tr style=\"text-align: right;\">\n",
       "      <th></th>\n",
       "      <th>country</th>\n",
       "      <th>cluster_lat</th>\n",
       "      <th>cluster_lon</th>\n",
       "      <th>cons_pc</th>\n",
       "      <th>nightlights</th>\n",
       "    </tr>\n",
       "  </thead>\n",
       "  <tbody>\n",
       "    <tr>\n",
       "      <th>0</th>\n",
       "      <td>eth</td>\n",
       "      <td>14.086276</td>\n",
       "      <td>37.983187</td>\n",
       "      <td>7.324780</td>\n",
       "      <td>0.000204</td>\n",
       "    </tr>\n",
       "    <tr>\n",
       "      <th>1</th>\n",
       "      <td>eth</td>\n",
       "      <td>13.670993</td>\n",
       "      <td>37.406426</td>\n",
       "      <td>9.611530</td>\n",
       "      <td>0.000152</td>\n",
       "    </tr>\n",
       "    <tr>\n",
       "      <th>2</th>\n",
       "      <td>eth</td>\n",
       "      <td>10.858521</td>\n",
       "      <td>36.887649</td>\n",
       "      <td>8.676843</td>\n",
       "      <td>0.000600</td>\n",
       "    </tr>\n",
       "    <tr>\n",
       "      <th>3</th>\n",
       "      <td>eth</td>\n",
       "      <td>7.276738</td>\n",
       "      <td>38.115738</td>\n",
       "      <td>6.227012</td>\n",
       "      <td>0.009504</td>\n",
       "    </tr>\n",
       "    <tr>\n",
       "      <th>4</th>\n",
       "      <td>eth</td>\n",
       "      <td>14.129428</td>\n",
       "      <td>39.560886</td>\n",
       "      <td>4.538552</td>\n",
       "      <td>0.000198</td>\n",
       "    </tr>\n",
       "    <tr>\n",
       "      <th>...</th>\n",
       "      <td>...</td>\n",
       "      <td>...</td>\n",
       "      <td>...</td>\n",
       "      <td>...</td>\n",
       "      <td>...</td>\n",
       "    </tr>\n",
       "    <tr>\n",
       "      <th>322</th>\n",
       "      <td>eth</td>\n",
       "      <td>13.445120</td>\n",
       "      <td>39.455448</td>\n",
       "      <td>8.572332</td>\n",
       "      <td>0.095925</td>\n",
       "    </tr>\n",
       "    <tr>\n",
       "      <th>323</th>\n",
       "      <td>eth</td>\n",
       "      <td>8.149280</td>\n",
       "      <td>38.830618</td>\n",
       "      <td>8.392769</td>\n",
       "      <td>0.009988</td>\n",
       "    </tr>\n",
       "    <tr>\n",
       "      <th>324</th>\n",
       "      <td>eth</td>\n",
       "      <td>7.170938</td>\n",
       "      <td>38.601886</td>\n",
       "      <td>15.097178</td>\n",
       "      <td>0.047693</td>\n",
       "    </tr>\n",
       "    <tr>\n",
       "      <th>325</th>\n",
       "      <td>eth</td>\n",
       "      <td>9.220795</td>\n",
       "      <td>42.495224</td>\n",
       "      <td>12.006629</td>\n",
       "      <td>0.000631</td>\n",
       "    </tr>\n",
       "    <tr>\n",
       "      <th>326</th>\n",
       "      <td>eth</td>\n",
       "      <td>7.099243</td>\n",
       "      <td>37.128257</td>\n",
       "      <td>4.733674</td>\n",
       "      <td>0.000554</td>\n",
       "    </tr>\n",
       "  </tbody>\n",
       "</table>\n",
       "<p>327 rows × 5 columns</p>\n",
       "</div>"
      ],
      "text/plain": [
       "    country  cluster_lat  cluster_lon    cons_pc  nightlights\n",
       "0       eth    14.086276    37.983187   7.324780     0.000204\n",
       "1       eth    13.670993    37.406426   9.611530     0.000152\n",
       "2       eth    10.858521    36.887649   8.676843     0.000600\n",
       "3       eth     7.276738    38.115738   6.227012     0.009504\n",
       "4       eth    14.129428    39.560886   4.538552     0.000198\n",
       "..      ...          ...          ...        ...          ...\n",
       "322     eth    13.445120    39.455448   8.572332     0.095925\n",
       "323     eth     8.149280    38.830618   8.392769     0.009988\n",
       "324     eth     7.170938    38.601886  15.097178     0.047693\n",
       "325     eth     9.220795    42.495224  12.006629     0.000631\n",
       "326     eth     7.099243    37.128257   4.733674     0.000554\n",
       "\n",
       "[327 rows x 5 columns]"
      ]
     },
     "execution_count": 199,
     "metadata": {},
     "output_type": "execute_result"
    }
   ],
   "source": [
    "data"
   ]
  },
  {
   "cell_type": "code",
   "execution_count": 67,
   "id": "998654de",
   "metadata": {},
   "outputs": [
    {
     "data": {
      "text/plain": [
       "nightlights\n",
       "0.000000    197\n",
       "0.020875      2\n",
       "0.107431      2\n",
       "0.008249      2\n",
       "0.070480      2\n",
       "           ... \n",
       "0.032912      1\n",
       "0.002156      1\n",
       "0.001243      1\n",
       "0.031277      1\n",
       "0.000624      1\n",
       "Name: count, Length: 322, dtype: int64"
      ]
     },
     "execution_count": 67,
     "metadata": {},
     "output_type": "execute_result"
    }
   ],
   "source": [
    "data['nightlights'].astype('float64').value_counts()"
   ]
  },
  {
   "cell_type": "code",
   "execution_count": 57,
   "id": "adff0dca",
   "metadata": {},
   "outputs": [],
   "source": []
  },
  {
   "cell_type": "code",
   "execution_count": 171,
   "id": "c05c940c",
   "metadata": {},
   "outputs": [
    {
     "data": {
      "text/html": [
       "<div>\n",
       "<style scoped>\n",
       "    .dataframe tbody tr th:only-of-type {\n",
       "        vertical-align: middle;\n",
       "    }\n",
       "\n",
       "    .dataframe tbody tr th {\n",
       "        vertical-align: top;\n",
       "    }\n",
       "\n",
       "    .dataframe thead th {\n",
       "        text-align: right;\n",
       "    }\n",
       "</style>\n",
       "<table border=\"1\" class=\"dataframe\">\n",
       "  <thead>\n",
       "    <tr style=\"text-align: right;\">\n",
       "      <th></th>\n",
       "      <th>country</th>\n",
       "      <th>cluster_lat</th>\n",
       "      <th>cluster_lon</th>\n",
       "      <th>cons_pc</th>\n",
       "      <th>nightlights</th>\n",
       "    </tr>\n",
       "  </thead>\n",
       "  <tbody>\n",
       "    <tr>\n",
       "      <th>0</th>\n",
       "      <td>eth</td>\n",
       "      <td>14.086276</td>\n",
       "      <td>37.983187</td>\n",
       "      <td>7.324780</td>\n",
       "      <td>0.000204</td>\n",
       "    </tr>\n",
       "    <tr>\n",
       "      <th>1</th>\n",
       "      <td>eth</td>\n",
       "      <td>13.670993</td>\n",
       "      <td>37.406426</td>\n",
       "      <td>9.611530</td>\n",
       "      <td>0.000152</td>\n",
       "    </tr>\n",
       "    <tr>\n",
       "      <th>2</th>\n",
       "      <td>eth</td>\n",
       "      <td>10.858521</td>\n",
       "      <td>36.887649</td>\n",
       "      <td>8.676843</td>\n",
       "      <td>0.000600</td>\n",
       "    </tr>\n",
       "  </tbody>\n",
       "</table>\n",
       "</div>"
      ],
      "text/plain": [
       "  country  cluster_lat  cluster_lon   cons_pc  nightlights\n",
       "0     eth    14.086276    37.983187  7.324780     0.000204\n",
       "1     eth    13.670993    37.406426  9.611530     0.000152\n",
       "2     eth    10.858521    36.887649  8.676843     0.000600"
      ]
     },
     "execution_count": 171,
     "metadata": {},
     "output_type": "execute_result"
    }
   ],
   "source": [
    "data = drop_0s(data)\n",
    "data.head(3)"
   ]
  },
  {
   "cell_type": "code",
   "execution_count": 138,
   "id": "744fc774",
   "metadata": {},
   "outputs": [
    {
     "data": {
      "text/plain": [
       "nightlights\n",
       "0.000000    19\n",
       "0.006145     2\n",
       "0.004031     2\n",
       "0.000472     2\n",
       "0.036751     2\n",
       "            ..\n",
       "0.000562     1\n",
       "0.193020     1\n",
       "0.000222     1\n",
       "0.003261     1\n",
       "0.002245     1\n",
       "Name: count, Length: 322, dtype: int64"
      ]
     },
     "execution_count": 138,
     "metadata": {},
     "output_type": "execute_result"
    }
   ],
   "source": [
    "data['nightlights'].value_counts()"
   ]
  },
  {
   "cell_type": "code",
   "execution_count": 139,
   "id": "a5cc573b",
   "metadata": {},
   "outputs": [],
   "source": [
    "# Initiate the scaler\n",
    "scaler = MinMaxScaler()"
   ]
  },
  {
   "cell_type": "code",
   "execution_count": 140,
   "id": "7ade32aa",
   "metadata": {},
   "outputs": [],
   "source": [
    "# Initiate X (apply scaler) and y\n",
    "X = pd.DataFrame(scaler.fit_transform(data[['nightlights']]))\n",
    "y = data['cons_pc']"
   ]
  },
  {
   "cell_type": "code",
   "execution_count": 141,
   "id": "f07feaf8",
   "metadata": {},
   "outputs": [
    {
     "data": {
      "text/plain": [
       "345"
      ]
     },
     "execution_count": 141,
     "metadata": {},
     "output_type": "execute_result"
    }
   ],
   "source": [
    "# Reinstantiate column name on X\n",
    "X.rename(columns={0:'nightlights'},inplace=True)\n",
    "len(X)"
   ]
  },
  {
   "cell_type": "code",
   "execution_count": 142,
   "id": "072765c6",
   "metadata": {},
   "outputs": [
    {
     "data": {
      "image/png": "[encoded data removed]",
      "text/plain": [
       "<Figure size 640x480 with 1 Axes>"
      ]
     },
     "metadata": {},
     "output_type": "display_data"
    }
   ],
   "source": [
    "sns.regplot(x=X,y=y);"
   ]
  },
  {
   "cell_type": "code",
   "execution_count": 143,
   "id": "3d1ee047",
   "metadata": {},
   "outputs": [
    {
     "data": {
      "text/plain": [
       "0.06721150374256121"
      ]
     },
     "execution_count": 143,
     "metadata": {},
     "output_type": "execute_result"
    }
   ],
   "source": [
    "model = LinearRegression()\n",
    "k_folds = KFold(n_splits=5)\n",
    "scores = cross_val_score(model, X, y, cv = k_folds)\n",
    "scores.mean()"
   ]
  },
  {
   "cell_type": "code",
   "execution_count": 144,
   "id": "cc80d58e",
   "metadata": {},
   "outputs": [
    {
     "data": {
      "text/plain": [
       "array([ 0.08346946, -0.06231152,  0.08610719,  0.16824126,  0.06055113])"
      ]
     },
     "execution_count": 144,
     "metadata": {},
     "output_type": "execute_result"
    }
   ],
   "source": [
    "scores"
   ]
  },
  {
   "cell_type": "code",
   "execution_count": 145,
   "id": "31be375f",
   "metadata": {},
   "outputs": [],
   "source": [
    "data_Xy = data[['nightlights','cons_pc']]"
   ]
  },
  {
   "cell_type": "code",
   "execution_count": 146,
   "id": "248992bf",
   "metadata": {},
   "outputs": [
    {
     "data": {
      "text/html": [
       "<div>\n",
       "<style scoped>\n",
       "    .dataframe tbody tr th:only-of-type {\n",
       "        vertical-align: middle;\n",
       "    }\n",
       "\n",
       "    .dataframe tbody tr th {\n",
       "        vertical-align: top;\n",
       "    }\n",
       "\n",
       "    .dataframe thead th {\n",
       "        text-align: right;\n",
       "    }\n",
       "</style>\n",
       "<table border=\"1\" class=\"dataframe\">\n",
       "  <thead>\n",
       "    <tr style=\"text-align: right;\">\n",
       "      <th></th>\n",
       "      <th>nightlights</th>\n",
       "      <th>cons_pc</th>\n",
       "    </tr>\n",
       "  </thead>\n",
       "  <tbody>\n",
       "    <tr>\n",
       "      <th>0</th>\n",
       "      <td>0.011557</td>\n",
       "      <td>9.494947</td>\n",
       "    </tr>\n",
       "    <tr>\n",
       "      <th>1</th>\n",
       "      <td>0.105329</td>\n",
       "      <td>10.780241</td>\n",
       "    </tr>\n",
       "    <tr>\n",
       "      <th>2</th>\n",
       "      <td>0.002172</td>\n",
       "      <td>5.292447</td>\n",
       "    </tr>\n",
       "    <tr>\n",
       "      <th>3</th>\n",
       "      <td>0.000613</td>\n",
       "      <td>8.324623</td>\n",
       "    </tr>\n",
       "    <tr>\n",
       "      <th>4</th>\n",
       "      <td>0.000044</td>\n",
       "      <td>23.640701</td>\n",
       "    </tr>\n",
       "  </tbody>\n",
       "</table>\n",
       "</div>"
      ],
      "text/plain": [
       "   nightlights    cons_pc\n",
       "0     0.011557   9.494947\n",
       "1     0.105329  10.780241\n",
       "2     0.002172   5.292447\n",
       "3     0.000613   8.324623\n",
       "4     0.000044  23.640701"
      ]
     },
     "execution_count": 146,
     "metadata": {},
     "output_type": "execute_result"
    }
   ],
   "source": [
    "data_Xy.head()"
   ]
  },
  {
   "cell_type": "code",
   "execution_count": 147,
   "id": "d58857e3",
   "metadata": {},
   "outputs": [
    {
     "data": {
      "text/html": [
       "<div>\n",
       "<style scoped>\n",
       "    .dataframe tbody tr th:only-of-type {\n",
       "        vertical-align: middle;\n",
       "    }\n",
       "\n",
       "    .dataframe tbody tr th {\n",
       "        vertical-align: top;\n",
       "    }\n",
       "\n",
       "    .dataframe thead th {\n",
       "        text-align: right;\n",
       "    }\n",
       "</style>\n",
       "<table border=\"1\" class=\"dataframe\">\n",
       "  <thead>\n",
       "    <tr style=\"text-align: right;\">\n",
       "      <th></th>\n",
       "      <th>nightlights</th>\n",
       "      <th>cons_pc</th>\n",
       "    </tr>\n",
       "  </thead>\n",
       "  <tbody>\n",
       "    <tr>\n",
       "      <th>nightlights</th>\n",
       "      <td>1.000000</td>\n",
       "      <td>0.348377</td>\n",
       "    </tr>\n",
       "    <tr>\n",
       "      <th>cons_pc</th>\n",
       "      <td>0.348377</td>\n",
       "      <td>1.000000</td>\n",
       "    </tr>\n",
       "  </tbody>\n",
       "</table>\n",
       "</div>"
      ],
      "text/plain": [
       "             nightlights   cons_pc\n",
       "nightlights     1.000000  0.348377\n",
       "cons_pc         0.348377  1.000000"
      ]
     },
     "execution_count": 147,
     "metadata": {},
     "output_type": "execute_result"
    }
   ],
   "source": [
    "data_Xy.corr()"
   ]
  },
  {
   "cell_type": "code",
   "execution_count": 176,
   "id": "27b33c1d",
   "metadata": {},
   "outputs": [],
   "source": [
    "#K-fold CV without data leakage\n",
    "def k_fold_cv(df):\n",
    "    #isolate nightlights and cons_pc columns\n",
    "    df = df[['nightlights','cons_pc']]\n",
    "    \n",
    "    #train test split\n",
    "    train_data, test_data = train_test_split(df, test_size=0.3)\n",
    "\n",
    "    #define scaler\n",
    "    scaler = MinMaxScaler()\n",
    "    \n",
    "    # Ready X's and y's\n",
    "    X_train = pd.DataFrame(scaler.fit_transform(train_data[['nightlights']]))\n",
    "    y_train = train_data['cons_pc']\n",
    "\n",
    "    X_test = pd.DataFrame(scaler.fit_transform(test_data[['nightlights']]))\n",
    "    y_test = test_data['cons_pc']\n",
    "    n_split = 5\n",
    "    len_split = int(df.shape[0]/n_split)\n",
    "\n",
    "    # Initialize the 1st fold\n",
    "    scores = []\n",
    "    start = 0\n",
    "    stop = len_split\n",
    "\n",
    "    # Start the n-split fold CV\n",
    "    for k in range(n_split): # k in [0,1,2,3,4]\n",
    "        data_val = df.iloc[start:stop, :]\n",
    "        data_train = df.drop(index=data_val.index)\n",
    "        y_train = data_train['cons_pc']\n",
    "        X_train = data_train.drop(columns=['cons_pc'])\n",
    "        y_val = data_val['cons_pc']\n",
    "        X_val = data_val.drop(columns=['cons_pc'])\n",
    "        \n",
    "        #fit model\n",
    "        model_k = LinearRegression()\n",
    "        model_k.fit(X_train, y_train)\n",
    "        \n",
    "        #append score to scores list\n",
    "        scores.append(model_k.score(X_val, y_val))\n",
    "        \n",
    "        # Setup next fold\n",
    "        start = stop\n",
    "        stop += len_split\n",
    "\n",
    "    # Display the mean score and the scores standard deviation\n",
    "    print(np.array(scores).mean())\n",
    "    print(np.array(scores).std())"
   ]
  },
  {
   "cell_type": "code",
   "execution_count": 177,
   "id": "49744ef9",
   "metadata": {},
   "outputs": [
    {
     "name": "stdout",
     "output_type": "stream",
     "text": [
      "0.06721150374256121\n",
      "0.07436256239846484\n"
     ]
    }
   ],
   "source": [
    "k_fold_cv(data_Xy)"
   ]
  },
  {
   "cell_type": "code",
   "execution_count": 178,
   "id": "527e4526",
   "metadata": {},
   "outputs": [],
   "source": [
    "data['nightlights'] = scaler.transform(data[['nightlights']])"
   ]
  },
  {
   "cell_type": "code",
   "execution_count": 183,
   "id": "928082fa",
   "metadata": {},
   "outputs": [
    {
     "data": {
      "text/html": [
       "<div>\n",
       "<style scoped>\n",
       "    .dataframe tbody tr th:only-of-type {\n",
       "        vertical-align: middle;\n",
       "    }\n",
       "\n",
       "    .dataframe tbody tr th {\n",
       "        vertical-align: top;\n",
       "    }\n",
       "\n",
       "    .dataframe thead th {\n",
       "        text-align: right;\n",
       "    }\n",
       "</style>\n",
       "<table border=\"1\" class=\"dataframe\">\n",
       "  <thead>\n",
       "    <tr style=\"text-align: right;\">\n",
       "      <th></th>\n",
       "      <th>country</th>\n",
       "      <th>cluster_lat</th>\n",
       "      <th>cluster_lon</th>\n",
       "      <th>cons_pc</th>\n",
       "      <th>nightlights</th>\n",
       "    </tr>\n",
       "  </thead>\n",
       "  <tbody>\n",
       "    <tr>\n",
       "      <th>0</th>\n",
       "      <td>eth</td>\n",
       "      <td>14.086276</td>\n",
       "      <td>37.983187</td>\n",
       "      <td>7.324780</td>\n",
       "      <td>0.000204</td>\n",
       "    </tr>\n",
       "    <tr>\n",
       "      <th>1</th>\n",
       "      <td>eth</td>\n",
       "      <td>13.670993</td>\n",
       "      <td>37.406426</td>\n",
       "      <td>9.611530</td>\n",
       "      <td>0.000152</td>\n",
       "    </tr>\n",
       "    <tr>\n",
       "      <th>2</th>\n",
       "      <td>eth</td>\n",
       "      <td>10.858521</td>\n",
       "      <td>36.887649</td>\n",
       "      <td>8.676843</td>\n",
       "      <td>0.000600</td>\n",
       "    </tr>\n",
       "    <tr>\n",
       "      <th>3</th>\n",
       "      <td>eth</td>\n",
       "      <td>7.276738</td>\n",
       "      <td>38.115738</td>\n",
       "      <td>6.227012</td>\n",
       "      <td>0.009504</td>\n",
       "    </tr>\n",
       "    <tr>\n",
       "      <th>4</th>\n",
       "      <td>eth</td>\n",
       "      <td>14.129428</td>\n",
       "      <td>39.560886</td>\n",
       "      <td>4.538552</td>\n",
       "      <td>0.000198</td>\n",
       "    </tr>\n",
       "    <tr>\n",
       "      <th>...</th>\n",
       "      <td>...</td>\n",
       "      <td>...</td>\n",
       "      <td>...</td>\n",
       "      <td>...</td>\n",
       "      <td>...</td>\n",
       "    </tr>\n",
       "    <tr>\n",
       "      <th>322</th>\n",
       "      <td>eth</td>\n",
       "      <td>13.445120</td>\n",
       "      <td>39.455448</td>\n",
       "      <td>8.572332</td>\n",
       "      <td>0.095925</td>\n",
       "    </tr>\n",
       "    <tr>\n",
       "      <th>323</th>\n",
       "      <td>eth</td>\n",
       "      <td>8.149280</td>\n",
       "      <td>38.830618</td>\n",
       "      <td>8.392769</td>\n",
       "      <td>0.009988</td>\n",
       "    </tr>\n",
       "    <tr>\n",
       "      <th>324</th>\n",
       "      <td>eth</td>\n",
       "      <td>7.170938</td>\n",
       "      <td>38.601886</td>\n",
       "      <td>15.097178</td>\n",
       "      <td>0.047693</td>\n",
       "    </tr>\n",
       "    <tr>\n",
       "      <th>325</th>\n",
       "      <td>eth</td>\n",
       "      <td>9.220795</td>\n",
       "      <td>42.495224</td>\n",
       "      <td>12.006629</td>\n",
       "      <td>0.000631</td>\n",
       "    </tr>\n",
       "    <tr>\n",
       "      <th>326</th>\n",
       "      <td>eth</td>\n",
       "      <td>7.099243</td>\n",
       "      <td>37.128257</td>\n",
       "      <td>4.733674</td>\n",
       "      <td>0.000554</td>\n",
       "    </tr>\n",
       "  </tbody>\n",
       "</table>\n",
       "<p>327 rows × 5 columns</p>\n",
       "</div>"
      ],
      "text/plain": [
       "    country  cluster_lat  cluster_lon    cons_pc  nightlights\n",
       "0       eth    14.086276    37.983187   7.324780     0.000204\n",
       "1       eth    13.670993    37.406426   9.611530     0.000152\n",
       "2       eth    10.858521    36.887649   8.676843     0.000600\n",
       "3       eth     7.276738    38.115738   6.227012     0.009504\n",
       "4       eth    14.129428    39.560886   4.538552     0.000198\n",
       "..      ...          ...          ...        ...          ...\n",
       "322     eth    13.445120    39.455448   8.572332     0.095925\n",
       "323     eth     8.149280    38.830618   8.392769     0.009988\n",
       "324     eth     7.170938    38.601886  15.097178     0.047693\n",
       "325     eth     9.220795    42.495224  12.006629     0.000631\n",
       "326     eth     7.099243    37.128257   4.733674     0.000554\n",
       "\n",
       "[327 rows x 5 columns]"
      ]
     },
     "execution_count": 183,
     "metadata": {},
     "output_type": "execute_result"
    }
   ],
   "source": [
    "data"
   ]
  },
  {
   "cell_type": "code",
   "execution_count": 150,
   "id": "51072256",
   "metadata": {},
   "outputs": [],
   "source": [
    "addis_ab_df = data[\n",
    "    (data['cluster_lat'] >= 8.9) & (data['cluster_lat'] <= 9.1) &\n",
    "    (data['cluster_lon'] >= 38.7) & (data['cluster_lon'] <= 38.9)\n",
    "]"
   ]
  },
  {
   "cell_type": "code",
   "execution_count": 201,
   "id": "7b58748a",
   "metadata": {},
   "outputs": [
    {
     "data": {
      "text/html": [
       "<div>\n",
       "<style scoped>\n",
       "    .dataframe tbody tr th:only-of-type {\n",
       "        vertical-align: middle;\n",
       "    }\n",
       "\n",
       "    .dataframe tbody tr th {\n",
       "        vertical-align: top;\n",
       "    }\n",
       "\n",
       "    .dataframe thead th {\n",
       "        text-align: right;\n",
       "    }\n",
       "</style>\n",
       "<table border=\"1\" class=\"dataframe\">\n",
       "  <thead>\n",
       "    <tr style=\"text-align: right;\">\n",
       "      <th></th>\n",
       "      <th>country</th>\n",
       "      <th>cluster_lat</th>\n",
       "      <th>cluster_lon</th>\n",
       "      <th>cons_pc</th>\n",
       "      <th>nightlights</th>\n",
       "    </tr>\n",
       "  </thead>\n",
       "  <tbody>\n",
       "    <tr>\n",
       "      <th>5</th>\n",
       "      <td>eth</td>\n",
       "      <td>9.052935</td>\n",
       "      <td>38.735117</td>\n",
       "      <td>18.578238</td>\n",
       "      <td>0.542717</td>\n",
       "    </tr>\n",
       "    <tr>\n",
       "      <th>10</th>\n",
       "      <td>eth</td>\n",
       "      <td>9.023574</td>\n",
       "      <td>38.784249</td>\n",
       "      <td>11.709447</td>\n",
       "      <td>0.871594</td>\n",
       "    </tr>\n",
       "    <tr>\n",
       "      <th>12</th>\n",
       "      <td>eth</td>\n",
       "      <td>9.071813</td>\n",
       "      <td>38.729929</td>\n",
       "      <td>13.792394</td>\n",
       "      <td>0.319315</td>\n",
       "    </tr>\n",
       "    <tr>\n",
       "      <th>28</th>\n",
       "      <td>eth</td>\n",
       "      <td>9.015257</td>\n",
       "      <td>38.813750</td>\n",
       "      <td>20.499866</td>\n",
       "      <td>0.702203</td>\n",
       "    </tr>\n",
       "    <tr>\n",
       "      <th>35</th>\n",
       "      <td>eth</td>\n",
       "      <td>9.037509</td>\n",
       "      <td>38.737811</td>\n",
       "      <td>11.936232</td>\n",
       "      <td>0.721796</td>\n",
       "    </tr>\n",
       "    <tr>\n",
       "      <th>42</th>\n",
       "      <td>eth</td>\n",
       "      <td>8.964058</td>\n",
       "      <td>38.721902</td>\n",
       "      <td>20.488550</td>\n",
       "      <td>0.634796</td>\n",
       "    </tr>\n",
       "    <tr>\n",
       "      <th>78</th>\n",
       "      <td>eth</td>\n",
       "      <td>9.061072</td>\n",
       "      <td>38.791779</td>\n",
       "      <td>12.539863</td>\n",
       "      <td>0.288456</td>\n",
       "    </tr>\n",
       "    <tr>\n",
       "      <th>116</th>\n",
       "      <td>eth</td>\n",
       "      <td>8.989751</td>\n",
       "      <td>38.773653</td>\n",
       "      <td>17.768381</td>\n",
       "      <td>1.000000</td>\n",
       "    </tr>\n",
       "    <tr>\n",
       "      <th>117</th>\n",
       "      <td>eth</td>\n",
       "      <td>9.020116</td>\n",
       "      <td>38.733379</td>\n",
       "      <td>18.206968</td>\n",
       "      <td>0.851894</td>\n",
       "    </tr>\n",
       "    <tr>\n",
       "      <th>128</th>\n",
       "      <td>eth</td>\n",
       "      <td>8.957485</td>\n",
       "      <td>38.762128</td>\n",
       "      <td>10.622940</td>\n",
       "      <td>0.755613</td>\n",
       "    </tr>\n",
       "    <tr>\n",
       "      <th>170</th>\n",
       "      <td>eth</td>\n",
       "      <td>8.958031</td>\n",
       "      <td>38.748086</td>\n",
       "      <td>12.825229</td>\n",
       "      <td>0.730208</td>\n",
       "    </tr>\n",
       "    <tr>\n",
       "      <th>175</th>\n",
       "      <td>eth</td>\n",
       "      <td>9.013835</td>\n",
       "      <td>38.741334</td>\n",
       "      <td>14.816839</td>\n",
       "      <td>0.918602</td>\n",
       "    </tr>\n",
       "    <tr>\n",
       "      <th>229</th>\n",
       "      <td>eth</td>\n",
       "      <td>9.047567</td>\n",
       "      <td>38.718242</td>\n",
       "      <td>14.566923</td>\n",
       "      <td>0.515056</td>\n",
       "    </tr>\n",
       "    <tr>\n",
       "      <th>243</th>\n",
       "      <td>eth</td>\n",
       "      <td>8.954261</td>\n",
       "      <td>38.776901</td>\n",
       "      <td>30.038594</td>\n",
       "      <td>0.675716</td>\n",
       "    </tr>\n",
       "    <tr>\n",
       "      <th>246</th>\n",
       "      <td>eth</td>\n",
       "      <td>9.034180</td>\n",
       "      <td>38.842568</td>\n",
       "      <td>23.621166</td>\n",
       "      <td>0.381640</td>\n",
       "    </tr>\n",
       "    <tr>\n",
       "      <th>336</th>\n",
       "      <td>eth</td>\n",
       "      <td>9.018709</td>\n",
       "      <td>38.789997</td>\n",
       "      <td>12.782309</td>\n",
       "      <td>0.880685</td>\n",
       "    </tr>\n",
       "  </tbody>\n",
       "</table>\n",
       "</div>"
      ],
      "text/plain": [
       "    country  cluster_lat  cluster_lon    cons_pc  nightlights\n",
       "5       eth     9.052935    38.735117  18.578238     0.542717\n",
       "10      eth     9.023574    38.784249  11.709447     0.871594\n",
       "12      eth     9.071813    38.729929  13.792394     0.319315\n",
       "28      eth     9.015257    38.813750  20.499866     0.702203\n",
       "35      eth     9.037509    38.737811  11.936232     0.721796\n",
       "42      eth     8.964058    38.721902  20.488550     0.634796\n",
       "78      eth     9.061072    38.791779  12.539863     0.288456\n",
       "116     eth     8.989751    38.773653  17.768381     1.000000\n",
       "117     eth     9.020116    38.733379  18.206968     0.851894\n",
       "128     eth     8.957485    38.762128  10.622940     0.755613\n",
       "170     eth     8.958031    38.748086  12.825229     0.730208\n",
       "175     eth     9.013835    38.741334  14.816839     0.918602\n",
       "229     eth     9.047567    38.718242  14.566923     0.515056\n",
       "243     eth     8.954261    38.776901  30.038594     0.675716\n",
       "246     eth     9.034180    38.842568  23.621166     0.381640\n",
       "336     eth     9.018709    38.789997  12.782309     0.880685"
      ]
     },
     "execution_count": 201,
     "metadata": {},
     "output_type": "execute_result"
    }
   ],
   "source": [
    "addis_ab_df"
   ]
  },
  {
   "cell_type": "code",
   "execution_count": 151,
   "id": "fe89bb45",
   "metadata": {},
   "outputs": [],
   "source": [
    "#Get co-ords for city boundaries of next 10 most populous cities\n",
    "\n",
    "dire_dawa_df = data[\n",
    "    (data['cluster_lat'] >= 9.57) & (data['cluster_lat'] <= 9.64) &\n",
    "    (data['cluster_lon'] >= 41.8) & (data['cluster_lon'] <= 41.9)\n",
    "]\n",
    "mekelle_df = data[\n",
    "    (data['cluster_lat'] >= 13.45) & (data['cluster_lat'] <= 13.53) &\n",
    "    (data['cluster_lon'] >= 39.4) & (data['cluster_lon'] <= 39.5)\n",
    "]\n",
    "adama_df = data[\n",
    "    (data['cluster_lat'] >= 8.49) & (data['cluster_lat'] <= 8.59) &\n",
    "    (data['cluster_lon'] >= 39.2) & (data['cluster_lon'] <= 39.3)\n",
    "]\n",
    "awassa_df = data[\n",
    "    (data['cluster_lat'] >= 7.0) & (data['cluster_lat'] <= 7.11) &\n",
    "    (data['cluster_lon'] >= 38.46) & (data['cluster_lon'] <= 38.53)\n",
    "]\n",
    "bahir_dar_df = data[\n",
    "    (data['cluster_lat'] >= 11.53) & (data['cluster_lat'] <= 11.63) &\n",
    "    (data['cluster_lon'] >= 37.3) & (data['cluster_lon'] <= 37.47)\n",
    "]\n",
    "gonder_df = data[\n",
    "    (data['cluster_lat'] >= 12.57) & (data['cluster_lat'] <= 12.63) &\n",
    "    (data['cluster_lon'] >= 37.43) & (data['cluster_lon'] <= 37.485)\n",
    "]\n",
    "dessie_df = data[\n",
    "    (data['cluster_lat'] >= 11.09) & (data['cluster_lat'] <= 11.17) &\n",
    "    (data['cluster_lon'] >= 39.61) & (data['cluster_lon'] <= 39.66)\n",
    "]\n",
    "jimma_df = data[\n",
    "    (data['cluster_lat'] >= 7.65) & (data['cluster_lat'] <= 7.703) &\n",
    "    (data['cluster_lon'] >= 36.8) & (data['cluster_lon'] <= 36.87)\n",
    "]\n",
    "jijiga_df = data[\n",
    "    (data['cluster_lat'] >= 9.33) & (data['cluster_lat'] <= 9.374) &\n",
    "    (data['cluster_lon'] >= 42.77) & (data['cluster_lon'] <= 42.823)\n",
    "]\n",
    "shashamane_df = data[\n",
    "    (data['cluster_lat'] >= 7.16) & (data['cluster_lat'] <= 7.233) &\n",
    "    (data['cluster_lon'] >= 38.56) & (data['cluster_lon'] <= 38.65)\n",
    "]"
   ]
  },
  {
   "cell_type": "code",
   "execution_count": 152,
   "id": "238a4095",
   "metadata": {},
   "outputs": [],
   "source": [
    "second_eleventh_city_df = pd.concat([dire_dawa_df,mekelle_df,adama_df,awassa_df,bahir_dar_df,gonder_df,dessie_df,jimma_df,jijiga_df,shashamane_df],axis=0)"
   ]
  },
  {
   "cell_type": "code",
   "execution_count": 153,
   "id": "5838670c",
   "metadata": {},
   "outputs": [],
   "source": [
    "second_eleventh_city_df.reset_index(drop=True,inplace=True)"
   ]
  },
  {
   "cell_type": "code",
   "execution_count": 174,
   "id": "05a9bc06",
   "metadata": {},
   "outputs": [
    {
     "data": {
      "text/html": [
       "<div>\n",
       "<style scoped>\n",
       "    .dataframe tbody tr th:only-of-type {\n",
       "        vertical-align: middle;\n",
       "    }\n",
       "\n",
       "    .dataframe tbody tr th {\n",
       "        vertical-align: top;\n",
       "    }\n",
       "\n",
       "    .dataframe thead th {\n",
       "        text-align: right;\n",
       "    }\n",
       "</style>\n",
       "<table border=\"1\" class=\"dataframe\">\n",
       "  <thead>\n",
       "    <tr style=\"text-align: right;\">\n",
       "      <th></th>\n",
       "      <th>country</th>\n",
       "      <th>cluster_lat</th>\n",
       "      <th>cluster_lon</th>\n",
       "      <th>cons_pc</th>\n",
       "      <th>nightlights</th>\n",
       "    </tr>\n",
       "  </thead>\n",
       "  <tbody>\n",
       "    <tr>\n",
       "      <th>0</th>\n",
       "      <td>eth</td>\n",
       "      <td>9.616200</td>\n",
       "      <td>41.849856</td>\n",
       "      <td>10.780241</td>\n",
       "      <td>0.105329</td>\n",
       "    </tr>\n",
       "    <tr>\n",
       "      <th>1</th>\n",
       "      <td>eth</td>\n",
       "      <td>9.593121</td>\n",
       "      <td>41.880643</td>\n",
       "      <td>15.696920</td>\n",
       "      <td>0.112995</td>\n",
       "    </tr>\n",
       "    <tr>\n",
       "      <th>2</th>\n",
       "      <td>eth</td>\n",
       "      <td>9.603999</td>\n",
       "      <td>41.865387</td>\n",
       "      <td>9.959210</td>\n",
       "      <td>0.115454</td>\n",
       "    </tr>\n",
       "  </tbody>\n",
       "</table>\n",
       "</div>"
      ],
      "text/plain": [
       "  country  cluster_lat  cluster_lon    cons_pc  nightlights\n",
       "0     eth     9.616200    41.849856  10.780241     0.105329\n",
       "1     eth     9.593121    41.880643  15.696920     0.112995\n",
       "2     eth     9.603999    41.865387   9.959210     0.115454"
      ]
     },
     "execution_count": 174,
     "metadata": {},
     "output_type": "execute_result"
    }
   ],
   "source": [
    "second_eleventh_city_df.head(3)"
   ]
  },
  {
   "cell_type": "code",
   "execution_count": 160,
   "id": "828205d6",
   "metadata": {},
   "outputs": [
    {
     "name": "stdout",
     "output_type": "stream",
     "text": [
      "-0.6523093182268628\n",
      "0.7973812277748411\n"
     ]
    }
   ],
   "source": [
    "k_fold_cv(second_eleventh_city_df)"
   ]
  },
  {
   "cell_type": "code",
   "execution_count": 161,
   "id": "1e6e6302",
   "metadata": {},
   "outputs": [
    {
     "data": {
      "image/png": "[encoded data removed]",
      "text/plain": [
       "<Figure size 640x480 with 1 Axes>"
      ]
     },
     "metadata": {},
     "output_type": "display_data"
    }
   ],
   "source": [
    "sns.regplot(x=second_eleventh_city_df[['nightlights']],y=second_eleventh_city_df['cons_pc']);"
   ]
  },
  {
   "cell_type": "code",
   "execution_count": 162,
   "id": "78bbfc96",
   "metadata": {},
   "outputs": [
    {
     "data": {
      "text/html": [
       "<div>\n",
       "<style scoped>\n",
       "    .dataframe tbody tr th:only-of-type {\n",
       "        vertical-align: middle;\n",
       "    }\n",
       "\n",
       "    .dataframe tbody tr th {\n",
       "        vertical-align: top;\n",
       "    }\n",
       "\n",
       "    .dataframe thead th {\n",
       "        text-align: right;\n",
       "    }\n",
       "</style>\n",
       "<table border=\"1\" class=\"dataframe\">\n",
       "  <thead>\n",
       "    <tr style=\"text-align: right;\">\n",
       "      <th></th>\n",
       "      <th>cons_pc</th>\n",
       "      <th>nightlights</th>\n",
       "    </tr>\n",
       "  </thead>\n",
       "  <tbody>\n",
       "    <tr>\n",
       "      <th>cons_pc</th>\n",
       "      <td>1.000000</td>\n",
       "      <td>0.299529</td>\n",
       "    </tr>\n",
       "    <tr>\n",
       "      <th>nightlights</th>\n",
       "      <td>0.299529</td>\n",
       "      <td>1.000000</td>\n",
       "    </tr>\n",
       "  </tbody>\n",
       "</table>\n",
       "</div>"
      ],
      "text/plain": [
       "              cons_pc  nightlights\n",
       "cons_pc      1.000000     0.299529\n",
       "nightlights  0.299529     1.000000"
      ]
     },
     "execution_count": 162,
     "metadata": {},
     "output_type": "execute_result"
    }
   ],
   "source": [
    "second_eleventh_city_df.drop(columns=['country','cluster_lat','cluster_lon']).corr()"
   ]
  },
  {
   "cell_type": "code",
   "execution_count": 163,
   "id": "7474bde4",
   "metadata": {},
   "outputs": [
    {
     "data": {
      "image/png": "[encoded data removed]",
      "text/plain": [
       "<Figure size 640x480 with 1 Axes>"
      ]
     },
     "metadata": {},
     "output_type": "display_data"
    }
   ],
   "source": [
    "sns.regplot(x=addis_ab_df[['nightlights']],y=addis_ab_df['cons_pc']);"
   ]
  },
  {
   "cell_type": "code",
   "execution_count": 164,
   "id": "da2dd015",
   "metadata": {},
   "outputs": [
    {
     "data": {
      "text/html": [
       "<div>\n",
       "<style scoped>\n",
       "    .dataframe tbody tr th:only-of-type {\n",
       "        vertical-align: middle;\n",
       "    }\n",
       "\n",
       "    .dataframe tbody tr th {\n",
       "        vertical-align: top;\n",
       "    }\n",
       "\n",
       "    .dataframe thead th {\n",
       "        text-align: right;\n",
       "    }\n",
       "</style>\n",
       "<table border=\"1\" class=\"dataframe\">\n",
       "  <thead>\n",
       "    <tr style=\"text-align: right;\">\n",
       "      <th></th>\n",
       "      <th>cons_pc</th>\n",
       "      <th>nightlights</th>\n",
       "    </tr>\n",
       "  </thead>\n",
       "  <tbody>\n",
       "    <tr>\n",
       "      <th>cons_pc</th>\n",
       "      <td>1.00000</td>\n",
       "      <td>-0.11215</td>\n",
       "    </tr>\n",
       "    <tr>\n",
       "      <th>nightlights</th>\n",
       "      <td>-0.11215</td>\n",
       "      <td>1.00000</td>\n",
       "    </tr>\n",
       "  </tbody>\n",
       "</table>\n",
       "</div>"
      ],
      "text/plain": [
       "             cons_pc  nightlights\n",
       "cons_pc      1.00000     -0.11215\n",
       "nightlights -0.11215      1.00000"
      ]
     },
     "execution_count": 164,
     "metadata": {},
     "output_type": "execute_result"
    }
   ],
   "source": [
    "addis_ab_df.drop(columns=['country','cluster_lat','cluster_lon']).corr()"
   ]
  },
  {
   "cell_type": "code",
   "execution_count": 165,
   "id": "4e3531ae",
   "metadata": {},
   "outputs": [],
   "source": [
    "all_cities_df = pd.concat([addis_ab_df,second_eleventh_city_df],axis=0)"
   ]
  },
  {
   "cell_type": "code",
   "execution_count": 166,
   "id": "04d84383",
   "metadata": {},
   "outputs": [],
   "source": [
    "all_cities_df.reset_index(drop=True,inplace=True)"
   ]
  },
  {
   "cell_type": "code",
   "execution_count": 175,
   "id": "4b6b1011",
   "metadata": {},
   "outputs": [
    {
     "data": {
      "text/html": [
       "<div>\n",
       "<style scoped>\n",
       "    .dataframe tbody tr th:only-of-type {\n",
       "        vertical-align: middle;\n",
       "    }\n",
       "\n",
       "    .dataframe tbody tr th {\n",
       "        vertical-align: top;\n",
       "    }\n",
       "\n",
       "    .dataframe thead th {\n",
       "        text-align: right;\n",
       "    }\n",
       "</style>\n",
       "<table border=\"1\" class=\"dataframe\">\n",
       "  <thead>\n",
       "    <tr style=\"text-align: right;\">\n",
       "      <th></th>\n",
       "      <th>country</th>\n",
       "      <th>cluster_lat</th>\n",
       "      <th>cluster_lon</th>\n",
       "      <th>cons_pc</th>\n",
       "      <th>nightlights</th>\n",
       "    </tr>\n",
       "  </thead>\n",
       "  <tbody>\n",
       "    <tr>\n",
       "      <th>0</th>\n",
       "      <td>eth</td>\n",
       "      <td>9.052935</td>\n",
       "      <td>38.735117</td>\n",
       "      <td>18.578238</td>\n",
       "      <td>0.542717</td>\n",
       "    </tr>\n",
       "    <tr>\n",
       "      <th>1</th>\n",
       "      <td>eth</td>\n",
       "      <td>9.023574</td>\n",
       "      <td>38.784249</td>\n",
       "      <td>11.709447</td>\n",
       "      <td>0.871594</td>\n",
       "    </tr>\n",
       "    <tr>\n",
       "      <th>2</th>\n",
       "      <td>eth</td>\n",
       "      <td>9.071813</td>\n",
       "      <td>38.729929</td>\n",
       "      <td>13.792394</td>\n",
       "      <td>0.319315</td>\n",
       "    </tr>\n",
       "  </tbody>\n",
       "</table>\n",
       "</div>"
      ],
      "text/plain": [
       "  country  cluster_lat  cluster_lon    cons_pc  nightlights\n",
       "0     eth     9.052935    38.735117  18.578238     0.542717\n",
       "1     eth     9.023574    38.784249  11.709447     0.871594\n",
       "2     eth     9.071813    38.729929  13.792394     0.319315"
      ]
     },
     "execution_count": 175,
     "metadata": {},
     "output_type": "execute_result"
    }
   ],
   "source": [
    "all_cities_df.head(3)"
   ]
  },
  {
   "cell_type": "code",
   "execution_count": 168,
   "id": "60d5167c",
   "metadata": {},
   "outputs": [
    {
     "data": {
      "text/html": [
       "<div>\n",
       "<style scoped>\n",
       "    .dataframe tbody tr th:only-of-type {\n",
       "        vertical-align: middle;\n",
       "    }\n",
       "\n",
       "    .dataframe tbody tr th {\n",
       "        vertical-align: top;\n",
       "    }\n",
       "\n",
       "    .dataframe thead th {\n",
       "        text-align: right;\n",
       "    }\n",
       "</style>\n",
       "<table border=\"1\" class=\"dataframe\">\n",
       "  <thead>\n",
       "    <tr style=\"text-align: right;\">\n",
       "      <th></th>\n",
       "      <th>cons_pc</th>\n",
       "      <th>nightlights</th>\n",
       "    </tr>\n",
       "  </thead>\n",
       "  <tbody>\n",
       "    <tr>\n",
       "      <th>cons_pc</th>\n",
       "      <td>1.000000</td>\n",
       "      <td>0.029402</td>\n",
       "    </tr>\n",
       "    <tr>\n",
       "      <th>nightlights</th>\n",
       "      <td>0.029402</td>\n",
       "      <td>1.000000</td>\n",
       "    </tr>\n",
       "  </tbody>\n",
       "</table>\n",
       "</div>"
      ],
      "text/plain": [
       "              cons_pc  nightlights\n",
       "cons_pc      1.000000     0.029402\n",
       "nightlights  0.029402     1.000000"
      ]
     },
     "execution_count": 168,
     "metadata": {},
     "output_type": "execute_result"
    }
   ],
   "source": [
    "all_cities_df.drop(columns=['country','cluster_lat','cluster_lon']).corr()"
   ]
  },
  {
   "cell_type": "code",
   "execution_count": 180,
   "id": "5908a4a6",
   "metadata": {},
   "outputs": [],
   "source": [
    "model_xgb = xgb.XGBRegressor(objective='reg:squarederror')\n",
    "\n",
    "# Define cross-validation strategy\n",
    "kf = KFold(n_splits=5, shuffle=True)\n",
    "\n",
    "# Perform cross-validation\n",
    "scores = cross_val_score(model_xgb, X, y, cv=kf, scoring=make_scorer(r2_score))"
   ]
  },
  {
   "cell_type": "code",
   "execution_count": 181,
   "id": "a265b543",
   "metadata": {},
   "outputs": [
    {
     "data": {
      "text/plain": [
       "array([-1.1784265 , -0.12782852, -0.02441208, -0.63734921, -0.22350478])"
      ]
     },
     "execution_count": 181,
     "metadata": {},
     "output_type": "execute_result"
    }
   ],
   "source": [
    "scores"
   ]
  },
  {
   "cell_type": "code",
   "execution_count": null,
   "id": "c54fa540",
   "metadata": {},
   "outputs": [],
   "source": []
  }
 ],
 "metadata": {
  "kernelspec": {
   "display_name": "Python 3 (ipykernel)",
   "language": "python",
   "name": "python3"
  },
  "language_info": {
   "codemirror_mode": {
    "name": "ipython",
    "version": 3
   },
   "file_extension": ".py",
   "mimetype": "text/x-python",
   "name": "python",
   "nbconvert_exporter": "python",
   "pygments_lexer": "ipython3",
   "version": "3.10.6"
  },
  "toc": {
   "base_numbering": 1,
   "nav_menu": {},
   "number_sections": true,
   "sideBar": true,
   "skip_h1_title": false,
   "title_cell": "Table of Contents",
   "title_sidebar": "Contents",
   "toc_cell": false,
   "toc_position": {},
   "toc_section_display": true,
   "toc_window_display": false
  }
 },
 "nbformat": 4,
 "nbformat_minor": 5
}
